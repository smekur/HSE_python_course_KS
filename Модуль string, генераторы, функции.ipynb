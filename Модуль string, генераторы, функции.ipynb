{
  "nbformat": 4,
  "nbformat_minor": 0,
  "metadata": {
    "colab": {
      "name": "Copy of Sat_02Nov_19.ipynb",
      "provenance": [],
      "collapsed_sections": [],
      "include_colab_link": true
    },
    "kernelspec": {
      "name": "python3",
      "display_name": "Python 3"
    }
  },
  "cells": [
    {
      "cell_type": "markdown",
      "metadata": {
        "id": "view-in-github",
        "colab_type": "text"
      },
      "source": [
        "<a href=\"https://colab.research.google.com/github/smekur/HSE_python_course_KS/blob/master/Copy_of_Sat_02Nov_19.ipynb\" target=\"_parent\"><img src=\"https://colab.research.google.com/assets/colab-badge.svg\" alt=\"Open In Colab\"/></a>"
      ]
    },
    {
      "cell_type": "markdown",
      "metadata": {
        "id": "KwV1Pc4a7nxB",
        "colab_type": "text"
      },
      "source": [
        "##как удобнее работать со строками: модуль string"
      ]
    },
    {
      "cell_type": "code",
      "metadata": {
        "id": "jHNdzedVeJlG",
        "colab_type": "code",
        "outputId": "2e90e4b4-c89c-47af-cb76-9575503139a1",
        "colab": {
          "base_uri": "https://localhost:8080/",
          "height": 51
        }
      },
      "source": [
        "import string\n",
        "\n",
        "my_text = input(\"введите любую фразу, и побольше пунктуации! \")\n",
        "my_text = my_text.translate(str.maketrans('','',string.punctuation))\n",
        "print(my_text)"
      ],
      "execution_count": 0,
      "outputs": [
        {
          "output_type": "stream",
          "text": [
            "введите любую фразу, и побольше пунктуации! gfdhskj.,./!!';'\"\n",
            "gfdhskj\n"
          ],
          "name": "stdout"
        }
      ]
    },
    {
      "cell_type": "markdown",
      "metadata": {
        "id": "Ij5Wc_UG7s7-",
        "colab_type": "text"
      },
      "source": [
        ""
      ]
    },
    {
      "cell_type": "code",
      "metadata": {
        "id": "eLsfnpO3Hrel",
        "colab_type": "code",
        "outputId": "f6ed37c2-e250-497d-a4ab-5a35f7fb3710",
        "colab": {
          "base_uri": "https://localhost:8080/",
          "height": 51
        }
      },
      "source": [
        "import string\n",
        "from string import digits \n",
        "my_text = input(\"введите любую фразу, и побольше пунктуации! \")\n",
        "my_text = my_text.translate(str.maketrans('','',string.punctuation))\n",
        "my_text = my_text.translate(str.maketrans('','',string.digits))\n",
        "print(my_text)"
      ],
      "execution_count": 0,
      "outputs": [
        {
          "output_type": "stream",
          "text": [
            "введите любую фразу, и побольше пунктуации! dsfnkjs,./';324638\n",
            "dsfnkjs\n"
          ],
          "name": "stdout"
        }
      ]
    },
    {
      "cell_type": "markdown",
      "metadata": {
        "id": "Yhw8-87X8s-J",
        "colab_type": "text"
      },
      "source": [
        "##генераторы"
      ]
    },
    {
      "cell_type": "markdown",
      "metadata": {
        "id": "LOYUfNvgLoWa",
        "colab_type": "text"
      },
      "source": [
        "**вспомним из предыдущих занятий:** когда мы создаём список, мы можем брать его элементы один за другим — это называется *итерацией*:"
      ]
    },
    {
      "cell_type": "code",
      "metadata": {
        "id": "W2vnkjMhMAXy",
        "colab_type": "code",
        "outputId": "d37031b0-0c17-4139-997c-29bacb8859bc",
        "colab": {
          "base_uri": "https://localhost:8080/",
          "height": 68
        }
      },
      "source": [
        "test1 = [1, 2, 3]\n",
        "for i in test1 :\n",
        "    print(i)\n"
      ],
      "execution_count": 0,
      "outputs": [
        {
          "output_type": "stream",
          "text": [
            "1\n",
            "2\n",
            "3\n"
          ],
          "name": "stdout"
        }
      ]
    },
    {
      "cell_type": "markdown",
      "metadata": {
        "id": "DULLPnQsOdzE",
        "colab_type": "text"
      },
      "source": [
        "это же можно сделать, создав генератор функцией ```range()```: \n",
        "\n",
        "    у функции три аргумента: (начало,конец,шаг), конечный элемент не включается. \n",
        "    \n",
        "    Сейчас мы записали без шага, поэтому он по дефолту =1. "
      ]
    },
    {
      "cell_type": "code",
      "metadata": {
        "id": "rZSDKVCcOiua",
        "colab_type": "code",
        "outputId": "6b94f121-1976-4f8a-ed10-aa1e2bdb152b",
        "colab": {
          "base_uri": "https://localhost:8080/",
          "height": 68
        }
      },
      "source": [
        "test2 = range(1,4) \n",
        "for i in test2 :\n",
        "    print(i)\n",
        "type(test2)\n"
      ],
      "execution_count": 0,
      "outputs": [
        {
          "output_type": "stream",
          "text": [
            "1\n",
            "3\n"
          ],
          "name": "stdout"
        },
        {
          "output_type": "execute_result",
          "data": {
            "text/plain": [
              "range"
            ]
          },
          "metadata": {
            "tags": []
          },
          "execution_count": 10
        }
      ]
    },
    {
      "cell_type": "code",
      "metadata": {
        "id": "5cDhW-64PyGw",
        "colab_type": "code",
        "outputId": "8b023b08-30bc-4cd3-9b95-d1b443a3b395",
        "colab": {
          "base_uri": "https://localhost:8080/",
          "height": 34
        }
      },
      "source": [
        "# давайте зададим шаг\n",
        "\n",
        "test3 = range (1,10,2) # от 1 до 9 с шагом в 2\n",
        "for i in test3 :\n",
        "    print(i, end=\" \")\n",
        "type(test3)"
      ],
      "execution_count": 0,
      "outputs": [
        {
          "output_type": "stream",
          "text": [
            "10 8 6 4 2 "
          ],
          "name": "stdout"
        },
        {
          "output_type": "execute_result",
          "data": {
            "text/plain": [
              "range"
            ]
          },
          "metadata": {
            "tags": []
          },
          "execution_count": 18
        }
      ]
    },
    {
      "cell_type": "markdown",
      "metadata": {
        "id": "g5WIfV1babNL",
        "colab_type": "text"
      },
      "source": [
        "Заметим, что в предыдущих ячейках переменные test2  и test3 не были листами, в отличие от test1\n",
        "\n",
        "тип объектов test2 и test3 - это генератор.\n",
        "\n",
        "Но мы можем превратить генератор в нужный тип: лист, множество или (даже!) строку"
      ]
    },
    {
      "cell_type": "code",
      "metadata": {
        "id": "el_UbysU8vCb",
        "colab_type": "code",
        "outputId": "d953f92b-c806-4224-f7e0-f8195cbfced0",
        "colab": {
          "base_uri": "https://localhost:8080/",
          "height": 170
        }
      },
      "source": [
        "new1 = range(0,21,5) # от нуля до 20 с шагом 5\n",
        "for i in new1:\n",
        "    print(i)\n",
        "\n",
        "print(\"сначала new1 - это\",type(new1)) # проверяем тип\n",
        "\n",
        "new1 = list(new1) # превращаем в лист\n",
        "print(\"теперь new1 - это\",type(new1), new1) # проверяем тип\n",
        "\n",
        "# еще в лист можно так:\n",
        "#test2 = [test2] # можно раскомментить эту строку\n",
        "\n",
        "# превратим во множество\n",
        "new1 = set(new1)\n",
        "print(\"затем new1 - это\",type(new1), new1) # проверяем тип\n",
        "\n",
        "# превратим в строку\n",
        "new1 = str(new1).strip(\"}{\") \n",
        "print(\"в итоге new1 - это\",type(new1), new1) # проверяем тип\n",
        "# new1[0]"
      ],
      "execution_count": 0,
      "outputs": [
        {
          "output_type": "stream",
          "text": [
            "0\n",
            "5\n",
            "10\n",
            "15\n",
            "20\n",
            "сначала new1 - это <class 'range'>\n",
            "теперь new1 - это <class 'list'> [0, 5, 10, 15, 20]\n",
            "затем new1 - это <class 'set'> {0, 5, 10, 15, 20}\n",
            "в итоге new1 - это <class 'str'> 0, 5, 10, 15, 20\n"
          ],
          "name": "stdout"
        }
      ]
    },
    {
      "cell_type": "markdown",
      "metadata": {
        "id": "VZDhMUO87aGE",
        "colab_type": "text"
      },
      "source": [
        "\n",
        "обратите внимание, что превратив множество в строку, мы также добавили в строку символы { и } в начале и в конце.\n",
        "Если хотите чистую строку из элементов-цифр, \n",
        "добавьте метод .strip() передав ему символы фигурных скобок в качестве аргумента в скобках\n",
        "(можно раскомментить мой кусочек кода в строке 22)"
      ]
    },
    {
      "cell_type": "code",
      "metadata": {
        "id": "sC20y9iaB11n",
        "colab_type": "code",
        "outputId": "fa8f110a-28fe-4991-c8a4-569e2710ed5f",
        "colab": {
          "base_uri": "https://localhost:8080/",
          "height": 85
        }
      },
      "source": [
        "# классический способ использовать генератор\n",
        "for i in range(100): #чтобы не писать 100 значений вручную\n",
        "    if i%30 == 0:\n",
        "        print (i, \"делится на 30 без остатка\")"
      ],
      "execution_count": 0,
      "outputs": [
        {
          "output_type": "stream",
          "text": [
            "0 делится на 30 без остатка\n",
            "30 делится на 30 без остатка\n",
            "60 делится на 30 без остатка\n",
            "90 делится на 30 без остатка\n"
          ],
          "name": "stdout"
        }
      ]
    },
    {
      "cell_type": "code",
      "metadata": {
        "id": "NgBAUfDRjlh8",
        "colab_type": "code",
        "outputId": "49d2b963-3b12-4a27-fad5-8b3f77517178",
        "colab": {
          "base_uri": "https://localhost:8080/",
          "height": 34
        }
      },
      "source": [
        "# генератор паролей\n",
        "\n",
        "import random\n",
        "passw = '' # предварительно создаем переменную для пароля, с типом \"строка\"\n",
        "\n",
        "#пусть в ней будет 12 символов: цифры и латинские буквы двух регистров\n",
        "\n",
        "for x in range(12): \n",
        "    passw = passw + random.choice('123456789qwertyuiopasdfghjklzxcvbnmQWERTYUIOPASDFGHJKLZXCVBNM')\n",
        "    # на каждом из 12 шагов выбираем рандомный символ из списка с букво-цифрами и добавляем в строку\n",
        "print(passw)\n",
        "\n",
        "# запустите ячейку несклько раз: пароли меняются"
      ],
      "execution_count": 0,
      "outputs": [
        {
          "output_type": "stream",
          "text": [
            "xyQX5uiceIKL\n"
          ],
          "name": "stdout"
        }
      ]
    },
    {
      "cell_type": "markdown",
      "metadata": {
        "id": "5C1viYNBKBxc",
        "colab_type": "text"
      },
      "source": [
        "**подводя итог:**\n",
        "\n",
        "генераторы обычно используются, когда:\n",
        "* нужно создать объект из большого количества элементов (чтобы не задавать их вручную)\n",
        "* надо единожды пройтись по итерируемому объекту\n",
        "\n",
        "их особое свойство: они сохраняют свое состояние между итерациями, но по ним можно итерироваться всего один раз\n",
        "\n",
        "    хранят только предыдущий элемент, предел и формулу, по которой вычисляется следующий элемент\n",
        "\n",
        "(подробнее о генераторах можно почитать [здесь](https://realpython.com/introduction-to-python-generators/). [И здесь](https://www.geeksforgeeks.org/use-yield-keyword-instead-return-keyword-python/))\n"
      ]
    },
    {
      "cell_type": "markdown",
      "metadata": {
        "id": "wbFFjClk8waN",
        "colab_type": "text"
      },
      "source": [
        "##Функции\n",
        "\n",
        "\n",
        "Мы с вами написали много небольших программ. А что если вам нужно будет использовать эти программы снова и снова? Например, вы написали код, который хорошо обрабатывает и токенизирует текст. И у вас 1000 текстов, которые нужно обработать. А через месяц приедет еще 1500.\n",
        "\n",
        "    Писать строки кода снова?\n",
        "\n",
        "\n",
        "<img data-image-id=\"1*ZUSN2Xhq7MsEMjCvNOy-Zw.jpeg\" data-width=\"640\" data-height=\"480\" src=\"https://hackernoon.com/hn-images/1*ZUSN2Xhq7MsEMjCvNOy-Zw.jpeg\">\n"
      ]
    },
    {
      "cell_type": "markdown",
      "metadata": {
        "id": "6kMhXS8lKSam",
        "colab_type": "text"
      },
      "source": [
        "нас спасут функции! \n",
        "\n",
        "Функция в python - это такой объект, который что-то принимает (иногда выполняет какое-то действие) и что-то возвращает.\n",
        "\n",
        "То, что принимает, называется *аргументом* и записывается в скобках. Аргументов может быть больше одного. \n",
        "\n",
        "То, что функция возвращает, называется *значением*.\n",
        "\n",
        "\n",
        "Обычно функция определяется с помощью инструкции ```def```, еще нужны скобки и двоеточие\n",
        "\n",
        "Давайте создадим самую простую функцию:"
      ]
    },
    {
      "cell_type": "code",
      "metadata": {
        "id": "L2cPPSNm8xaw",
        "colab_type": "code",
        "colab": {}
      },
      "source": [
        "def hello():\n",
        "    print (\"hello =^_^=\")\n",
        "#return None"
      ],
      "execution_count": 0,
      "outputs": []
    },
    {
      "cell_type": "markdown",
      "metadata": {
        "id": "Mmb32yasZdzX",
        "colab_type": "text"
      },
      "source": [
        "Функция может и не заканчиваться инструкцией return, при этом функция вернет значение None:"
      ]
    },
    {
      "cell_type": "code",
      "metadata": {
        "id": "nOu2GAWXN9b1",
        "colab_type": "code",
        "outputId": "9982f7b3-141d-47c7-93c2-c3b0c6e79e93",
        "colab": {
          "base_uri": "https://localhost:8080/",
          "height": 34
        }
      },
      "source": [
        "hello() # чтобы функция отработала, ее надо вызвать"
      ],
      "execution_count": 0,
      "outputs": [
        {
          "output_type": "stream",
          "text": [
            "hello =^_^=\n"
          ],
          "name": "stdout"
        }
      ]
    },
    {
      "cell_type": "code",
      "metadata": {
        "id": "4bNVEzUnOFPZ",
        "colab_type": "code",
        "colab": {}
      },
      "source": [
        "#  усложним функцию\n",
        "\n",
        "\n",
        "def personal_hello():\n",
        "    name = input(\"Как Вас зовут?\")\n",
        "    print (\"Добрый день,\", name)\n"
      ],
      "execution_count": 0,
      "outputs": []
    },
    {
      "cell_type": "code",
      "metadata": {
        "id": "hrzq20zGOxX9",
        "colab_type": "code",
        "outputId": "e63cdbd7-ef8d-4f46-985e-4da9cdf06550",
        "colab": {
          "base_uri": "https://localhost:8080/",
          "height": 51
        }
      },
      "source": [
        "personal_hello()"
      ],
      "execution_count": 0,
      "outputs": [
        {
          "output_type": "stream",
          "text": [
            "Как Вас зовут?Nnnnn\n",
            "Добрый день, Nnnnn\n"
          ],
          "name": "stdout"
        }
      ]
    },
    {
      "cell_type": "code",
      "metadata": {
        "id": "3nt1yPVfOz6E",
        "colab_type": "code",
        "colab": {}
      },
      "source": [
        "# функция с возвратом значения\n",
        "\n",
        "def add(x,y):\n",
        "    return x+y"
      ],
      "execution_count": 0,
      "outputs": []
    },
    {
      "cell_type": "code",
      "metadata": {
        "id": "Mi1_v9yKPNHu",
        "colab_type": "code",
        "outputId": "8c4be812-afc5-47a5-8e16-da580cde1ae8",
        "colab": {
          "base_uri": "https://localhost:8080/",
          "height": 34
        }
      },
      "source": [
        "add(50,5) # вызвали функцию, передав значения аргументов в скобках"
      ],
      "execution_count": 0,
      "outputs": [
        {
          "output_type": "execute_result",
          "data": {
            "text/plain": [
              "55"
            ]
          },
          "metadata": {
            "tags": []
          },
          "execution_count": 275
        }
      ]
    },
    {
      "cell_type": "code",
      "metadata": {
        "id": "KMjHqxSePUnZ",
        "colab_type": "code",
        "outputId": "908825d8-60ca-4bd0-a72b-3bd7bd00508e",
        "colab": {
          "base_uri": "https://localhost:8080/",
          "height": 34
        }
      },
      "source": [
        "add (\"давайте попробуем\",\" строки тоже\")"
      ],
      "execution_count": 0,
      "outputs": [
        {
          "output_type": "execute_result",
          "data": {
            "text/plain": [
              "'давайте попробуем строки тоже'"
            ]
          },
          "metadata": {
            "tags": []
          },
          "execution_count": 276
        }
      ]
    },
    {
      "cell_type": "code",
      "metadata": {
        "id": "6q3wiVTAPgzW",
        "colab_type": "code",
        "outputId": "bf941668-e0fc-46f4-ccb6-3d91acd1a92b",
        "colab": {
          "base_uri": "https://localhost:8080/",
          "height": 248
        }
      },
      "source": [
        "add (5,\"а так\")"
      ],
      "execution_count": 0,
      "outputs": [
        {
          "output_type": "error",
          "ename": "TypeError",
          "evalue": "ignored",
          "traceback": [
            "\u001b[0;31m---------------------------------------------------------------------------\u001b[0m",
            "\u001b[0;31mTypeError\u001b[0m                                 Traceback (most recent call last)",
            "\u001b[0;32m<ipython-input-26-a0be4656a655>\u001b[0m in \u001b[0;36m<module>\u001b[0;34m()\u001b[0m\n\u001b[0;32m----> 1\u001b[0;31m \u001b[0madd\u001b[0m \u001b[0;34m(\u001b[0m\u001b[0;36m5\u001b[0m\u001b[0;34m,\u001b[0m\u001b[0;34m\"а так\"\u001b[0m\u001b[0;34m)\u001b[0m\u001b[0;34m\u001b[0m\u001b[0;34m\u001b[0m\u001b[0m\n\u001b[0m",
            "\u001b[0;32m<ipython-input-25-33730e4bab24>\u001b[0m in \u001b[0;36madd\u001b[0;34m(x, y)\u001b[0m\n\u001b[1;32m      1\u001b[0m \u001b[0;34m\u001b[0m\u001b[0m\n\u001b[1;32m      2\u001b[0m \u001b[0;32mdef\u001b[0m \u001b[0madd\u001b[0m\u001b[0;34m(\u001b[0m\u001b[0mx\u001b[0m\u001b[0;34m,\u001b[0m\u001b[0my\u001b[0m\u001b[0;34m)\u001b[0m\u001b[0;34m:\u001b[0m\u001b[0;34m\u001b[0m\u001b[0;34m\u001b[0m\u001b[0m\n\u001b[0;32m----> 3\u001b[0;31m     \u001b[0;32mreturn\u001b[0m \u001b[0mx\u001b[0m\u001b[0;34m+\u001b[0m\u001b[0my\u001b[0m\u001b[0;34m\u001b[0m\u001b[0;34m\u001b[0m\u001b[0m\n\u001b[0m",
            "\u001b[0;31mTypeError\u001b[0m: unsupported operand type(s) for +: 'int' and 'str'"
          ]
        }
      ]
    },
    {
      "cell_type": "code",
      "metadata": {
        "id": "fSJDQqkYPkGe",
        "colab_type": "code",
        "outputId": "105a429b-0b2c-494f-a1fb-fd4da216c4f6",
        "colab": {
          "base_uri": "https://localhost:8080/",
          "height": 34
        }
      },
      "source": [
        "add([5,7],[1,1]) #  списки тоже можно складывать, все получится"
      ],
      "execution_count": 0,
      "outputs": [
        {
          "output_type": "execute_result",
          "data": {
            "text/plain": [
              "[5, 7, 1, 1]"
            ]
          },
          "metadata": {
            "tags": []
          },
          "execution_count": 285
        }
      ]
    },
    {
      "cell_type": "code",
      "metadata": {
        "id": "WyN9iWJ7P8QC",
        "colab_type": "code",
        "outputId": "ed2a3bec-5753-4995-f86f-5a741c24dcf6",
        "colab": {
          "base_uri": "https://localhost:8080/",
          "height": 34
        }
      },
      "source": [
        "add((1,3,5),(2,4,6)) # кортежи/таплы можно\n",
        "# type((1,3,5))"
      ],
      "execution_count": 0,
      "outputs": [
        {
          "output_type": "execute_result",
          "data": {
            "text/plain": [
              "(1, 3, 5, 2, 4, 6)"
            ]
          },
          "metadata": {
            "tags": []
          },
          "execution_count": 284
        }
      ]
    },
    {
      "cell_type": "code",
      "metadata": {
        "id": "5rgPun4dPsj-",
        "colab_type": "code",
        "outputId": "acaa84da-cb32-45f5-fad6-bb7118dc63ef",
        "colab": {
          "base_uri": "https://localhost:8080/",
          "height": 249
        }
      },
      "source": [
        "add({1,3,5},{2,4,6}) # а множества нельзя складывать так, как это делает add\n",
        "\n",
        "# а какой метод сработал бы со множествами?"
      ],
      "execution_count": 0,
      "outputs": [
        {
          "output_type": "error",
          "ename": "TypeError",
          "evalue": "ignored",
          "traceback": [
            "\u001b[0;31m---------------------------------------------------------------------------\u001b[0m",
            "\u001b[0;31mTypeError\u001b[0m                                 Traceback (most recent call last)",
            "\u001b[0;32m<ipython-input-280-96ae41cd8c39>\u001b[0m in \u001b[0;36m<module>\u001b[0;34m()\u001b[0m\n\u001b[0;32m----> 1\u001b[0;31m \u001b[0madd\u001b[0m\u001b[0;34m(\u001b[0m\u001b[0;34m{\u001b[0m\u001b[0;36m1\u001b[0m\u001b[0;34m,\u001b[0m\u001b[0;36m3\u001b[0m\u001b[0;34m,\u001b[0m\u001b[0;36m5\u001b[0m\u001b[0;34m}\u001b[0m\u001b[0;34m,\u001b[0m\u001b[0;34m{\u001b[0m\u001b[0;36m2\u001b[0m\u001b[0;34m,\u001b[0m\u001b[0;36m4\u001b[0m\u001b[0;34m,\u001b[0m\u001b[0;36m6\u001b[0m\u001b[0;34m}\u001b[0m\u001b[0;34m)\u001b[0m\u001b[0;34m\u001b[0m\u001b[0;34m\u001b[0m\u001b[0m\n\u001b[0m",
            "\u001b[0;32m<ipython-input-273-33730e4bab24>\u001b[0m in \u001b[0;36madd\u001b[0;34m(x, y)\u001b[0m\n\u001b[1;32m      1\u001b[0m \u001b[0;34m\u001b[0m\u001b[0m\n\u001b[1;32m      2\u001b[0m \u001b[0;32mdef\u001b[0m \u001b[0madd\u001b[0m\u001b[0;34m(\u001b[0m\u001b[0mx\u001b[0m\u001b[0;34m,\u001b[0m\u001b[0my\u001b[0m\u001b[0;34m)\u001b[0m\u001b[0;34m:\u001b[0m\u001b[0;34m\u001b[0m\u001b[0;34m\u001b[0m\u001b[0m\n\u001b[0;32m----> 3\u001b[0;31m     \u001b[0;32mreturn\u001b[0m \u001b[0mx\u001b[0m\u001b[0;34m+\u001b[0m\u001b[0my\u001b[0m\u001b[0;34m\u001b[0m\u001b[0;34m\u001b[0m\u001b[0m\n\u001b[0m",
            "\u001b[0;31mTypeError\u001b[0m: unsupported operand type(s) for +: 'set' and 'set'"
          ]
        }
      ]
    },
    {
      "cell_type": "code",
      "metadata": {
        "id": "I8xmwYnjP1G5",
        "colab_type": "code",
        "outputId": "9aba6005-7923-4475-d467-f741c661f3b9",
        "colab": {
          "base_uri": "https://localhost:8080/",
          "height": 249
        }
      },
      "source": [
        "add({\"Jane\":27,\"Mary\":35},{\"Matthew\":30,\"Dennis\":20}) # и словари сложить не получится"
      ],
      "execution_count": 0,
      "outputs": [
        {
          "output_type": "error",
          "ename": "TypeError",
          "evalue": "ignored",
          "traceback": [
            "\u001b[0;31m---------------------------------------------------------------------------\u001b[0m",
            "\u001b[0;31mTypeError\u001b[0m                                 Traceback (most recent call last)",
            "\u001b[0;32m<ipython-input-286-94ea67566167>\u001b[0m in \u001b[0;36m<module>\u001b[0;34m()\u001b[0m\n\u001b[0;32m----> 1\u001b[0;31m \u001b[0madd\u001b[0m\u001b[0;34m(\u001b[0m\u001b[0;34m{\u001b[0m\u001b[0;34m\"Jane\"\u001b[0m\u001b[0;34m:\u001b[0m\u001b[0;36m27\u001b[0m\u001b[0;34m,\u001b[0m\u001b[0;34m\"Mary\"\u001b[0m\u001b[0;34m:\u001b[0m\u001b[0;36m35\u001b[0m\u001b[0;34m}\u001b[0m\u001b[0;34m,\u001b[0m\u001b[0;34m{\u001b[0m\u001b[0;34m\"Matthew\"\u001b[0m\u001b[0;34m:\u001b[0m\u001b[0;36m30\u001b[0m\u001b[0;34m,\u001b[0m\u001b[0;34m\"Dennis\"\u001b[0m\u001b[0;34m:\u001b[0m\u001b[0;36m20\u001b[0m\u001b[0;34m}\u001b[0m\u001b[0;34m)\u001b[0m \u001b[0;31m# и словари сложить не получится\u001b[0m\u001b[0;34m\u001b[0m\u001b[0;34m\u001b[0m\u001b[0m\n\u001b[0m",
            "\u001b[0;32m<ipython-input-273-33730e4bab24>\u001b[0m in \u001b[0;36madd\u001b[0;34m(x, y)\u001b[0m\n\u001b[1;32m      1\u001b[0m \u001b[0;34m\u001b[0m\u001b[0m\n\u001b[1;32m      2\u001b[0m \u001b[0;32mdef\u001b[0m \u001b[0madd\u001b[0m\u001b[0;34m(\u001b[0m\u001b[0mx\u001b[0m\u001b[0;34m,\u001b[0m\u001b[0my\u001b[0m\u001b[0;34m)\u001b[0m\u001b[0;34m:\u001b[0m\u001b[0;34m\u001b[0m\u001b[0;34m\u001b[0m\u001b[0m\n\u001b[0;32m----> 3\u001b[0;31m     \u001b[0;32mreturn\u001b[0m \u001b[0mx\u001b[0m\u001b[0;34m+\u001b[0m\u001b[0my\u001b[0m\u001b[0;34m\u001b[0m\u001b[0;34m\u001b[0m\u001b[0m\n\u001b[0m",
            "\u001b[0;31mTypeError\u001b[0m: unsupported operand type(s) for +: 'dict' and 'dict'"
          ]
        }
      ]
    },
    {
      "cell_type": "markdown",
      "metadata": {
        "id": "WOBaP70BQ1iF",
        "colab_type": "text"
      },
      "source": [
        "Функция может быть любой сложности и возвращать любые объекты: от строк и чисел до списков, кортежей, множеств, словарей и даже других функций!"
      ]
    },
    {
      "cell_type": "code",
      "metadata": {
        "id": "HbIrUegGQj5M",
        "colab_type": "code",
        "colab": {}
      },
      "source": [
        "def unique(x): # простая функция, выдающая уникальный набор элементов в объекте\n",
        "    x=set(x)\n",
        "    return x"
      ],
      "execution_count": 0,
      "outputs": []
    },
    {
      "cell_type": "code",
      "metadata": {
        "id": "RO-7hY7dRlF3",
        "colab_type": "code",
        "outputId": "f0cfd290-d844-489a-f8e1-2a3c536e6f27",
        "colab": {
          "base_uri": "https://localhost:8080/",
          "height": 34
        }
      },
      "source": [
        "poem  = \"The rose is a rose and was always a rose.\"\n",
        "\n",
        "poem = poem.strip(\".-:!?–,\").lower().split() #предобратобка\n",
        "\n",
        "unique(poem) # множество уникальных токенов "
      ],
      "execution_count": 0,
      "outputs": [
        {
          "output_type": "execute_result",
          "data": {
            "text/plain": [
              "{'a', 'always', 'and', 'is', 'rose', 'the', 'was'}"
            ]
          },
          "metadata": {
            "tags": []
          },
          "execution_count": 291
        }
      ]
    },
    {
      "cell_type": "code",
      "metadata": {
        "id": "rZML1f3_SVau",
        "colab_type": "code",
        "colab": {}
      },
      "source": [
        "def ne_tak_li(): # в теле функции можно задать любое действие (не одно), и даже новую функцию!\n",
        "    def your_phrase(): # создаем функцию, которая существует внутри большой функции\n",
        "        res = input(\"скажите что-нибудь:\")\n",
        "        return res # получили значение\n",
        "    final_res = your_phrase()+\", не так ли?\" #вызвали функцию в функции, получили ее значение, добавили к нему новую строку\n",
        "    return final_res # выдаем финальный результат"
      ],
      "execution_count": 0,
      "outputs": []
    },
    {
      "cell_type": "code",
      "metadata": {
        "id": "Q5VXlraCU8V6",
        "colab_type": "code",
        "outputId": "f5b5b54e-3d4e-4153-cd39-72c2134e2164",
        "colab": {
          "base_uri": "https://localhost:8080/",
          "height": 51
        }
      },
      "source": [
        "ne_tak_li()"
      ],
      "execution_count": 0,
      "outputs": [
        {
          "output_type": "stream",
          "text": [
            "скажите что-нибудь:хороший день\n"
          ],
          "name": "stdout"
        },
        {
          "output_type": "execute_result",
          "data": {
            "text/plain": [
              "'хороший день, не так ли?'"
            ]
          },
          "metadata": {
            "tags": []
          },
          "execution_count": 28
        }
      ]
    },
    {
      "cell_type": "markdown",
      "metadata": {
        "id": "7y1G_xkpZY5s",
        "colab_type": "text"
      },
      "source": [
        ""
      ]
    },
    {
      "cell_type": "code",
      "metadata": {
        "id": "FUN_ywNqU-Cl",
        "colab_type": "code",
        "colab": {}
      },
      "source": [
        "# более полезная функция\n",
        "\n",
        "def normalize(text):\n",
        "    normalized = text.lower().strip(\"!\\\"#$%&'()*+, -./:;<=>?@[\\]^_`{|}~\").split()\n",
        "    return normalized"
      ],
      "execution_count": 0,
      "outputs": []
    },
    {
      "cell_type": "code",
      "metadata": {
        "id": "TZ5Zkha9c0uk",
        "colab_type": "code",
        "outputId": "08d68ab9-010e-42c1-d1cd-4f8c847452ae",
        "colab": {
          "base_uri": "https://localhost:8080/",
          "height": 697
        }
      },
      "source": [
        "# попробуем на тексте: \n",
        "\n",
        "news = \"I had heard that McDonald\\'s never decompose so I just wanted to see if it was true\\\n",
        "or not,\\\" Hjortur Smarason told AFP. This week, it's 10 years since the seemingly\\\n",
        "indestructible meal was purchased, and it barely looks a day older.\"\n",
        "\n",
        "normalize(news) # вызвали функцию, передали переменную с текстом в виде аргумента\n"
      ],
      "execution_count": 0,
      "outputs": [
        {
          "output_type": "execute_result",
          "data": {
            "text/plain": [
              "['i',\n",
              " 'had',\n",
              " 'heard',\n",
              " 'that',\n",
              " \"mcdonald's\",\n",
              " 'never',\n",
              " 'decompose',\n",
              " 'so',\n",
              " 'i',\n",
              " 'just',\n",
              " 'wanted',\n",
              " 'to',\n",
              " 'see',\n",
              " 'if',\n",
              " 'it',\n",
              " 'was',\n",
              " 'trueor',\n",
              " 'not,\"',\n",
              " 'hjortur',\n",
              " 'smarason',\n",
              " 'told',\n",
              " 'afp.',\n",
              " 'this',\n",
              " 'week,',\n",
              " \"it's\",\n",
              " '10',\n",
              " 'years',\n",
              " 'since',\n",
              " 'the',\n",
              " 'seeminglyindestructible',\n",
              " 'meal',\n",
              " 'was',\n",
              " 'purchased,',\n",
              " 'and',\n",
              " 'it',\n",
              " 'barely',\n",
              " 'looks',\n",
              " 'a',\n",
              " 'day',\n",
              " 'older']"
            ]
          },
          "metadata": {
            "tags": []
          },
          "execution_count": 30
        }
      ]
    },
    {
      "cell_type": "markdown",
      "metadata": {
        "id": "kt9JszRTgh4-",
        "colab_type": "text"
      },
      "source": [
        "###Аргументы функции\n",
        "Функция может принимать произвольное количество аргументов (или не принимать вообще). \n",
        "\n",
        "Существуют функции с произвольным числом аргументов, функции с позиционными и именованными аргументами, обязательными и необязательными.\n",
        "\n",
        "давайте разбираться\n",
        "\n",
        "1. позиционные и именованные аргументы"
      ]
    },
    {
      "cell_type": "code",
      "metadata": {
        "id": "dVnd5e7Ge_M4",
        "colab_type": "code",
        "colab": {}
      },
      "source": [
        "def birthday1(name, age):\n",
        "    print( \"С днем рождения , \", name , \"!\", \" Вам сегодня исполняется\", age)"
      ],
      "execution_count": 0,
      "outputs": []
    },
    {
      "cell_type": "markdown",
      "metadata": {
        "id": "X9CQVWnpoGzF",
        "colab_type": "text"
      },
      "source": [
        "**позиционные аргументы**\n",
        "\n",
        "важен порядок ввода"
      ]
    },
    {
      "cell_type": "code",
      "metadata": {
        "id": "kdwjGqLQmduF",
        "colab_type": "code",
        "outputId": "c9abcb8e-afa2-4319-af28-b54f0609ef74",
        "colab": {
          "base_uri": "https://localhost:8080/",
          "height": 34
        }
      },
      "source": [
        "\n",
        "\n",
        "birthday1(\"дорогой друг\" , 1)"
      ],
      "execution_count": 0,
      "outputs": [
        {
          "output_type": "stream",
          "text": [
            "С днем рождения ,  дорогой друг !  Вам сегодня исполняется 1\n"
          ],
          "name": "stdout"
        }
      ]
    },
    {
      "cell_type": "code",
      "metadata": {
        "id": "igl8L9MvnmLk",
        "colab_type": "code",
        "outputId": "0b4c9313-9be7-43a7-bd9f-3e0816fb51d9",
        "colab": {
          "base_uri": "https://localhost:8080/",
          "height": 34
        }
      },
      "source": [
        "#    Проблема позиционных аргументов \n",
        "\n",
        "birthday1(1, \" дорогой друг\") # поменяли аргументы местами"
      ],
      "execution_count": 0,
      "outputs": [
        {
          "output_type": "stream",
          "text": [
            "С днем рождения ,  1 !  Вам сегодня исполняется  дорогой друг\n"
          ],
          "name": "stdout"
        }
      ]
    },
    {
      "cell_type": "markdown",
      "metadata": {
        "id": "o-xxHvGSn3a4",
        "colab_type": "text"
      },
      "source": [
        "**именные**\n",
        "\n",
        "Вне зависимости от порядка, все хорошо."
      ]
    },
    {
      "cell_type": "code",
      "metadata": {
        "id": "atGOHsObmoGy",
        "colab_type": "code",
        "outputId": "dee6d4c3-cd25-4d78-a352-c23811cc568c",
        "colab": {
          "base_uri": "https://localhost:8080/",
          "height": 34
        }
      },
      "source": [
        "birthday1( name = \"дорогой друг\", age = 1) "
      ],
      "execution_count": 0,
      "outputs": [
        {
          "output_type": "stream",
          "text": [
            "С днем рождения ,  дорогой друг !  Вам сегодня исполняется 1\n"
          ],
          "name": "stdout"
        }
      ]
    },
    {
      "cell_type": "code",
      "metadata": {
        "id": "oHbEHLVKmxnw",
        "colab_type": "code",
        "outputId": "a7642b6d-14ef-4920-c914-ae0e1720047d",
        "colab": {
          "base_uri": "https://localhost:8080/",
          "height": 34
        }
      },
      "source": [
        "birthday1(age = 1, name = \"дорогой друг\")"
      ],
      "execution_count": 0,
      "outputs": [
        {
          "output_type": "stream",
          "text": [
            "С днем рождения ,  дорогой друг !  Вам сегодня исполняется 1\n"
          ],
          "name": "stdout"
        }
      ]
    },
    {
      "cell_type": "markdown",
      "metadata": {
        "id": "35XQO46vo9XO",
        "colab_type": "text"
      },
      "source": [
        "Функция может принимать переменное количество позиционных аргументов,\n",
        "\n",
        "тогда в скобках, в поле для аргумента ставится ```*args```:\n",
        "\n",
        "\n"
      ]
    },
    {
      "cell_type": "code",
      "metadata": {
        "id": "h_6eRkMwoz2S",
        "colab_type": "code",
        "colab": {}
      },
      "source": [
        "def arg_func(*args):\n",
        "     return args\n",
        "     "
      ],
      "execution_count": 0,
      "outputs": []
    },
    {
      "cell_type": "markdown",
      "metadata": {
        "id": "2Cw-3d5Vp_IX",
        "colab_type": "text"
      },
      "source": [
        "args - это кортеж из всех переданных аргументов функции"
      ]
    },
    {
      "cell_type": "code",
      "metadata": {
        "id": "WJQUliLVpawM",
        "colab_type": "code",
        "outputId": "6d0bcca5-365c-45ad-f2cb-e53e5703bb20",
        "colab": {
          "base_uri": "https://localhost:8080/",
          "height": 34
        }
      },
      "source": [
        "x = arg_func(2.3,\"Jane\",\"hello\",77)\n",
        "y = arg_func(23,{0,6,8})\n",
        "\n",
        "#что может быть в аргументах? \n",
        "\n",
        "z = x+y\n",
        "print(z)"
      ],
      "execution_count": 0,
      "outputs": [
        {
          "output_type": "stream",
          "text": [
            "(2.3, 'Jane', 'hello', 77, 23, {0, 8, 6})\n"
          ],
          "name": "stdout"
        }
      ]
    },
    {
      "cell_type": "markdown",
      "metadata": {
        "id": "TGQYue3Hr_t1",
        "colab_type": "text"
      },
      "source": [
        "Функция может принимать и произвольное число именованных аргументов\n",
        "\n",
        "тогда перед именем ставится ```**kwargs```:"
      ]
    },
    {
      "cell_type": "code",
      "metadata": {
        "id": "Crz46XlTpkJO",
        "colab_type": "code",
        "colab": {}
      },
      "source": [
        " def kwargs_func(**kwargs):\n",
        "     return kwargs"
      ],
      "execution_count": 0,
      "outputs": []
    },
    {
      "cell_type": "code",
      "metadata": {
        "id": "KcG0djEAsKg8",
        "colab_type": "code",
        "outputId": "551ebe90-b23c-4952-cfe6-793fe294566a",
        "colab": {
          "base_uri": "https://localhost:8080/",
          "height": 34
        }
      },
      "source": [
        "kwargs_func(a=1, b=2, c=3)"
      ],
      "execution_count": 0,
      "outputs": [
        {
          "output_type": "execute_result",
          "data": {
            "text/plain": [
              "{'a': 1, 'b': 2, 'c': 3}"
            ]
          },
          "metadata": {
            "tags": []
          },
          "execution_count": 32
        }
      ]
    },
    {
      "cell_type": "markdown",
      "metadata": {
        "id": "r3xTtBdysbdl",
        "colab_type": "text"
      },
      "source": [
        "переменная kwargs - это словарь!"
      ]
    },
    {
      "cell_type": "markdown",
      "metadata": {
        "id": "Kjx2bycnsi9p",
        "colab_type": "text"
      },
      "source": [
        "### бонус: lambda func"
      ]
    },
    {
      "cell_type": "markdown",
      "metadata": {
        "id": "-AjT1BdWsvvx",
        "colab_type": "text"
      },
      "source": [
        "Анонимные функции:\n",
        "* могут содержать лишь одно действие\n",
        "* выполняются быстрее\n",
        "* не обязательно присваивать переменной (не нужен def)\n",
        "* не требуется return\n",
        "\n",
        "\n",
        "обычно используются для одноразовых функций \n",
        "\n",
        "создаются с помощью ключевого слова ```lambda```"
      ]
    },
    {
      "cell_type": "code",
      "metadata": {
        "id": "tQoxZXdPsWFc",
        "colab_type": "code",
        "colab": {}
      },
      "source": [
        "func = lambda x, y: x + y  # задали (до двоеточия аргументы, после - действие с ними)"
      ],
      "execution_count": 0,
      "outputs": []
    },
    {
      "cell_type": "code",
      "metadata": {
        "id": "XKyQxTNVtTML",
        "colab_type": "code",
        "outputId": "7796ece3-5ad5-48c3-cc34-bad7991aea0f",
        "colab": {
          "base_uri": "https://localhost:8080/",
          "height": 34
        }
      },
      "source": [
        "func(1, 2) # вызываем, подав аргументы"
      ],
      "execution_count": 0,
      "outputs": [
        {
          "output_type": "execute_result",
          "data": {
            "text/plain": [
              "3"
            ]
          },
          "metadata": {
            "tags": []
          },
          "execution_count": 307
        }
      ]
    },
    {
      "cell_type": "code",
      "metadata": {
        "id": "vOoz51D-tgTP",
        "colab_type": "code",
        "outputId": "e1c067e5-90ea-4143-c293-9a58046ed895",
        "colab": {
          "base_uri": "https://localhost:8080/",
          "height": 34
        }
      },
      "source": [
        "func(\"i write\",\" code in Python\") # подаем строки как аргументы, их тоже можно конкатенировать"
      ],
      "execution_count": 0,
      "outputs": [
        {
          "output_type": "execute_result",
          "data": {
            "text/plain": [
              "'i write code in Python'"
            ]
          },
          "metadata": {
            "tags": []
          },
          "execution_count": 308
        }
      ]
    },
    {
      "cell_type": "code",
      "metadata": {
        "id": "XgANxc7htyKZ",
        "colab_type": "code",
        "colab": {}
      },
      "source": [
        "func = lambda *args: [i*2 for i in list(args)] \n",
        "# можно подавать циклы в виде list comprehension"
      ],
      "execution_count": 0,
      "outputs": []
    },
    {
      "cell_type": "code",
      "metadata": {
        "id": "zqEJLXxPuJ0d",
        "colab_type": "code",
        "outputId": "596f878b-c375-480d-8fbb-285d4e9e8182",
        "colab": {
          "base_uri": "https://localhost:8080/",
          "height": 34
        }
      },
      "source": [
        "func(1, 2, 3, 4)"
      ],
      "execution_count": 0,
      "outputs": [
        {
          "output_type": "execute_result",
          "data": {
            "text/plain": [
              "[2, 4, 6, 8]"
            ]
          },
          "metadata": {
            "tags": []
          },
          "execution_count": 310
        }
      ]
    },
    {
      "cell_type": "markdown",
      "metadata": {
        "id": "ylixGHVOvAqB",
        "colab_type": "text"
      },
      "source": [
        "##Classwork"
      ]
    },
    {
      "cell_type": "markdown",
      "metadata": {
        "id": "WbpgWXdHvgV8",
        "colab_type": "text"
      },
      "source": [
        "1.  генератор названий компаний (почти как генератор паролей)"
      ]
    },
    {
      "cell_type": "code",
      "metadata": {
        "id": "lIwa6cOqvcTs",
        "colab_type": "code",
        "outputId": "1fc3b80c-bbf9-4466-c5ae-7f7292be82ba",
        "colab": {
          "base_uri": "https://localhost:8080/",
          "height": 34
        }
      },
      "source": [
        "# генератор названий компаний\n",
        "\n",
        "import random\n",
        "\n",
        "names = [\"пром\",\"агро\",\"торг\",\"урал\",\"север\",\"юг\",\"техно\",\n",
        "\"экспо\",\"метал\",\"нефть\",\"сельхоз\",\"фарм\",\"строй\",\n",
        "\"кредит\",\"алмаз\",\"-девелопмент\",\"развитие\",\"мос\",\n",
        "\"рос\",\"кубань\",\"сибирь\",\"восток\",\"нано\",\"софт\",\n",
        "\"микро\",\"онлайн\",\"инвест\",\"текстиль\",\"цемент\"]\n",
        "\n",
        "# Ваш код ниже\n",
        "company =\"\"\n",
        "for i in range(6):\n",
        "    company = company + random.choice(names) \n",
        "print(company) #пусть в ней будет 6 частей\n",
        "\n",
        "# запустите ячейку несклько раз"
      ],
      "execution_count": 4,
      "outputs": [
        {
          "output_type": "stream",
          "text": [
            "наносибирьторгкредит-девелопменттехно\n"
          ],
          "name": "stdout"
        }
      ]
    },
    {
      "cell_type": "markdown",
      "metadata": {
        "id": "2yJufW6c1J2r",
        "colab_type": "text"
      },
      "source": [
        "2. Транслитератор\n",
        "\n",
        "Напишите программу, которая будет транситерировать текст (собака >> sobaka)\n",
        "\n",
        "Вам нужно: \n",
        "1. написать побуквенный транслитератор с кириллицы на латиницу(здесь нужно ипользовать словарь)\n",
        "\n",
        "2. \"обернуть\" ваш код транслитератора в функцию\n",
        "\n",
        "3. применить функцию к тексту (возьмите любой, на ваш выбор, длиной от 2 до 7 предложений. Хорошая идея - искать в статьях на Википедии)\n",
        "    \n",
        "    3.1. чтобы работать с текстом, сохраните его в переменную\n",
        "\n"
      ]
    },
    {
      "cell_type": "code",
      "metadata": {
        "id": "OY3JW9ZpwAkS",
        "colab_type": "code",
        "outputId": "c08f6df7-ba74-4df1-9009-4aef86099848",
        "colab": {
          "base_uri": "https://localhost:8080/",
          "height": 54
        }
      },
      "source": [
        "# Ваш код здесь:\n",
        "\n",
        "dict = {'а':'a','б':'b','г':'g','е':'e','ё':'yo','ж':'zh','з':'z','и':'i','х':'h','й':'j','к':'k','л':'l','н':'n','т':'t','о':'o','п':'p','р':'r','с':'s','д':'d','у':'u','ф':'f','ц':'ts','ч':'ch','ш':'sh','щ':'shch','ы':'y','э':'e','ю':'ju','я':'ja','ь':\"'\",'ъ':'\"','в':'v','б':'b','н':'n','м':'m',}\n",
        "def translit(text):\n",
        "    text1 = text.lower()\n",
        "    text2= []\n",
        "    for i in text1:\n",
        "        if i in dict:\n",
        "            x = dict[i]\n",
        "            text2.append(x)\n",
        "        else:\n",
        "            text2.append(i)\n",
        "    res = \"\".join(text2)\n",
        "    return res\n",
        "y = \"«Город Всеобщего Благоденствия» — картина российского и советского художника Ефима Честнякова (псевдоним Евфимия Васильевича Самуилова). Полотно — его самое большое известное живописное произведение, дошедшее до нашего времени в отдельных фрагментах и воссозданное усилиями реставраторов Танаева и Голушкина. Различные исследователи творчества Честнякова датируют полотно в широких хронологических рамках между концом XIX и серединой XX века.\"\n",
        "print(translit(y))\n"
      ],
      "execution_count": 1,
      "outputs": [
        {
          "output_type": "stream",
          "text": [
            "«gorod vseobshchego blagodenstvija» — kartina rossijskogo i sovetskogo hudozhnika efima chestnjakova (psevdonim evfimija vasil'evicha samuilova). polotno — ego samoe bol'shoe izvestnoe zhivopisnoe proizvedenie, doshedshee do nashego vremeni v otdel'nyh fragmentah i vossozdannoe usilijami restavratorov tanaeva i golushkina. razlichnye issledovateli tvorchestva chestnjakova datirujut polotno v shirokih hronologicheskih ramkah mezhdu kontsom xix i seredinoj xx veka.\n"
          ],
          "name": "stdout"
        }
      ]
    },
    {
      "cell_type": "code",
      "metadata": {
        "id": "Mm3FYaIJ99GJ",
        "colab_type": "code",
        "colab": {}
      },
      "source": [
        ""
      ],
      "execution_count": 0,
      "outputs": []
    }
  ]
}
