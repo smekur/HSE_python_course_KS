{
  "nbformat": 4,
  "nbformat_minor": 0,
  "metadata": {
    "colab": {
      "name": "Copy of 26oct_19.ipynb",
      "provenance": [],
      "collapsed_sections": [],
      "include_colab_link": true
    },
    "kernelspec": {
      "name": "python3",
      "display_name": "Python 3"
    }
  },
  "cells": [
    {
      "cell_type": "markdown",
      "metadata": {
        "id": "view-in-github",
        "colab_type": "text"
      },
      "source": [
        "<a href=\"https://colab.research.google.com/github/smekur/HSE_python_course_KS/blob/master/Copy_of_26oct_19.ipynb\" target=\"_parent\"><img src=\"https://colab.research.google.com/assets/colab-badge.svg\" alt=\"Open In Colab\"/></a>"
      ]
    },
    {
      "cell_type": "markdown",
      "metadata": {
        "id": "OtLfEjtTf88R",
        "colab_type": "text"
      },
      "source": [
        "## операторы ввода и вывода"
      ]
    },
    {
      "cell_type": "markdown",
      "metadata": {
        "id": "RVp8eISaqTLp",
        "colab_type": "text"
      },
      "source": [
        "1. Вывод на экран нескольких значений\n",
        "\n",
        "    Одним вызовом функции ```print ( ) ```можно печатать на экране несколько значений. Для этого задайте аргументы списком, перечислив их через запятую:"
      ]
    },
    {
      "cell_type": "code",
      "metadata": {
        "id": "E5uJKzVzeWxg",
        "colab_type": "code",
        "outputId": "338c18eb-d891-4c06-e97c-48c168afaf2c",
        "colab": {
          "base_uri": "https://localhost:8080/",
          "height": 34
        }
      },
      "source": [
        "print(\"Три\", \"аргумента\", \"успешно напечатаны\")"
      ],
      "execution_count": 0,
      "outputs": [
        {
          "output_type": "stream",
          "text": [
            "Три аргумента успешно напечатаны\n"
          ],
          "name": "stdout"
        }
      ]
    },
    {
      "cell_type": "markdown",
      "metadata": {
        "id": "ux6R_K_8rR3Y",
        "colab_type": "text"
      },
      "source": [
        "    Иногда аргументы функции (любой, и принта тоже) легче разбить на несколько строк кода, это делается для удобства чтения кода:"
      ]
    },
    {
      "cell_type": "code",
      "metadata": {
        "id": "rXTXwIoos4_g",
        "colab_type": "code",
        "outputId": "05d02649-97bd-4027-c277-514b9d26ead1",
        "colab": {
          "base_uri": "https://localhost:8080/",
          "height": 34
        }
      },
      "source": [
        "print(\"Три\",\n",
        "      \"аргумента\",\n",
        "      \"успешно напечатаны\")"
      ],
      "execution_count": 0,
      "outputs": [
        {
          "output_type": "stream",
          "text": [
            "Три аргумента успешно напечатаны\n"
          ],
          "name": "stdout"
        }
      ]
    },
    {
      "cell_type": "markdown",
      "metadata": {
        "id": "pRHZzBBQthM6",
        "colab_type": "text"
      },
      "source": [
        "2. экранирование\n",
        "\n",
        "    esсаре-последователыюсти (экранированные последовательности) позволяют вставлять в строки специальные символы. Типичную\n",
        "    еsсаре-последовательность образуют два символа: обратный слеш (\\\\) и дополнительный символ.\n",
        "\n",
        "    Какими они бывают? \n",
        "    * \\\\\\ Обратный слеш. Выводит :\\\\\n",
        "    * \\\\' Апостроф, или одиночная кавычка. Выводит : '\n",
        "    * \\\\\" Кавычка. Выводит : \"\n",
        "    * \\n Новая строка . Перемещает курсор в начало следующей строки\n",
        "    * \\t Горизонтальный отступ - символ табуляции. Перемещает курсор вправо на один отступ\n",
        "\n",
        "Давайте попробуем напечатать строку с разными режимами экранирования\n",
        "\n",
        "NB! символы экранирования пишем внутри строки, в её кавычках\n",
        "\n",
        "\n",
        "\n",
        "\n",
        "\n",
        "\n"
      ]
    },
    {
      "cell_type": "code",
      "metadata": {
        "id": "2EBSJ26ywq3w",
        "colab_type": "code",
        "outputId": "2968087f-eadb-4e18-8936-59e39a3e8d1b",
        "colab": {
          "base_uri": "https://localhost:8080/",
          "height": 151
        }
      },
      "source": [
        "print(\"1:\", \"wow i can modify output now\") # классика\n",
        "print(\"2:\",\"\\\\wow i can modify output now\") # добавили бэкслеш\n",
        "print(\"3:\",\"he said \\'wow i can modify output now'\") # добавили кавычки (кавычки в кавычках, we need to go deeper!)\n",
        "print(\"4:\",\"wow i can \\\"modify\\\" output now\") # еще один вариант с кавычками\n",
        "print(\"5:\",\"wow \\ni can modify \\noutput now\") # перенос строки\n",
        "print(\"6:\",\"\\twow i can modify output now\") # табуляция\n"
      ],
      "execution_count": 0,
      "outputs": [
        {
          "output_type": "stream",
          "text": [
            "1: wow i can modify output now\n",
            "2: \\wow i can modify output now\n",
            "3: he said 'wow i can modify output now'\n",
            "4: wow i can \"modify\" output now\n",
            "5: wow \n",
            "i can modify \n",
            "output now\n",
            "6: \twow i can modify output now\n"
          ],
          "name": "stdout"
        }
      ]
    },
    {
      "cell_type": "markdown",
      "metadata": {
        "id": "JXDTrGHNz8I2",
        "colab_type": "text"
      },
      "source": [
        "3. альтернатива для ```print()```\n",
        "\n",
        "    иногда Вас может ожидать ситуация, когда Вы хотите посмотреть на данные, но печатать их полностью очень долго, а частями - неинформативно. На помощь приходит функция ```display()```. Помогает в случаях работы с большими данными"
      ]
    },
    {
      "cell_type": "code",
      "metadata": {
        "id": "y8QdaNWpz-So",
        "colab_type": "code",
        "cellView": "form",
        "outputId": "3a2d5604-70c0-496a-8b2d-86f89af77d67",
        "colab": {
          "base_uri": "https://localhost:8080/",
          "height": 34
        }
      },
      "source": [
        "#@title\n",
        "\n",
        "text = \"i am text\" #наши данные пока не очень большие, но все впереди\n",
        "display(text)"
      ],
      "execution_count": 0,
      "outputs": [
        {
          "output_type": "display_data",
          "data": {
            "text/plain": [
              "'i am text'"
            ]
          },
          "metadata": {
            "tags": []
          }
        }
      ]
    },
    {
      "cell_type": "markdown",
      "metadata": {
        "id": "yaUt0Chfzk_Z",
        "colab_type": "text"
      },
      "source": [
        "Хорошо, выводить текст (красиво) мы теперь умеем. А как вводить? Для этого есть функция ```input()```\n",
        "\n",
        "Функция принимает текст, который пользователь вводит с клавиатуры (в предлагаемый на экране строковый аргумент). После запуска ячейки *(или нажатия Run, если Вы в PyCharm, или нажатия Enter, если вы в интерактивном режиме питона из терминала)*\n",
        "функция ```input()``` возвратит на экран строку, которую мы ей подали."
      ]
    },
    {
      "cell_type": "code",
      "metadata": {
        "id": "GcM3830AzkF2",
        "colab_type": "code",
        "outputId": "299df476-9692-4f34-86e1-68e426127dba",
        "colab": {
          "base_uri": "https://localhost:8080/",
          "height": 34
        }
      },
      "source": [
        "name = input (\"напишите что угодно: \")\n"
      ],
      "execution_count": 0,
      "outputs": [
        {
          "output_type": "stream",
          "text": [
            "напишите что угодно: ссс\n"
          ],
          "name": "stdout"
        }
      ]
    },
    {
      "cell_type": "markdown",
      "metadata": {
        "id": "CX-aPirI4IGC",
        "colab_type": "text"
      },
      "source": [
        "Давайте используем это, чтобы сделать персонализированное приветствие"
      ]
    },
    {
      "cell_type": "code",
      "metadata": {
        "id": "rixeKn1o4XSr",
        "colab_type": "code",
        "outputId": "8d2f4e1c-d7fe-41cf-b355-11d6ed3ff0b4",
        "colab": {
          "base_uri": "https://localhost:8080/",
          "height": 50
        }
      },
      "source": [
        "name = input(\"Здравствуйте! Как Вас зовут? \")\n",
        "print(\"Приятно познакомиться,\",name)"
      ],
      "execution_count": 0,
      "outputs": [
        {
          "output_type": "stream",
          "text": [
            "Здравствуйте! Как Вас зовут? ии\n",
            "Приятно познакомиться, ии\n"
          ],
          "name": "stdout"
        }
      ]
    },
    {
      "cell_type": "markdown",
      "metadata": {
        "id": "X89hZucz-Zcp",
        "colab_type": "text"
      },
      "source": [
        "<img alt=\"Картинки по запросу &quot;personalized ai meme&quot;&quot;\" class=\"n3VNCb\" src=\"https://pics.me.me/we-used-machine-learning-algorithms-to-greet-the-user-with-56245903.png\" data-noaft=\"1\" jsname=\"HiaYvf\" jsaction=\"load:XAeZkd;\" style=\"width: 317.385px; height: 471px; margin: 0px;\">"
      ]
    },
    {
      "cell_type": "markdown",
      "metadata": {
        "id": "kt2nYlkcgCnu",
        "colab_type": "text"
      },
      "source": [
        "## списки\n",
        "\n",
        "изменяемые итерируемые коллекции объектов произвольных типов. Записываются в квадратных скобках [  ]"
      ]
    },
    {
      "cell_type": "code",
      "metadata": {
        "id": "1chs7uBGgF7z",
        "colab_type": "code",
        "colab": {}
      },
      "source": [
        "my_list = [5,\"строки тоже можно\",7.09,\"lalala\"] # в списке могут быть элементы разных типов\n"
      ],
      "execution_count": 0,
      "outputs": []
    },
    {
      "cell_type": "markdown",
      "metadata": {
        "id": "Ti8qZ1StKKR8",
        "colab_type": "text"
      },
      "source": [
        "как мы можем создать лист?"
      ]
    },
    {
      "cell_type": "code",
      "metadata": {
        "id": "uw8pm_elKN-c",
        "colab_type": "code",
        "outputId": "85daaa8e-d595-4699-bedb-7de084bc3c81",
        "colab": {
          "base_uri": "https://localhost:8080/",
          "height": 34
        }
      },
      "source": [
        " # способ 1: обработать любой итерируемый объект встроенной функцией list()\n",
        " \n",
        " list('saturday') # возвращает лист с набором элементов, по которым итерировался в строке"
      ],
      "execution_count": 0,
      "outputs": [
        {
          "output_type": "execute_result",
          "data": {
            "text/plain": [
              "['s', 'a', 't', 'u', 'r', 'd', 'a', 'y']"
            ]
          },
          "metadata": {
            "tags": []
          },
          "execution_count": 8
        }
      ]
    },
    {
      "cell_type": "code",
      "metadata": {
        "id": "aeH_8xKJWtxK",
        "colab_type": "code",
        "colab": {}
      },
      "source": [
        "# способ 2: создать пустой лист и добавить в него элементы\n",
        "test = []  # Пустой список, задали литералом [].  Давайте в него что-нибудь добавим."
      ],
      "execution_count": 0,
      "outputs": []
    },
    {
      "cell_type": "markdown",
      "metadata": {
        "id": "R2bMV2sXXa71",
        "colab_type": "text"
      },
      "source": [
        "####методы списков"
      ]
    },
    {
      "cell_type": "code",
      "metadata": {
        "id": "Ru-E3cY0Xpno",
        "colab_type": "code",
        "outputId": "c2b23c26-1aec-4cee-b756-c0f680312ca0",
        "colab": {
          "base_uri": "https://localhost:8080/",
          "height": 34
        }
      },
      "source": [
        "test.append(\"hi\")\t#Добавляет элемент в конец списка. Элемент можно изменять\n",
        "print(test)"
      ],
      "execution_count": 0,
      "outputs": [
        {
          "output_type": "stream",
          "text": [
            "['hi']\n"
          ],
          "name": "stdout"
        }
      ]
    },
    {
      "cell_type": "code",
      "metadata": {
        "id": "eDkkKpPzbQmn",
        "colab_type": "code",
        "outputId": "0a5ed660-f1d6-49a2-b7f4-99320d030f2c",
        "colab": {
          "base_uri": "https://localhost:8080/",
          "height": 34
        }
      },
      "source": [
        "test.extend([\"Jane\",\"Jack\"])\t#Расширяет список list, добавляя в конец все элементы списка L\n",
        "test"
      ],
      "execution_count": 0,
      "outputs": [
        {
          "output_type": "execute_result",
          "data": {
            "text/plain": [
              "['hi', 'Jane', 'Jack']"
            ]
          },
          "metadata": {
            "tags": []
          },
          "execution_count": 11
        }
      ]
    },
    {
      "cell_type": "code",
      "metadata": {
        "id": "YwVzP0NYbTKp",
        "colab_type": "code",
        "outputId": "bb4e4862-a688-4882-98a7-b494c908358c",
        "colab": {
          "base_uri": "https://localhost:8080/",
          "height": 34
        }
      },
      "source": [
        "#аргументы в скобках: i-ый элемент(место) и значение, которое хотим вставить на это место\n",
        "test.insert(0, 56) # на 0е место вставили число 56\n",
        "test"
      ],
      "execution_count": 0,
      "outputs": [
        {
          "output_type": "execute_result",
          "data": {
            "text/plain": [
              "[56, 'hi', 'Jane', 'Jack']"
            ]
          },
          "metadata": {
            "tags": []
          },
          "execution_count": 12
        }
      ]
    },
    {
      "cell_type": "code",
      "metadata": {
        "id": "ORhHmP_LbVBu",
        "colab_type": "code",
        "outputId": "9ec27de3-d6e5-47df-c5af-4107bc830883",
        "colab": {
          "base_uri": "https://localhost:8080/",
          "height": 230
        }
      },
      "source": [
        "test.remove(14)\t#Удаляет первый элемент в списке, имеющий значение, переданное в скобках.\n",
        "test\n",
        "\n",
        "# Выдает ValueError, если такого элемента не существует в списке\n",
        "# test.remove(90) # раскомментьте эту строку, чтобы посмотреть, как работает ошибка\n"
      ],
      "execution_count": 0,
      "outputs": [
        {
          "output_type": "error",
          "ename": "ValueError",
          "evalue": "ignored",
          "traceback": [
            "\u001b[0;31m---------------------------------------------------------------------------\u001b[0m",
            "\u001b[0;31mValueError\u001b[0m                                Traceback (most recent call last)",
            "\u001b[0;32m<ipython-input-13-ba7b6eda6085>\u001b[0m in \u001b[0;36m<module>\u001b[0;34m()\u001b[0m\n\u001b[0;32m----> 1\u001b[0;31m \u001b[0mtest\u001b[0m\u001b[0;34m.\u001b[0m\u001b[0mremove\u001b[0m\u001b[0;34m(\u001b[0m\u001b[0;36m14\u001b[0m\u001b[0;34m)\u001b[0m \u001b[0;31m#Удаляет первый элемент в списке, имеющий значение, переданное в скобках.\u001b[0m\u001b[0;34m\u001b[0m\u001b[0;34m\u001b[0m\u001b[0m\n\u001b[0m\u001b[1;32m      2\u001b[0m \u001b[0mtest\u001b[0m\u001b[0;34m\u001b[0m\u001b[0;34m\u001b[0m\u001b[0m\n\u001b[1;32m      3\u001b[0m \u001b[0;34m\u001b[0m\u001b[0m\n\u001b[1;32m      4\u001b[0m \u001b[0;31m# Выдает ValueError, если такого элемента не существует в списке\u001b[0m\u001b[0;34m\u001b[0m\u001b[0;34m\u001b[0m\u001b[0;34m\u001b[0m\u001b[0m\n\u001b[1;32m      5\u001b[0m \u001b[0;31m# test.remove(90) # раскомментьте эту строку, чтобы посмотреть, как работает ошибка\u001b[0m\u001b[0;34m\u001b[0m\u001b[0;34m\u001b[0m\u001b[0;34m\u001b[0m\u001b[0m\n",
            "\u001b[0;31mValueError\u001b[0m: list.remove(x): x not in list"
          ]
        }
      ]
    },
    {
      "cell_type": "code",
      "metadata": {
        "id": "4aSnm9AQbXfa",
        "colab_type": "code",
        "outputId": "67c96dfd-5320-4553-e9c0-c54de00ab461",
        "colab": {
          "base_uri": "https://localhost:8080/",
          "height": 50
        }
      },
      "source": [
        "print(test)\n",
        "test.index('Jane') #Возвращает положение элемента со значением, заданным в скобках. \n",
        "#Если таких элементов больше одного, возвращает первый подошедший\t\n"
      ],
      "execution_count": 0,
      "outputs": [
        {
          "output_type": "stream",
          "text": [
            "[56, 'hi', 'Jane', 'Jack']\n"
          ],
          "name": "stdout"
        },
        {
          "output_type": "execute_result",
          "data": {
            "text/plain": [
              "2"
            ]
          },
          "metadata": {
            "tags": []
          },
          "execution_count": 14
        }
      ]
    },
    {
      "cell_type": "code",
      "metadata": {
        "id": "HFUVPNe7bZZi",
        "colab_type": "code",
        "colab": {}
      },
      "source": [
        "test.count(\"Jane\")\t# Возвращает количество элементов со значением, заданным в скобках"
      ],
      "execution_count": 0,
      "outputs": []
    },
    {
      "cell_type": "code",
      "metadata": {
        "id": "iHq2SgvAbah0",
        "colab_type": "code",
        "colab": {}
      },
      "source": [
        "# test.sort()\t#Сортирует список (не работает для элементов разных типов в одном листе)\n",
        "\n",
        "test2 = [1.7,9,0,347,88,2]\n",
        "test2.sort()\n",
        "test2"
      ],
      "execution_count": 0,
      "outputs": []
    },
    {
      "cell_type": "code",
      "metadata": {
        "id": "b9rEJN3hbcEe",
        "colab_type": "code",
        "colab": {}
      },
      "source": [
        "test.reverse()\t#Разворачивает список\n",
        "test\n"
      ],
      "execution_count": 0,
      "outputs": []
    },
    {
      "cell_type": "code",
      "metadata": {
        "id": "K8sqmhJHbhoM",
        "colab_type": "code",
        "colab": {}
      },
      "source": [
        "test.clear()\t#Очищает список\n",
        "test"
      ],
      "execution_count": 0,
      "outputs": []
    },
    {
      "cell_type": "markdown",
      "metadata": {
        "id": "pase1Hbc-omO",
        "colab_type": "text"
      },
      "source": [
        "модуль  random"
      ]
    },
    {
      "cell_type": "code",
      "metadata": {
        "id": "Bd7PtY2O-n8w",
        "colab_type": "code",
        "colab": {}
      },
      "source": [
        "import random # импортировали модуль в тетрадку/проект в Pycharm\n",
        "seq = [\"Jane\",\"Mary\",\"Alice\",\"Leo\",\"Nick\",\"Genevieve\",\"Sam\",\"yes, you\",\"and bye\"]\n",
        "chosen_name = random.choice(seq) \n",
        "# random.choice(x) выбирает в произвольном порядке один из элементов в последовательности, заданной в скобках, как аргумент метода\n",
        "# сохраним результат в переменную chosen_name (хорошо, когда названия переменных информативны)\n",
        "\n",
        "print(\"hello,\",chosen_name) \n",
        "# выводим на печать: фиксированную строку \"hello,\" и переменную, в которой результат выбора элемента из списка\n",
        "\n",
        "#запустите эту ячейку несколько раз, имена будут меняться"
      ],
      "execution_count": 0,
      "outputs": []
    },
    {
      "cell_type": "markdown",
      "metadata": {
        "id": "anf7YO01gIbP",
        "colab_type": "text"
      },
      "source": [
        "## if (оператор ветвления) \n",
        "общая схема такая: сначала ```if``` с условным выражением, далее одна или более необязательных частей ```elif```, и в конце необязательная часть ```else```.\n",
        "\n",
        "\n",
        "    if test1:            # если условие1\n",
        "        state1           # выполни действие1\n",
        "    elif test2:          # если условие2\n",
        "        state2           # выполни действие2\n",
        "    else:                # в остальных случаях\n",
        "        state3           # выполни действие3"
      ]
    },
    {
      "cell_type": "code",
      "metadata": {
        "id": "qVgtREF7gKgT",
        "colab_type": "code",
        "colab": {}
      },
      "source": [
        "# пример:\n",
        "inp = input(\"введите число, а я угадаю, четное оно или нет:\") # сохраняем в переменную значение, введенное с клавиатуры\n",
        "# функция input() выдает строки, а нам нужно для дальнейщих операций нужен тип данных \"число\". Преобразуем строку в число!\n",
        "inp = int(inp) # просто перезапишем переменную, применив к ней функцию int(). Она превращает числовую строку в число\n",
        "\n",
        "# Дальше создадим условие:\n",
        "if inp%2 == 0: # если остаток от деления числа, сохранненного в inp на 2 равен нулю (т.е. если число делится на 2 без остатка)\n",
        "    print('да, число', inp,\"четное\") # выводим ответ: строки и переменную, где лежит наше число\n",
        "else: # в ином случае\n",
        "    print('число',inp, 'нечетное') # также выводим ответ: строки и переменную, где лежит наше число\n",
        "\n",
        "# Вопрос для размышлений: что будет, если мы можем введем в поле input строку с буквами или знаками препинания?"
      ],
      "execution_count": 0,
      "outputs": []
    },
    {
      "cell_type": "code",
      "metadata": {
        "id": "EdaYTFunmZTn",
        "colab_type": "code",
        "colab": {}
      },
      "source": [
        "# определитель усталости\n",
        "\n",
        "a = float(input('по шкале от 0 до 10, напишите, насколько Вы устали: '))\n",
        "if a < 0.7:\n",
        "    print('Кажется, Вы совсем не устали')\n",
        "elif 0.7 <= a <= 6.8:\n",
        "    print('Вы средненько устали')\n",
        "# более тонкая настройка?\n",
        "else:\n",
        "    print('Скорее идите отдыхать!')\n"
      ],
      "execution_count": 0,
      "outputs": []
    },
    {
      "cell_type": "code",
      "metadata": {
        "id": "SUHa_7YVtGSq",
        "colab_type": "code",
        "colab": {}
      },
      "source": [
        "#короткий способ записать if\\else\n",
        "# действие1 если условие верно, иначе действие2\n",
        "x = input(\"какой кофе вы любите? \") \n",
        "\n",
        "print(\"я тоже!\") if x in [\"американо\",\"латте\",\"колдбрю\"] else print(\"отличный выбор\")\n",
        "\n"
      ],
      "execution_count": 0,
      "outputs": []
    },
    {
      "cell_type": "markdown",
      "metadata": {
        "id": "GwBwQmwpxS3f",
        "colab_type": "text"
      },
      "source": [
        "### Логические операторы: (True|False)\n",
        "\n",
        "```x and y```\n",
        "True, если оба значения x и y = True\n",
        "\n",
        "```x or y```\n",
        "True, если хотя бы одно из значений x или y = True\n",
        "\n",
        "```not x```\n",
        "True, если x = False\n",
        "\n",
        "\n",
        "True = 1\n",
        "False = 0"
      ]
    },
    {
      "cell_type": "markdown",
      "metadata": {
        "id": "5poDiBHfgLLW",
        "colab_type": "text"
      },
      "source": [
        "## цикл while\n",
        "\n",
        "будет исполняться, пока условие = True"
      ]
    },
    {
      "cell_type": "markdown",
      "metadata": {
        "id": "YjtDPTnHeE_I",
        "colab_type": "text"
      },
      "source": [
        ""
      ]
    },
    {
      "cell_type": "code",
      "metadata": {
        "id": "87cypz05gUlD",
        "colab_type": "code",
        "colab": {}
      },
      "source": [
        "i = 5 # вне цикла создали переменную, равную 5\n",
        "while i < 15: # начало цикла: до тех пор, пока i меньше 15\n",
        "    print(i) # тело цикла: печатаем i\n",
        "    i = i + 2 # тело цикла: пересохраняем значение i, прибавив к нему 2, повторяем сначала"
      ],
      "execution_count": 0,
      "outputs": []
    },
    {
      "cell_type": "markdown",
      "metadata": {
        "id": "W7UMswxs1-9M",
        "colab_type": "text"
      },
      "source": [
        "будьте осторожны с условием ```while True: ```, это бесконечный цикл"
      ]
    },
    {
      "cell_type": "code",
      "metadata": {
        "id": "oXS40-lQ2HMA",
        "colab_type": "code",
        "colab": {}
      },
      "source": [
        "n = 2 # вне цикла создали переменную, равную 2\n",
        "while n !=1: # пока n не равно единице\n",
        "    print(n) # печатем n\n",
        "    n += 1 #прибавляем единицу, повторяем сначала\n",
        "\n",
        "# цикл будет бесконечным, т.к. мы начали с двойки и задали условие \"пока результат меньше единицы,увеличивай на 1\"\n",
        "\n",
        "#прервать выполнение можно, нажав на стоп"
      ],
      "execution_count": 0,
      "outputs": []
    },
    {
      "cell_type": "markdown",
      "metadata": {
        "id": "F8B_SWjegVng",
        "colab_type": "text"
      },
      "source": [
        "## цикл for\n",
        "\n",
        "проходится по любому итерируемому объекту (например строке или списку), выполняет заданное нами действие. Действие задается в **теле цикла**"
      ]
    },
    {
      "cell_type": "code",
      "metadata": {
        "id": "gQtQSDLpgXqb",
        "colab_type": "code",
        "colab": {}
      },
      "source": [
        "# детектор пробелов в тексте\n",
        "\n",
        "string = 'hello i now know a lot of cool stuff about cycles'\n",
        "for s in string:\n",
        "    print([s],s.isspace()) # метод из прошлого занятия, позволяет проверить символ, возвращает True или False"
      ],
      "execution_count": 0,
      "outputs": []
    },
    {
      "cell_type": "code",
      "metadata": {
        "id": "sljONgJC69cL",
        "colab_type": "code",
        "colab": {}
      },
      "source": [
        "# генератор фраз \n",
        "seq2 = ['boring', 'dangerous','sad','beautiful','silly','difficult']\n",
        "\n",
        "for i in ['coffee','tea','wine','juice']:\n",
        "    i = \"i never drink \"+ i +\" alone, because it's too\"\n",
        "    print(i,random.choice(seq2))"
      ],
      "execution_count": 0,
      "outputs": []
    },
    {
      "cell_type": "markdown",
      "metadata": {
        "id": "EB34xQZ7cwAb",
        "colab_type": "text"
      },
      "source": [
        "операторы break и continue\n",
        "\n",
        "\n",
        "<img class=\"fancybox-image\" src=\"http://labs-org.ru/wp-content/uploads/2016/05/1-6.png\">"
      ]
    },
    {
      "cell_type": "markdown",
      "metadata": {
        "id": "ssmN_-5pBGlU",
        "colab_type": "text"
      },
      "source": [
        "оператор break - позволяет прервать цикл (работает для for и while)"
      ]
    },
    {
      "cell_type": "code",
      "metadata": {
        "id": "ziwXy_XcBFS3",
        "colab_type": "code",
        "colab": {}
      },
      "source": [
        "seq2 = ['boring', 'dangerous','sad','beautiful','silly','difficult']\n",
        "\n",
        "for i in ['coffee','tea','wine','juice']:\n",
        "    i = \"i never drink \"+ i +\" alone, because it's too\"\n",
        "    print(i,random.choice(seq2))\n",
        "    #break  # запустите ячейку сначала с этой строкой в виде комментария, а затем раскомментьте и запустите еще раз"
      ],
      "execution_count": 0,
      "outputs": []
    },
    {
      "cell_type": "markdown",
      "metadata": {
        "id": "P30DWz1lBzFF",
        "colab_type": "text"
      },
      "source": [
        "оператор continue - начинает следующий проход цикла, минуя оставшееся тело цикла (работает для for и while)"
      ]
    },
    {
      "cell_type": "code",
      "metadata": {
        "id": "__tAmgMdB0PA",
        "colab_type": "code",
        "colab": {}
      },
      "source": [
        "for i in 'hello world': # проходимся по всем элементам строки\n",
        "    if i == 'o': # если элемент == o, то возвращаемся к следующему, не выполняя остаток цикла для o\n",
        "        continue\n",
        "    print(i * 2, end='')"
      ],
      "execution_count": 0,
      "outputs": []
    },
    {
      "cell_type": "markdown",
      "metadata": {
        "id": "yo6HyYX6gI73",
        "colab_type": "text"
      },
      "source": [
        "## бонус"
      ]
    },
    {
      "cell_type": "code",
      "metadata": {
        "id": "WGhh5EnSgx6P",
        "colab_type": "code",
        "colab": {}
      },
      "source": [
        "#@title сюрприз для гуру списков и циклов :) (кликните на ячейку два раза) { output-height: 10, display-mode: \"form\" }\n",
        "#@еще способ\n",
        "# еще один способ задать список - это использовать генератор списков, он же list comprehension\n",
        " cool_list = [i * 3 for i in 'hello']\n",
        " print(cool_list)\n",
        "\n",
        "# более сложные случаи\n",
        "new_fff = [c * 3 for c in 'list' if c != 'i']\n",
        "\n",
        "\n",
        "new_ccc = [c + d for c in 'list' if c != 'i' for d in 'spam' if d != 'a']\n",
        "\n",
        "# в сложных случаях лучше пользоваться обычным циклом for для генерации списков, он более читабельный"
      ],
      "execution_count": 0,
      "outputs": []
    },
    {
      "cell_type": "markdown",
      "metadata": {
        "id": "ZCJWKHGVgY05",
        "colab_type": "text"
      },
      "source": [
        "## homework\n",
        "\n",
        "Ниже представлены два варианта домашнего задания: easy mode и hard mode. Вы можете выбрать один из понравившихся (они оцениваются одинаково, без учета сложности). Hard mode создан для тех, кому может быть скучно с легкими заданиями."
      ]
    },
    {
      "cell_type": "markdown",
      "metadata": {
        "id": "npH9oiwdu8qi",
        "colab_type": "text"
      },
      "source": [
        "###**easy** mode\n",
        "\n",
        "\n"
      ]
    },
    {
      "cell_type": "markdown",
      "metadata": {
        "id": "YJzLcQ97Z7_o",
        "colab_type": "text"
      },
      "source": [
        "Задание 1: (условия if-elif-else)\n",
        "\n",
        "В ячейке ниже - код \"определителя усталости\" (мы разбирали его на паре). Сейчас он работает, но его можно улучшить: \n",
        "1.  добавьте условие, чтобы если пользователь вводит число больше 10, мы говорили ему, что так нельзя\n",
        "\n",
        "2. добавьте еще одно или два условия, чтобы датчик категорий усталости был еще точнее\n",
        "\n",
        "*Подсказка: может помочь нарисовать себе схему условий на бумаге*"
      ]
    },
    {
      "cell_type": "code",
      "metadata": {
        "id": "i6qZ_C4YgfCz",
        "colab_type": "code",
        "colab": {}
      },
      "source": [
        "# определитель усталости\n",
        "\n",
        "a = float(input('по шкале от 0 до 10, напишите, насколько Вы устали: '))\n",
        "if a < 0.7:\n",
        "    print('Кажется, Вы совсем не устали')\n",
        "elif 0.7 <= a <= 6.8:\n",
        "    print('Вы средненько устали')\n",
        "# Ваш код дальше:\n"
      ],
      "execution_count": 0,
      "outputs": []
    },
    {
      "cell_type": "markdown",
      "metadata": {
        "id": "IDFL32t-cA5I",
        "colab_type": "text"
      },
      "source": [
        "Задание 2: (цикл while)\n",
        "\n",
        "a) Напишите код, который будет считать от 100 до 0 с шагом в 10и выводом промежуточных результатов на экран (то есть, 100-90-80-70...10-0). Когда дойдет до финиша, на экран должно выводиться сообщение, что программа завершилась. (здесь вам поможет ```print()``` )\n",
        "\n",
        "*Подсказка: вне цикла создайте переменную, равную 100, а в цикле цикле задайте шаг. Не забудьте про вывод результата о завершении работы* "
      ]
    },
    {
      "cell_type": "code",
      "metadata": {
        "id": "4-xQGvXNEbr0",
        "colab_type": "code",
        "colab": {}
      },
      "source": [
        "# Ваш код: \n",
        "\n"
      ],
      "execution_count": 0,
      "outputs": []
    },
    {
      "cell_type": "markdown",
      "metadata": {
        "id": "40PLtt0WQNGh",
        "colab_type": "text"
      },
      "source": [
        "Задача 3 (модуль random и операции со строками)\n",
        "\n",
        "программа \"миллион причин остаться дома\" выбирает причину, почему наш герой(или героиня) не идет на работу. В переменной excuses есть заданный список причин (Вы можете его расширить, по желанию: вручную или методом ```.append()``` ). Методом ```random.choice()``` нам нужно выбрать одну из них и вывести на печать вместе с фиксированной фразой.\n",
        "\n",
        "Наша программа должна выбрать причину и напечатать сообщение: \"Сегодня я не иду на работу, потому что\" и причину. "
      ]
    },
    {
      "cell_type": "code",
      "metadata": {
        "id": "aZzK4CieQNpN",
        "colab_type": "code",
        "colab": {}
      },
      "source": [
        "import random\n",
        "excuses = [\"я устал\",\"я улетел к океану\",\"на улице холодно\",\"на улице жарко\", #мы можем переносить строки, пока в списке! \n",
        "           \"я в отпуске\",\"у меня день рождения\",\"сегодня выходной\",\"мне надоело\",\n",
        "           \"я работаю из дома\",\"могу\",\"плохо себя чувствую\",\"не хочу\", \"у меня лапки\",\"я в отпуске!\",\n",
        "           \"на улице ураган\"]\n",
        "# Ваш код:\n"
      ],
      "execution_count": 0,
      "outputs": []
    },
    {
      "cell_type": "markdown",
      "metadata": {
        "id": "6qrjVJlLccbT",
        "colab_type": "text"
      },
      "source": [
        "### **hard** mode\n",
        "\n",
        "\n",
        "\n",
        "(если предыдущий вариант кажется скучным/ простым, и вы уже знаете про циклы for и операторы break/continue)\n",
        "\n",
        "Задача 1 определитель делимости числа на 5\n",
        "\n",
        "Напишите код, который проверяет делимость числа на 5. Числа нужно выбрать из списка. Если число делится, алгоритм должен выйти из цикла и вывести на экран искомое число и строку \"делится на 5\". Если не делится, выводим на экран \"это не делится на 5, продолжим поиск\". Продолжаем пока не найдем такое, которое бы делилось. Проверяя числа на делимость, алгоритм также должен игнорировать число 45, не прервав на нем цикл."
      ]
    },
    {
      "cell_type": "code",
      "metadata": {
        "id": "Pk0L9hbxcg_j",
        "colab_type": "code",
        "outputId": "48d47628-2ae0-454e-e38a-6270ff6903ed",
        "colab": {
          "base_uri": "https://localhost:8080/",
          "height": 136
        }
      },
      "source": [
        "numbers = [2,6,7,45,1,89,678,35]\n",
        "\n",
        "# Ваш код\n",
        "for i in numbers:\n",
        "    if i%5 == 0:\n",
        "        if i == 45:\n",
        "            continue\n",
        "        else:\n",
        "            print(i, \"делится на 5\")\n",
        "            break\n",
        "    else:\n",
        "        print(\"это не делится на 5, продолжим поиск\")\n",
        "    \n",
        "    "
      ],
      "execution_count": 0,
      "outputs": [
        {
          "output_type": "stream",
          "text": [
            "это не делится на 5, продолжим поиск\n",
            "это не делится на 5, продолжим поиск\n",
            "это не делится на 5, продолжим поиск\n",
            "это не делится на 5, продолжим поиск\n",
            "это не делится на 5, продолжим поиск\n",
            "это не делится на 5, продолжим поиск\n",
            "35 делится на 5\n"
          ],
          "name": "stdout"
        }
      ]
    },
    {
      "cell_type": "markdown",
      "metadata": {
        "id": "fHRyAz5ah2GG",
        "colab_type": "text"
      },
      "source": [
        "Задача 2: робот, выбирающий пользователю коктейль:\n",
        "\n",
        "Представьте, что Вы разрабатываете (фрагмент) электронного помощника для ресторана. \n",
        "\n",
        "У Вас есть список коктейлей, где каждый коктейль представлен в виде списка ингридиентов. (у нас получается список списков). Программа рандомным образом должна выбрать один из коктейлей (т.е. один из списков в общем списке) и вывести на экран сообщение: \"Сегодня в вашем коктейле будет: \" и сам список ингридиентов\n",
        "\n",
        "Но есть одно условие: в некоторые из списков по ошибке попал \"лосось\" (может, его добавил незадачливый стажер-ассистент). Строку \"лосось\" нужно убрать *(здесь вам поможет один метод работы со списками)* ,но так как лосось есть не везде, нужно предварительно проверить его наличие в списке.\n",
        "\n",
        "Если можете, запишите проверку на наличие лосося и его последующее удаление из ингридиентов в виде list comprehension.\n",
        "\n",
        "Удачи!\n",
        "\n",
        "**Подсказка:** чтобы успешно свернуть цикл в list comprehension, попробуйте сначала написать цикл построчно, в классическом виде. Запустите его, проверьте, что все работает как надо. Если все хорошо, можно сворачивать. [Вот здесь](https://www.pythonforbeginners.com/basics/list-comprehensions-in-python) подсказка синтаксиса \n",
        "\n",
        "\n",
        "\n"
      ]
    },
    {
      "cell_type": "code",
      "metadata": {
        "id": "3Il9qv3OfoBD",
        "colab_type": "code",
        "outputId": "c54b6692-3d8e-4ea4-c804-f6f63030c014",
        "colab": {
          "base_uri": "https://localhost:8080/",
          "height": 34
        }
      },
      "source": [
        "import random\n",
        "\n",
        "cocktails = [[\"мартини\",\"грейпфрутовый сок\",\"жасмин\",\"тоник\",\"лосось\"],\n",
        "               [\"клубника\",\"какао\",\"мята\",\"марсала\"],\n",
        "               [\"водка\",\"томатный сок\",\"лимонный сок\",\"вустерширский соус\",\"черный перец\",\"сельдерей\",\"лосось\"],\n",
        "               [\"джин\",\"вермут\",\"ликер мараскино\",\"апельсины\",\"коктейльная вишня\",\"лосось\"],\n",
        "               [\"ром\",\"авокадо\",\"сахарный сироп\",\"сливки\",\"лимонный сок\",\"лед\"],\n",
        "               [\"красный вермут\",\"тоник\",\"апельсины\",\"лосось\"],\n",
        "               [\"только чай\"]\n",
        "        ]\n",
        "\n",
        "#Ваш код\n",
        "#Вариант с простым циклом\n",
        "random_cocktail = random.choice(cocktails)\n",
        "\n",
        "for j in random_cocktail:\n",
        "    if j == \"лосось\":\n",
        "        random_cocktail.remove(\"лосось\")\n",
        "print(random_cocktail)\n",
        "\n"
      ],
      "execution_count": 1,
      "outputs": [
        {
          "output_type": "stream",
          "text": [
            "['красный вермут', 'тоник', 'апельсины']\n"
          ],
          "name": "stdout"
        }
      ]
    },
    {
      "cell_type": "code",
      "metadata": {
        "colab_type": "code",
        "outputId": "dfa0782f-de18-4ab7-e410-0a967ec8b02a",
        "id": "ZvjojflhgtYt",
        "colab": {
          "base_uri": "https://localhost:8080/",
          "height": 34
        }
      },
      "source": [
        "#Вариант с list comprehension\n",
        "\n",
        "rand_cock = random.choice(cocktails) \n",
        "checked_rand_cock = [j for j in rand_cock if j !=\"лосось\"]\n",
        "print(checked_rand_cock)"
      ],
      "execution_count": 0,
      "outputs": [
        {
          "output_type": "stream",
          "text": [
            "['красный вермут', 'тоник', 'апельсины']\n"
          ],
          "name": "stdout"
        }
      ]
    },
    {
      "cell_type": "code",
      "metadata": {
        "id": "w9EAxwd-0Scy",
        "colab_type": "code",
        "colab": {
          "base_uri": "https://localhost:8080/",
          "height": 34
        },
        "outputId": "880f6c33-e067-4891-9079-71b7ac40c479"
      },
      "source": [
        "#Вариант с list comprehension в одну строку\n",
        "print([j for j in random.choice(cocktails) if j !=\"лосось\"])"
      ],
      "execution_count": 3,
      "outputs": [
        {
          "output_type": "stream",
          "text": [
            "['водка', 'томатный сок', 'лимонный сок', 'вустерширский соус', 'черный перец', 'сельдерей']\n"
          ],
          "name": "stdout"
        }
      ]
    },
    {
      "cell_type": "code",
      "metadata": {
        "id": "K6IjDz4giUMC",
        "colab_type": "code",
        "colab": {}
      },
      "source": [
        ""
      ],
      "execution_count": 0,
      "outputs": []
    }
  ]
}