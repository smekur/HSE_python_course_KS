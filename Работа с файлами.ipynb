{
  "nbformat": 4,
  "nbformat_minor": 0,
  "metadata": {
    "kernelspec": {
      "display_name": "Python 3",
      "language": "python",
      "name": "python3"
    },
    "language_info": {
      "codemirror_mode": {
        "name": "ipython",
        "version": 3
      },
      "file_extension": ".py",
      "mimetype": "text/x-python",
      "name": "python",
      "nbconvert_exporter": "python",
      "pygments_lexer": "ipython3",
      "version": "3.7.0"
    },
    "colab": {
      "name": "Copy of 09Nov_19.ipynb",
      "provenance": [],
      "collapsed_sections": [],
      "include_colab_link": true
    }
  },
  "cells": [
    {
      "cell_type": "markdown",
      "metadata": {
        "id": "view-in-github",
        "colab_type": "text"
      },
      "source": [
        "<a href=\"https://colab.research.google.com/github/smekur/HSE_python_course_KS/blob/master/%D0%A0%D0%B0%D0%B1%D0%BE%D1%82%D0%B0%20%D1%81%20%D1%84%D0%B0%D0%B9%D0%BB%D0%B0%D0%BC%D0%B8.ipynb\" target=\"_parent\"><img src=\"https://colab.research.google.com/assets/colab-badge.svg\" alt=\"Open In Colab\"/></a>"
      ]
    },
    {
      "cell_type": "markdown",
      "metadata": {
        "id": "kIZidEDRSGBg",
        "colab_type": "text"
      },
      "source": [
        "Часто нам нужно работать с файлами, операционной системой, перемещаться среди папок и тд. Для решениях этих задач, в питоне существует модуль  os. Подробнее о модуле можно почитать [тут](https://pythonworld.ru/moduli/modul-os.html). \n",
        "\n",
        "Рассмотрим основные методы"
      ]
    },
    {
      "cell_type": "code",
      "metadata": {
        "id": "0321FMiWSGBp",
        "colab_type": "code",
        "colab": {}
      },
      "source": [
        "# чтобы начать работать с модулем, его надо импортировать\n",
        "\n",
        "import os"
      ],
      "execution_count": 0,
      "outputs": []
    },
    {
      "cell_type": "code",
      "metadata": {
        "id": "bFqVUATWSGBv",
        "colab_type": "code",
        "outputId": "ac9d7919-d092-4c2e-c53c-bb07c1012d1f",
        "colab": {
          "base_uri": "https://localhost:8080/",
          "height": 34
        }
      },
      "source": [
        "#узнаем имя OS с которой работаем\n",
        "os.name"
      ],
      "execution_count": 0,
      "outputs": [
        {
          "output_type": "execute_result",
          "data": {
            "text/plain": [
              "'posix'"
            ]
          },
          "metadata": {
            "tags": []
          },
          "execution_count": 2
        }
      ]
    },
    {
      "cell_type": "code",
      "metadata": {
        "id": "RYsCZGBGSGB2",
        "colab_type": "code",
        "outputId": "5d07502d-bd1f-4c48-be52-ac9c50efe67f",
        "colab": {
          "base_uri": "https://localhost:8080/",
          "height": 34
        }
      },
      "source": [
        "os.getcwd() # текущая рабочая директория (cwd = current working directory)"
      ],
      "execution_count": 0,
      "outputs": [
        {
          "output_type": "execute_result",
          "data": {
            "text/plain": [
              "'/content'"
            ]
          },
          "metadata": {
            "tags": []
          },
          "execution_count": 3
        }
      ]
    },
    {
      "cell_type": "code",
      "metadata": {
        "id": "Dt59vqBHSGB6",
        "colab_type": "code",
        "colab": {}
      },
      "source": [
        "x = \"/content\""
      ],
      "execution_count": 0,
      "outputs": []
    },
    {
      "cell_type": "code",
      "metadata": {
        "id": "-6u6RCLESGCA",
        "colab_type": "code",
        "outputId": "4355ea1e-0338-4e03-a179-5ba73191d3e6",
        "colab": {
          "base_uri": "https://localhost:8080/",
          "height": 34
        }
      },
      "source": [
        "os.listdir(x) # список файлов и директорий в папке"
      ],
      "execution_count": 0,
      "outputs": [
        {
          "output_type": "execute_result",
          "data": {
            "text/plain": [
              "['.config', 'sample_data']"
            ]
          },
          "metadata": {
            "tags": []
          },
          "execution_count": 7
        }
      ]
    },
    {
      "cell_type": "code",
      "metadata": {
        "id": "o192KEJHSGCE",
        "colab_type": "code",
        "colab": {}
      },
      "source": [
        "os.mkdir(\"new\") # создаёт новую директорию (прописываем путь в скобках)"
      ],
      "execution_count": 0,
      "outputs": []
    },
    {
      "cell_type": "code",
      "metadata": {
        "id": "pj9svtYtSGB9",
        "colab_type": "code",
        "colab": {}
      },
      "source": [
        "os.chdir(\"new\") # сменяет текущую рабочую директорию, путь к новой нужной указываем в скобках"
      ],
      "execution_count": 0,
      "outputs": []
    },
    {
      "cell_type": "code",
      "metadata": {
        "id": "L0VYBoD6TF64",
        "colab_type": "code",
        "outputId": "4e392b12-4019-4002-f205-93ca33b19514",
        "colab": {
          "base_uri": "https://localhost:8080/",
          "height": 34
        }
      },
      "source": [
        "os.getcwd() #  проверим текущую директорию"
      ],
      "execution_count": 0,
      "outputs": [
        {
          "output_type": "execute_result",
          "data": {
            "text/plain": [
              "'/content/new'"
            ]
          },
          "metadata": {
            "tags": []
          },
          "execution_count": 50
        }
      ]
    },
    {
      "cell_type": "code",
      "metadata": {
        "id": "L8WzXb7USGCL",
        "colab_type": "code",
        "outputId": "e32b77a3-a770-452a-8cdc-dbec543ad0b7",
        "colab": {
          "base_uri": "https://localhost:8080/",
          "height": 34
        }
      },
      "source": [
        "os.listdir(\"/content\") # посмотрим, что в новой директории"
      ],
      "execution_count": 0,
      "outputs": [
        {
          "output_type": "execute_result",
          "data": {
            "text/plain": [
              "['.config', 'new1', 'sample_data']"
            ]
          },
          "metadata": {
            "tags": []
          },
          "execution_count": 39
        }
      ]
    },
    {
      "cell_type": "code",
      "metadata": {
        "scrolled": false,
        "id": "MwRp_Bt6SGCa",
        "colab_type": "code",
        "outputId": "8cab15a3-bf55-453c-bb6c-6dd5e1c17252",
        "colab": {
          "base_uri": "https://localhost:8080/",
          "height": 34
        }
      },
      "source": [
        "os.chdir(\"/content\")\n",
        "os.rmdir('/content/new') # удаляет пустую директорию. Чтобы удалить, из нее сначала надо выйти \n",
        "# (например, на шаг назад, это делает предыдущая строка)\n",
        "os.listdir() # посмотрим на список файлов снова,  new уже нет"
      ],
      "execution_count": 0,
      "outputs": [
        {
          "output_type": "execute_result",
          "data": {
            "text/plain": [
              "['.config', 'sample_data']"
            ]
          },
          "metadata": {
            "tags": []
          },
          "execution_count": 34
        }
      ]
    },
    {
      "cell_type": "code",
      "metadata": {
        "id": "CihvMLrkSGCV",
        "colab_type": "code",
        "outputId": "191f8371-fd8a-4bd9-dbd7-3e0687fe92ba",
        "colab": {
          "base_uri": "https://localhost:8080/",
          "height": 163
        }
      },
      "source": [
        "os.remove('new') # удаляет путь к файлу."
      ],
      "execution_count": 0,
      "outputs": [
        {
          "output_type": "error",
          "ename": "FileNotFoundError",
          "evalue": "ignored",
          "traceback": [
            "\u001b[0;31m---------------------------------------------------------------------------\u001b[0m",
            "\u001b[0;31mFileNotFoundError\u001b[0m                         Traceback (most recent call last)",
            "\u001b[0;32m<ipython-input-35-ee1ef06fd411>\u001b[0m in \u001b[0;36m<module>\u001b[0;34m()\u001b[0m\n\u001b[0;32m----> 1\u001b[0;31m \u001b[0mos\u001b[0m\u001b[0;34m.\u001b[0m\u001b[0mremove\u001b[0m\u001b[0;34m(\u001b[0m\u001b[0;34m'new'\u001b[0m\u001b[0;34m)\u001b[0m \u001b[0;31m# удаляет путь к файлу.\u001b[0m\u001b[0;34m\u001b[0m\u001b[0;34m\u001b[0m\u001b[0m\n\u001b[0m",
            "\u001b[0;31mFileNotFoundError\u001b[0m: [Errno 2] No such file or directory: 'new'"
          ]
        }
      ]
    },
    {
      "cell_type": "code",
      "metadata": {
        "id": "ppZeXif6SGCd",
        "colab_type": "code",
        "outputId": "7bb2e61c-3a9a-44fd-a2a8-bd0500a6f17f",
        "colab": {
          "base_uri": "https://localhost:8080/",
          "height": 34
        }
      },
      "source": [
        "os.listdir(x) # посмотрим на список еще раз, исчез ли new2"
      ],
      "execution_count": 0,
      "outputs": [
        {
          "output_type": "execute_result",
          "data": {
            "text/plain": [
              "['.config', 'new1', 'new', 'sample_data']"
            ]
          },
          "metadata": {
            "tags": []
          },
          "execution_count": 47
        }
      ]
    },
    {
      "cell_type": "markdown",
      "metadata": {
        "id": "EKBeg_6NSGCn",
        "colab_type": "text"
      },
      "source": [
        "###в модуле os есть свой под-модуль: os.path ( реализует некоторые полезные функции для работы с путями)"
      ]
    },
    {
      "cell_type": "code",
      "metadata": {
        "id": "LQ_mGKAj5gzo",
        "colab_type": "code",
        "colab": {}
      },
      "source": [
        "import os.path #  импортим модуль"
      ],
      "execution_count": 0,
      "outputs": []
    },
    {
      "cell_type": "code",
      "metadata": {
        "id": "CWEZNUXoSGCo",
        "colab_type": "code",
        "outputId": "1ff2d648-a259-4e44-bfb6-a85f23aa7001",
        "colab": {
          "base_uri": "https://localhost:8080/",
          "height": 34
        }
      },
      "source": [
        "os.path.abspath(\"new\") # возвращает нормализованный абсолютный путь"
      ],
      "execution_count": 0,
      "outputs": [
        {
          "output_type": "execute_result",
          "data": {
            "text/plain": [
              "'/content/new'"
            ]
          },
          "metadata": {
            "tags": []
          },
          "execution_count": 45
        }
      ]
    },
    {
      "cell_type": "code",
      "metadata": {
        "id": "Iu9ujbhzSGCu",
        "colab_type": "code",
        "outputId": "14ee1480-a0db-462e-8524-b760ba74eea0",
        "colab": {
          "base_uri": "https://localhost:8080/",
          "height": 34
        }
      },
      "source": [
        "os.path.getsize(\"new\") # размер файла в байтах"
      ],
      "execution_count": 0,
      "outputs": [
        {
          "output_type": "execute_result",
          "data": {
            "text/plain": [
              "4096"
            ]
          },
          "metadata": {
            "tags": []
          },
          "execution_count": 46
        }
      ]
    },
    {
      "cell_type": "code",
      "metadata": {
        "id": "YBcWrovC6yRj",
        "colab_type": "code",
        "outputId": "16aca1a5-08cb-4a1a-e2b1-d08f2eb26f36",
        "colab": {
          "base_uri": "https://localhost:8080/",
          "height": 34
        }
      },
      "source": [
        "os.path.isabs(\"new\") # является ли путь абсолютным"
      ],
      "execution_count": 0,
      "outputs": [
        {
          "output_type": "execute_result",
          "data": {
            "text/plain": [
              "False"
            ]
          },
          "metadata": {
            "tags": []
          },
          "execution_count": 15
        }
      ]
    },
    {
      "cell_type": "code",
      "metadata": {
        "id": "FDhZC9Rn7tTR",
        "colab_type": "code",
        "outputId": "ab3d9de3-9700-40c5-eb68-2bf3ef3bf48a",
        "colab": {
          "base_uri": "https://localhost:8080/",
          "height": 34
        }
      },
      "source": [
        "os.path.isabs(\"/content/new\") # попробуем еще раз"
      ],
      "execution_count": 0,
      "outputs": [
        {
          "output_type": "execute_result",
          "data": {
            "text/plain": [
              "True"
            ]
          },
          "metadata": {
            "tags": []
          },
          "execution_count": 16
        }
      ]
    },
    {
      "cell_type": "code",
      "metadata": {
        "id": "olWeC3bf6yHg",
        "colab_type": "code",
        "outputId": "2d0bc56d-68dd-4c0c-ddc6-368197e0aced",
        "colab": {
          "base_uri": "https://localhost:8080/",
          "height": 34
        }
      },
      "source": [
        "os.path.isfile(\"new\") # является ли путь файлом"
      ],
      "execution_count": 0,
      "outputs": [
        {
          "output_type": "execute_result",
          "data": {
            "text/plain": [
              "False"
            ]
          },
          "metadata": {
            "tags": []
          },
          "execution_count": 18
        }
      ]
    },
    {
      "cell_type": "code",
      "metadata": {
        "id": "-FdpVPhx6x-G",
        "colab_type": "code",
        "outputId": "65477a3c-86a6-44c0-c8fb-d2fb1c648c17",
        "colab": {
          "base_uri": "https://localhost:8080/",
          "height": 34
        }
      },
      "source": [
        "os.path.isdir(\"new\") # является ли путь директорией(папкой)"
      ],
      "execution_count": 0,
      "outputs": [
        {
          "output_type": "execute_result",
          "data": {
            "text/plain": [
              "True"
            ]
          },
          "metadata": {
            "tags": []
          },
          "execution_count": 19
        }
      ]
    },
    {
      "cell_type": "code",
      "metadata": {
        "id": "0qKfXUzASGCw",
        "colab_type": "code",
        "outputId": "c6b4a06b-6ba0-402c-f5c3-9cd4eaae2535",
        "colab": {
          "base_uri": "https://localhost:8080/",
          "height": 34
        }
      },
      "source": [
        "os.path.split(\"/content/new\") #разбивает путь на кортеж (голова, хвост), где хвост - последний компонент пути, а голова - всё остальное. \n",
        "#Хвост никогда не начинается со слеша (если путь заканчивается слешем, то хвост пустой).\n",
        "#Если слешей в пути нет, то пустой будет голова."
      ],
      "execution_count": 0,
      "outputs": [
        {
          "output_type": "execute_result",
          "data": {
            "text/plain": [
              "('/content', 'new')"
            ]
          },
          "metadata": {
            "tags": []
          },
          "execution_count": 23
        }
      ]
    },
    {
      "cell_type": "markdown",
      "metadata": {
        "id": "ovviRXtCSGC8",
        "colab_type": "text"
      },
      "source": [
        "**А также:**\n",
        "1. [shutil](https://www.journaldev.com/20536/python-shutil-module)\n",
        "(модуль для работы с  файлами, их копирования, перемещения, удаления и тд)\n",
        "\n",
        "2. [piclke](https://www.datacamp.com/community/tutorials/pickle-python-tutorial) (модуль для сохранения и загрузки объектов)\n"
      ]
    },
    {
      "cell_type": "markdown",
      "metadata": {
        "id": "pilnXnWUAgaI",
        "colab_type": "text"
      },
      "source": [
        "## загрузка данных в колаб"
      ]
    },
    {
      "cell_type": "markdown",
      "metadata": {
        "id": "hrWIEDeAAkQ_",
        "colab_type": "text"
      },
      "source": [
        "в колабе есть смециальный модуль ```google.colab```, который позволяет загрузить файлы с компьютера. Вызовем его:"
      ]
    },
    {
      "cell_type": "code",
      "metadata": {
        "id": "vpNBfG9oEo9c",
        "colab_type": "code",
        "outputId": "d92d7e84-a6d2-4c57-dd9a-e0542bd948d6",
        "colab": {
          "resources": {
            "http://localhost:8080/nbextensions/google.colab/files.js": {
              "data": "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",
              "ok": true,
              "headers": [
                [
                  "content-type",
                  "application/javascript"
                ]
              ],
              "status": 200,
              "status_text": ""
            }
          },
          "base_uri": "https://localhost:8080/",
          "height": 111
        }
      },
      "source": [
        "from google.colab import files #строка импорта\n",
        "files.upload() # вызов метода .upload(), который позволит загрузить данные: откроется окно загрузки"
      ],
      "execution_count": 0,
      "outputs": [
        {
          "output_type": "display_data",
          "data": {
            "text/html": [
              "\n",
              "     <input type=\"file\" id=\"files-5e131752-9276-4d55-8af7-447ca7a2141d\" name=\"files[]\" multiple disabled />\n",
              "     <output id=\"result-5e131752-9276-4d55-8af7-447ca7a2141d\">\n",
              "      Upload widget is only available when the cell has been executed in the\n",
              "      current browser session. Please rerun this cell to enable.\n",
              "      </output>\n",
              "      <script src=\"/nbextensions/google.colab/files.js\"></script> "
            ],
            "text/plain": [
              "<IPython.core.display.HTML object>"
            ]
          },
          "metadata": {
            "tags": []
          }
        },
        {
          "output_type": "stream",
          "text": [
            "Saving city_smells.txt to city_smells.txt\n"
          ],
          "name": "stdout"
        },
        {
          "output_type": "execute_result",
          "data": {
            "text/plain": [
              "{'city_smells.txt': b'\\xd0\\x9f\\xd0\\xbe\\xd0\\xbc\\xd0\\xbd\\xd0\\xb8\\xd1\\x82\\xd0\\xb5 \\xd0\\xb7\\xd0\\xb0\\xd0\\xbf\\xd0\\xb0\\xd1\\x85 \\xd1\\x81\\xd0\\xb2\\xd0\\xb5\\xd0\\xb6\\xd0\\xb5\\xd0\\xb2\\xd1\\x8b\\xd0\\xbf\\xd0\\xb5\\xd1\\x87\\xd0\\xb5\\xd0\\xbd\\xd0\\xbd\\xd0\\xbe\\xd0\\xb3\\xd0\\xbe \\xd1\\x85\\xd0\\xbb\\xd0\\xb5\\xd0\\xb1\\xd0\\xb0 \\xd0\\xbd\\xd0\\xb0 \\xd0\\xb4\\xd0\\xbe\\xd0\\xb6\\xd0\\xb4\\xd0\\xbb\\xd0\\xb8\\xd0\\xb2\\xd0\\xbe\\xd0\\xb9 \\xd1\\x83\\xd0\\xbb\\xd0\\xbe\\xd1\\x87\\xd0\\xba\\xd0\\xb5 \\xd0\\xb8\\xd0\\xb7 \\xd1\\x82\\xd0\\xbe\\xd0\\xb9 \\xd0\\xb1\\xd1\\x83\\xd0\\xbb\\xd0\\xbe\\xd1\\x87\\xd0\\xbd\\xd0\\xbe\\xd0\\xb9, \\xd0\\xb2 \\xd0\\xba\\xd0\\xbe\\xd1\\x82\\xd0\\xbe\\xd1\\x80\\xd1\\x83\\xd1\\x8e \\xd0\\xb2\\xd1\\x8b \\xd0\\xb7\\xd0\\xb0\\xd1\\x85\\xd0\\xbe\\xd0\\xb4\\xd0\\xb8\\xd0\\xbb\\xd0\\xb8 \\xd0\\xb2 \\xd0\\xbf\\xd1\\x80\\xd0\\xbe\\xd1\\x88\\xd0\\xbb\\xd0\\xbe\\xd0\\xbc \\xd0\\xbc\\xd0\\xb5\\xd1\\x81\\xd1\\x8f\\xd1\\x86\\xd0\\xb5?\\n\\xd0\\x90 \\xd0\\xba\\xd0\\xb0\\xd0\\xba \\xd0\\xbe\\xd0\\xbd \\xd1\\x81\\xd0\\xbc\\xd0\\xb5\\xd1\\x88\\xd0\\xb0\\xd0\\xbb\\xd1\\x81\\xd1\\x8f \\xd1\\x81 \\xd0\\xb7\\xd0\\xb0\\xd0\\xbf\\xd0\\xb0\\xd1\\x85\\xd0\\xbe\\xd0\\xbc \\xd1\\x81\\xd0\\xbc\\xd0\\xbe\\xd0\\xbb\\xd0\\xbe\\xd1\\x82\\xd0\\xbe\\xd0\\xb3\\xd0\\xbe \\xd0\\xba\\xd0\\xbe\\xd1\\x84\\xd0\\xb5?\\n\\xd0\\x90 \\xd0\\xb7\\xd0\\xb0\\xd0\\xbf\\xd0\\xb0\\xd1\\x85 \\xd1\\x81\\xd0\\xb2\\xd0\\xb5\\xd0\\xb6\\xd0\\xb5\\xd1\\x81\\xd0\\xba\\xd0\\xbe\\xd1\\x88\\xd0\\xb5\\xd0\\xbd\\xd0\\xbd\\xd0\\xbe\\xd0\\xb9 \\xd1\\x82\\xd1\\x80\\xd0\\xb0\\xd0\\xb2\\xd1\\x8b \\xd0\\xb2 \\xd0\\xbf\\xd0\\xb0\\xd1\\x80\\xd0\\xba\\xd0\\xb5 \\xd0\\xbe\\xd1\\x81\\xd0\\xb2\\xd0\\xb5\\xd0\\xb6\\xd0\\xb0\\xd1\\x8e\\xd1\\x89\\xd0\\xb8\\xd0\\xbc \\xd0\\xb2\\xd0\\xb5\\xd1\\x87\\xd0\\xb5\\xd1\\x80\\xd0\\xbe\\xd0\\xbc \\xd0\\xbf\\xd0\\xbe\\xd1\\x81\\xd0\\xbb\\xd0\\xb5 \\xd0\\xb6\\xd0\\xb0\\xd1\\x80\\xd0\\xba\\xd0\\xbe\\xd0\\xb3\\xd0\\xbe \\xd0\\xb4\\xd0\\xbd\\xd1\\x8f?\\n\\xd0\\x97\\xd0\\xb0\\xd0\\xbf\\xd0\\xb0\\xd1\\x85\\xd0\\xb8 \\xd0\\xb5\\xd0\\xb6\\xd0\\xb5\\xd0\\xbc\\xd0\\xb8\\xd0\\xbd\\xd1\\x83\\xd1\\x82\\xd0\\xbd\\xd0\\xbe \\xd1\\x81\\xd0\\xbe\\xd0\\xbf\\xd1\\x80\\xd0\\xbe\\xd0\\xb2\\xd0\\xbe\\xd0\\xb6\\xd0\\xb4\\xd0\\xb0\\xd1\\x8e\\xd1\\x82 \\xd0\\xbd\\xd0\\xb0\\xd1\\x81 \\xd0\\xb2 \\xd0\\xb3\\xd0\\xbe\\xd1\\x80\\xd0\\xbe\\xd0\\xb4\\xd0\\xb5, \\xd0\\xbd\\xd0\\xbe \\xd0\\xbe\\xd0\\xbd\\xd0\\xb8 \\xd0\\xbc\\xd0\\xb8\\xd0\\xbc\\xd0\\xbe\\xd0\\xbb\\xd0\\xb5\\xd1\\x82\\xd0\\xbd\\xd1\\x8b \\xd0\\xb8 \\xd0\\xbd\\xd0\\xb5\\xd0\\xb2\\xd0\\xb8\\xd0\\xb4\\xd0\\xb8\\xd0\\xbc\\xd1\\x8b, \\xd0\\xbf\\xd0\\xbe\\xd1\\x8d\\xd1\\x82\\xd0\\xbe\\xd0\\xbc\\xd1\\x83 \\xd1\\x87\\xd0\\xb0\\xd1\\x81\\xd1\\x82\\xd0\\xbe \\xd1\\x83\\xd1\\x81\\xd0\\xba\\xd0\\xbe\\xd0\\xbb\\xd1\\x8c\\xd0\\xb7\\xd0\\xb0\\xd1\\x8e\\xd1\\x82 \\xd0\\xbe\\xd1\\x82 \\xd0\\xb2\\xd0\\xbd\\xd0\\xb8\\xd0\\xbc\\xd0\\xb0\\xd0\\xbd\\xd0\\xb8\\xd1\\x8f \\xd1\\x83\\xd1\\x80\\xd0\\xb1\\xd0\\xb0\\xd0\\xbd\\xd0\\xb8\\xd1\\x81\\xd1\\x82\\xd0\\xbe\\xd0\\xb2 \\xd0\\xb8 \\xd0\\xb8\\xd1\\x81\\xd1\\x81\\xd0\\xbb\\xd0\\xb5\\xd0\\xb4\\xd0\\xbe\\xd0\\xb2\\xd0\\xb0\\xd1\\x82\\xd0\\xb5\\xd0\\xbb\\xd0\\xb5\\xd0\\xb9 \\xd0\\xb3\\xd0\\xbe\\xd1\\x80\\xd0\\xbe\\xd0\\xb4\\xd1\\x81\\xd0\\xba\\xd0\\xbe\\xd0\\xb9 \\xd1\\x81\\xd1\\x80\\xd0\\xb5\\xd0\\xb4\\xd1\\x8b.\\n\\xd0\\x93\\xd1\\x80\\xd1\\x83\\xd0\\xbf\\xd0\\xbf\\xd0\\xb0 \\xd1\\x83\\xd1\\x87\\xd0\\xb5\\xd0\\xbd\\xd1\\x8b\\xd1\\x85 \\xd0\\xb8\\xd0\\xb7 \\xd1\\x80\\xd0\\xb0\\xd0\\xb7\\xd0\\xbd\\xd1\\x8b\\xd1\\x85 \\xd1\\x83\\xd0\\xbd\\xd0\\xb8\\xd0\\xb2\\xd0\\xb5\\xd1\\x80\\xd1\\x81\\xd0\\xb8\\xd1\\x82\\xd0\\xb5\\xd1\\x82\\xd0\\xbe\\xd0\\xb2 \\xd0\\xbc\\xd0\\xb8\\xd1\\x80\\xd0\\xb0 \\xd0\\xb2 \\xd1\\x80\\xd0\\xb0\\xd0\\xbc\\xd0\\xba\\xd0\\xb0\\xd1\\x85 \\xd0\\xbf\\xd1\\x80\\xd0\\xbe\\xd0\\xb5\\xd0\\xba\\xd1\\x82\\xd0\\xb0 Smelly Maps \\xd1\\x80\\xd0\\xb5\\xd1\\x88\\xd0\\xb8\\xd0\\xbb\\xd0\\xb0 \\xd0\\xb8\\xd1\\x81\\xd0\\xbf\\xd1\\x80\\xd0\\xb0\\xd0\\xb2\\xd0\\xb8\\xd1\\x82\\xd1\\x8c \\xd1\\x8d\\xd1\\x82\\xd1\\x83 \\xd0\\xbd\\xd0\\xb5\\xd1\\x81\\xd0\\xbf\\xd1\\x80\\xd0\\xb0\\xd0\\xb2\\xd0\\xb5\\xd0\\xb4\\xd0\\xbb\\xd0\\xb8\\xd0\\xb2\\xd0\\xbe\\xd1\\x81\\xd1\\x82\\xd1\\x8c \\xd0\\xb8 \\xd0\\xb7\\xd0\\xb0\\xd0\\xbd\\xd1\\x8f\\xd0\\xbb\\xd0\\xb0\\xd1\\x81\\xd1\\x8c \\xd0\\xb8\\xd1\\x81\\xd1\\x81\\xd0\\xbb\\xd0\\xb5\\xd0\\xb4\\xd0\\xbe\\xd0\\xb2\\xd0\\xb0\\xd0\\xbd\\xd0\\xb8\\xd0\\xb5\\xd0\\xbc \\xd0\\xb3\\xd0\\xbe\\xd1\\x80\\xd0\\xbe\\xd0\\xb4\\xd1\\x81\\xd0\\xba\\xd0\\xb8\\xd1\\x85 \\xd0\\xb7\\xd0\\xb0\\xd0\\xbf\\xd0\\xb0\\xd1\\x85\\xd0\\xbe\\xd0\\xb2.\\n\\xd0\\xa1\\xd0\\xb0\\xd0\\xbc\\xd1\\x8b\\xd0\\xb9 \\xd0\\xbf\\xd0\\xb5\\xd1\\x80\\xd0\\xb2\\xd1\\x8b\\xd0\\xb9 \\xd0\\xb8 \\xd0\\xb2\\xd0\\xb0\\xd0\\xb6\\xd0\\xbd\\xd1\\x8b\\xd0\\xb9 \\xd0\\xb2\\xd0\\xbe\\xd0\\xbf\\xd1\\x80\\xd0\\xbe\\xd1\\x81, \\xd1\\x81 \\xd0\\xba\\xd0\\xbe\\xd1\\x82\\xd0\\xbe\\xd1\\x80\\xd1\\x8b\\xd0\\xbc \\xd0\\xbe\\xd0\\xbd\\xd0\\xb8 \\xd1\\x81\\xd1\\x82\\xd0\\xbe\\xd0\\xbb\\xd0\\xba\\xd0\\xbd\\xd1\\x83\\xd0\\xbb\\xd0\\xb8\\xd1\\x81\\xd1\\x8c \\xe2\\x80\\x94 \\xd0\\xbe\\xd1\\x82\\xd0\\xba\\xd1\\x83\\xd0\\xb4\\xd0\\xb0 \\xd0\\xb1\\xd1\\x80\\xd0\\xb0\\xd1\\x82\\xd1\\x8c \\xd0\\xb4\\xd0\\xb0\\xd0\\xbd\\xd0\\xbd\\xd1\\x8b\\xd0\\xb5 \\xd0\\xb4\\xd0\\xbb\\xd1\\x8f \\xd1\\x80\\xd0\\xb0\\xd0\\xb1\\xd0\\xbe\\xd1\\x82\\xd1\\x8b? \\xd0\\x9e\\xd0\\xb4\\xd0\\xb8\\xd0\\xbd \\xd0\\xb8\\xd0\\xb7 \\xd0\\xbe\\xd1\\x87\\xd0\\xb5\\xd0\\xb2\\xd0\\xb8\\xd0\\xb4\\xd0\\xbd\\xd1\\x8b\\xd1\\x85 \\xd0\\xbe\\xd1\\x82\\xd0\\xb2\\xd0\\xb5\\xd1\\x82\\xd0\\xbe\\xd0\\xb2 \\xe2\\x80\\x94 \\xd1\\x81\\xd0\\xbe\\xd0\\xb1\\xd0\\xb8\\xd1\\x80\\xd0\\xb0\\xd1\\x82\\xd1\\x8c \\xd0\\xb4\\xd0\\xb0\\xd0\\xbd\\xd0\\xbd\\xd1\\x8b\\xd0\\xb5 \\xd0\\xbd\\xd0\\xb0 \\xd0\\xbc\\xd0\\xb5\\xd1\\x81\\xd1\\x82\\xd0\\xb5 \\xd0\\xbf\\xd1\\x80\\xd0\\xb8 \\xd0\\xbf\\xd0\\xbe\\xd0\\xbc\\xd0\\xbe\\xd1\\x89\\xd0\\xb8 \\xd1\\x82\\xd0\\xb0\\xd0\\xba \\xd0\\xbd\\xd0\\xb0\\xd0\\xb7\\xd1\\x8b\\xd0\\xb2\\xd0\\xb0\\xd0\\xb5\\xd0\\xbc\\xd1\\x8b\\xd1\\x85 \\xc2\\xabsmell walks\\xc2\\xbb.\\n\\xd0\\x9f\\xd1\\x80\\xd0\\xb8\\xd0\\xbd\\xd1\\x86\\xd0\\xb8\\xd0\\xbf \\xd0\\xbf\\xd1\\x80\\xd0\\xbe\\xd1\\x81\\xd1\\x82: \\xd0\\xb3\\xd1\\x80\\xd1\\x83\\xd0\\xbf\\xd0\\xbf\\xd0\\xb0 \\xd0\\xb4\\xd0\\xbe\\xd0\\xb1\\xd1\\x80\\xd0\\xbe\\xd0\\xb2\\xd0\\xbe\\xd0\\xbb\\xd1\\x8c\\xd1\\x86\\xd0\\xb5\\xd0\\xb2 \\xd0\\xb8\\xd0\\xb4\\xd0\\xb5\\xd1\\x82 \\xd0\\xbf\\xd0\\xbe \\xd0\\xbc\\xd0\\xb0\\xd1\\x80\\xd1\\x88\\xd1\\x80\\xd1\\x83\\xd1\\x82\\xd1\\x83 \\xd0\\xb8 \\xd0\\xb7\\xd0\\xb0\\xd0\\xbf\\xd0\\xb8\\xd1\\x81\\xd1\\x8b\\xd0\\xb2\\xd0\\xb0\\xd0\\xb5\\xd1\\x82 \\xd0\\xb2\\xd1\\x81\\xd0\\xb5 \\xd0\\xb7\\xd0\\xb0\\xd0\\xbf\\xd0\\xb0\\xd1\\x85\\xd0\\xb8, \\xd0\\xba\\xd0\\xbe\\xd1\\x82\\xd0\\xbe\\xd1\\x80\\xd1\\x8b\\xd0\\xb5 \\xd1\\x87\\xd1\\x83\\xd0\\xb2\\xd1\\x81\\xd1\\x82\\xd0\\xb2\\xd1\\x83\\xd0\\xb5\\xd1\\x82 \\xd0\\xbf\\xd0\\xbe \\xd0\\xbf\\xd1\\x83\\xd1\\x82\\xd0\\xb8, \\xd0\\xbe\\xd1\\x82\\xd0\\xbc\\xd0\\xb5\\xd1\\x87\\xd0\\xb0\\xd1\\x8f \\xd0\\xba\\xd0\\xbe\\xd0\\xbd\\xd0\\xba\\xd1\\x80\\xd0\\xb5\\xd1\\x82\\xd0\\xbd\\xd1\\x8b\\xd0\\xb5 \\xd0\\xbc\\xd0\\xb5\\xd1\\x81\\xd1\\x82\\xd0\\xb0 \\xd0\\xbd\\xd0\\xb0 \\xd0\\xba\\xd0\\xb0\\xd1\\x80\\xd1\\x82\\xd0\\xb5.\\n\\xd0\\x9d\\xd0\\xb0 \\xd0\\xbe\\xd1\\x81\\xd0\\xbd\\xd0\\xbe\\xd0\\xb2\\xd0\\xb5 \\xd1\\x82\\xd0\\xb0\\xd0\\xba\\xd0\\xb8\\xd1\\x85 \\xd0\\xbf\\xd1\\x80\\xd0\\xbe\\xd0\\xb3\\xd1\\x83\\xd0\\xbb\\xd0\\xbe\\xd0\\xba \\xd0\\xb8 \\xd0\\xbd\\xd0\\xb5\\xd1\\x81\\xd0\\xba\\xd0\\xbe\\xd0\\xbb\\xd1\\x8c\\xd0\\xba\\xd0\\xb8\\xd1\\x85 \\xd0\\xb8\\xd1\\x81\\xd1\\x81\\xd0\\xbb\\xd0\\xb5\\xd0\\xb4\\xd0\\xbe\\xd0\\xb2\\xd0\\xb0\\xd0\\xbd\\xd0\\xb8\\xd0\\xb9 \\xd0\\xb1\\xd1\\x8b\\xd0\\xbb \\xd1\\x81\\xd0\\xbe\\xd1\\x81\\xd1\\x82\\xd0\\xb0\\xd0\\xb2\\xd0\\xbb\\xd0\\xb5\\xd0\\xbd \\xc2\\xab\\xd1\\x81\\xd0\\xbb\\xd0\\xbe\\xd0\\xb2\\xd0\\xb0\\xd1\\x80\\xd1\\x8c \\xd0\\xb7\\xd0\\xb0\\xd0\\xbf\\xd0\\xb0\\xd1\\x85\\xd0\\xbe\\xd0\\xb2\\xc2\\xbb, \\xd0\\xba\\xd0\\xbe\\xd1\\x82\\xd0\\xbe\\xd1\\x80\\xd1\\x8b\\xd0\\xb9 \\xd1\\x81\\xd0\\xbe\\xd1\\x81\\xd1\\x82\\xd0\\xbe\\xd1\\x8f\\xd0\\xbb \\xd0\\xb8\\xd0\\xb7 \\xd0\\xb2\\xd1\\x81\\xd0\\xb5\\xd1\\x85 \\xd1\\x81\\xd0\\xbb\\xd0\\xbe\\xd0\\xb2, \\xd0\\xba\\xd0\\xbe\\xd1\\x82\\xd0\\xbe\\xd1\\x80\\xd1\\x8b\\xd0\\xbc\\xd0\\xb8 \\xd0\\xb4\\xd0\\xbe\\xd0\\xb1\\xd1\\x80\\xd0\\xbe\\xd0\\xb2\\xd0\\xbe\\xd0\\xbb\\xd1\\x8c\\xd1\\x86\\xd1\\x8b \\xd0\\xbe\\xd0\\xbf\\xd0\\xb8\\xd1\\x81\\xd1\\x8b\\xd0\\xb2\\xd0\\xb0\\xd0\\xbb\\xd0\\xb8 \\xd0\\xb7\\xd0\\xb0\\xd0\\xbf\\xd0\\xb0\\xd1\\x85\\xd0\\xb8 \\xd0\\xb2\\xd0\\xbe \\xd0\\xb2\\xd1\\x80\\xd0\\xb5\\xd0\\xbc\\xd1\\x8f \\xd0\\xbf\\xd1\\x80\\xd0\\xbe\\xd0\\xb3\\xd1\\x83\\xd0\\xbb\\xd0\\xba\\xd0\\xb8.\\n\\xd0\\x9f\\xd1\\x80\\xd0\\xbe\\xd1\\x81\\xd1\\x82\\xd0\\xbe, \\xd1\\x8d\\xd1\\x84\\xd1\\x84\\xd0\\xb5\\xd0\\xba\\xd1\\x82\\xd0\\xb8\\xd0\\xb2\\xd0\\xbd\\xd0\\xbe \\xd0\\xb8 \\xd0\\xb4\\xd0\\xb5\\xd1\\x88\\xd0\\xb5\\xd0\\xb2\\xd0\\xbe.\\n\\xd0\\x9d\\xd0\\xbe \\xd1\\x83 \\xd1\\x82\\xd0\\xb0\\xd0\\xba\\xd0\\xbe\\xd0\\xb3\\xd0\\xbe \\xd0\\xbc\\xd0\\xb5\\xd1\\x82\\xd0\\xbe\\xd0\\xb4\\xd0\\xb0 \\xd0\\xb5\\xd1\\x81\\xd1\\x82\\xd1\\x8c \\xd0\\xbd\\xd0\\xb5\\xd0\\xb4\\xd0\\xbe\\xd1\\x81\\xd1\\x82\\xd0\\xb0\\xd1\\x82\\xd0\\xba\\xd0\\xb8: \\xd0\\xbd\\xd0\\xb0 \\xd0\\xbe\\xd0\\xb1\\xd1\\x85\\xd0\\xbe\\xd0\\xb4 \\xd0\\xb4\\xd0\\xb0\\xd0\\xb6\\xd0\\xb5 \\xd0\\xbd\\xd0\\xb5\\xd0\\xb1\\xd0\\xbe\\xd0\\xbb\\xd1\\x8c\\xd1\\x88\\xd0\\xbe\\xd0\\xb3\\xd0\\xbe \\xd0\\xb3\\xd0\\xbe\\xd1\\x80\\xd0\\xbe\\xd0\\xb4\\xd0\\xb0 \\xd0\\xbd\\xd0\\xb5\\xd1\\x81\\xd0\\xba\\xd0\\xbe\\xd0\\xbb\\xd1\\x8c\\xd0\\xba\\xd0\\xbe \\xd0\\xb4\\xd0\\xb5\\xd1\\x81\\xd1\\x8f\\xd1\\x82\\xd0\\xba\\xd0\\xbe\\xd0\\xb2 \\xd0\\xb4\\xd0\\xbe\\xd0\\xb1\\xd1\\x80\\xd0\\xbe\\xd0\\xb2\\xd0\\xbe\\xd0\\xbb\\xd1\\x8c\\xd1\\x86\\xd0\\xb5\\xd0\\xb2 \\xd0\\xbf\\xd0\\xbe\\xd1\\x82\\xd1\\x80\\xd0\\xb0\\xd1\\x82\\xd0\\xb8\\xd1\\x82 \\xd0\\xbe\\xd1\\x87\\xd0\\xb5\\xd0\\xbd\\xd1\\x8c \\xd0\\xbc\\xd0\\xbd\\xd0\\xbe\\xd0\\xb3\\xd0\\xbe \\xd0\\xb2\\xd1\\x80\\xd0\\xb5\\xd0\\xbc\\xd0\\xb5\\xd0\\xbd\\xd0\\xb8, \\xd0\\xb0 \\xd0\\xb5\\xd1\\x81\\xd0\\xbb\\xd0\\xb8 \\xd0\\xbc\\xd1\\x8b \\xd1\\x85\\xd0\\xbe\\xd1\\x82\\xd0\\xb8\\xd0\\xbc \\xd0\\xb5\\xd1\\x89\\xd0\\xb5 \\xd0\\xb8 \\xd1\\x80\\xd0\\xb0\\xd1\\x81\\xd1\\x81\\xd0\\xbc\\xd0\\xbe\\xd1\\x82\\xd1\\x80\\xd0\\xb5\\xd1\\x82\\xd1\\x8c \\xd0\\xb4\\xd0\\xb8\\xd0\\xbd\\xd0\\xb0\\xd0\\xbc\\xd0\\xb8\\xd0\\xba\\xd1\\x83, \\xd1\\x8d\\xd1\\x82\\xd0\\xbe\\xd1\\x82 \\xd1\\x81\\xd0\\xbf\\xd0\\xbe\\xd1\\x81\\xd0\\xbe\\xd0\\xb1 \\xd0\\xbd\\xd0\\xb5 \\xd0\\xbf\\xd0\\xbe\\xd0\\xb4\\xd1\\x85\\xd0\\xbe\\xd0\\xb4\\xd0\\xb8\\xd1\\x82 \\xd1\\x81\\xd0\\xbe\\xd0\\xb2\\xd1\\x81\\xd0\\xb5\\xd0\\xbc.\\n\\xd0\\x9e\\xd1\\x81\\xd1\\x82\\xd0\\xb0\\xd0\\xb5\\xd1\\x82\\xd1\\x81\\xd1\\x8f \\xd0\\xbe\\xd0\\xb1\\xd1\\x80\\xd0\\xb0\\xd1\\x82\\xd0\\xb8\\xd1\\x82\\xd1\\x8c\\xd1\\x81\\xd1\\x8f \\xd0\\xba \\xd0\\xb4\\xd0\\xbe\\xd0\\xb1\\xd1\\x80\\xd0\\xbe\\xd0\\xb2\\xd0\\xbe\\xd0\\xbb\\xd1\\x8c\\xd0\\xbd\\xd0\\xbe \\xd1\\x81\\xd0\\xbe\\xd0\\xb1\\xd0\\xb8\\xd1\\x80\\xd0\\xb0\\xd0\\xb5\\xd0\\xbc\\xd1\\x8b\\xd0\\xbc \\xd0\\xb8 \\xd0\\xbf\\xd1\\x83\\xd0\\xb1\\xd0\\xbb\\xd0\\xb8\\xd0\\xba\\xd1\\x83\\xd0\\xb5\\xd0\\xbc\\xd1\\x8b\\xd0\\xbc \\xd0\\xb2 \\xd1\\x81\\xd0\\xb5\\xd1\\x82\\xd0\\xb8 \\xd0\\xb1\\xd0\\xbe\\xd0\\xbb\\xd1\\x8c\\xd1\\x88\\xd0\\xb8\\xd0\\xbc \\xd0\\xb4\\xd0\\xb0\\xd0\\xbd\\xd0\\xbd\\xd1\\x8b\\xd0\\xbc, \\xd0\\xb0 \\xd0\\xb8\\xd0\\xbc\\xd0\\xb5\\xd0\\xbd\\xd0\\xbd\\xd0\\xbe \\xd0\\xba \\xd0\\xb4\\xd0\\xb0\\xd0\\xbd\\xd0\\xbd\\xd1\\x8b\\xd0\\xbc \\xd1\\x81\\xd0\\xbe\\xd1\\x86\\xd0\\xb8\\xd0\\xb0\\xd0\\xbb\\xd1\\x8c\\xd0\\xbd\\xd1\\x8b\\xd1\\x85 \\xd1\\x81\\xd0\\xb5\\xd1\\x82\\xd0\\xb5\\xd0\\xb9.\\n\\xd0\\x92\\xd0\\xb7\\xd1\\x8f\\xd1\\x82\\xd1\\x8c 17 \\xd0\\xbc\\xd0\\xb8\\xd0\\xbb\\xd0\\xbb\\xd0\\xb8\\xd0\\xbe\\xd0\\xbd\\xd0\\xbe\\xd0\\xb2 \\xd1\\x84\\xd0\\xbe\\xd1\\x82\\xd0\\xbe\\xd0\\xb3\\xd1\\x80\\xd0\\xb0\\xd1\\x84\\xd0\\xb8\\xd0\\xb9 \\xd0\\xb8\\xd0\\xb7 Flickr, 5.1 \\xd0\\xbc\\xd0\\xb8\\xd0\\xbb\\xd0\\xbb\\xd0\\xb8\\xd0\\xbe\\xd0\\xbd\\xd0\\xb0 \\xd1\\x81\\xd0\\xbd\\xd0\\xb8\\xd0\\xbc\\xd0\\xba\\xd0\\xbe\\xd0\\xb2 \\xd0\\xb8\\xd0\\xb7 \\xd0\\xbf\\xd1\\x83\\xd0\\xb1\\xd0\\xbb\\xd0\\xb8\\xd1\\x87\\xd0\\xbd\\xd1\\x8b\\xd1\\x85 \\xd0\\xb0\\xd0\\xba\\xd0\\xba\\xd0\\xb0\\xd1\\x83\\xd0\\xbd\\xd1\\x82\\xd0\\xbe\\xd0\\xb2 Instagram \\xd0\\xb8 5.3 \\xd0\\xbc\\xd0\\xb8\\xd0\\xbb\\xd0\\xbb\\xd0\\xb8\\xd0\\xbe\\xd0\\xbd\\xd0\\xb0 \\xd1\\x82\\xd0\\xb2\\xd0\\xb8\\xd1\\x82\\xd0\\xbe\\xd0\\xb2 \\xd0\\xb8\\xd0\\xb7 \\xd0\\xa2\\xd0\\xb2\\xd0\\xb8\\xd1\\x82\\xd1\\x82\\xd0\\xb5\\xd1\\x80\\xd0\\xb0, \\xd0\\xba\\xd0\\xb0\\xd0\\xb6\\xd0\\xb4\\xd1\\x8b\\xd0\\xb9 \\xd0\\xb8\\xd0\\xb7 \\xd0\\xba\\xd0\\xbe\\xd1\\x82\\xd0\\xbe\\xd1\\x80\\xd1\\x8b\\xd1\\x85 \\xd0\\xbe\\xd0\\xb1\\xd0\\xbb\\xd0\\xb0\\xd0\\xb4\\xd0\\xb0\\xd0\\xb5\\xd1\\x82 \\xd0\\xb3\\xd0\\xb5\\xd0\\xbe\\xd1\\x82\\xd0\\xb5\\xd0\\xb3\\xd0\\xbe\\xd0\\xbc \\xe2\\x80\\x94 \\xd0\\xb8 \\xd1\\x81 \\xd1\\x8d\\xd1\\x82\\xd0\\xb8\\xd0\\xbc \\xd1\\x83\\xd0\\xb6\\xd0\\xb5 \\xd0\\xbc\\xd0\\xbe\\xd0\\xb6\\xd0\\xbd\\xd0\\xbe \\xd1\\x80\\xd0\\xb0\\xd0\\xb1\\xd0\\xbe\\xd1\\x82\\xd0\\xb0\\xd1\\x82\\xd1\\x8c.\\n\\xd0\\x9d\\xd0\\xb0\\xd0\\xb1\\xd0\\xbe\\xd1\\x80 \\xd0\\xb4\\xd0\\xb0\\xd0\\xbd\\xd0\\xbd\\xd1\\x8b\\xd1\\x85 \\xd0\\xb8\\xd0\\xb7 \\xd0\\xa2\\xd0\\xb2\\xd0\\xb8\\xd1\\x82\\xd1\\x82\\xd0\\xb5\\xd1\\x80\\xd0\\xb0 \\xd0\\xb1\\xd1\\x8b\\xd0\\xbb \\xd0\\xbe\\xd1\\x87\\xd0\\xb8\\xd1\\x89\\xd0\\xb5\\xd0\\xbd \\xd0\\xbe\\xd1\\x82 \\xd1\\x80\\xd0\\xb5\\xd1\\x82\\xd0\\xb2\\xd0\\xb8\\xd1\\x82\\xd0\\xbe\\xd0\\xb2 \\xd0\\xb8 \\xd0\\xbe\\xd1\\x82\\xd0\\xb2\\xd0\\xb5\\xd1\\x82\\xd0\\xbe\\xd0\\xb2, \\xd0\\xbf\\xd0\\xbe\\xd1\\x81\\xd0\\xbb\\xd0\\xb5 \\xd1\\x87\\xd0\\xb5\\xd0\\xb3\\xd0\\xbe \\xd0\\xb2 \\xd1\\x81\\xd1\\x83\\xd0\\xbc\\xd0\\xbc\\xd0\\xb5 \\xd0\\xb4\\xd0\\xbb\\xd1\\x8f \\xd0\\xb0\\xd0\\xbd\\xd0\\xb0\\xd0\\xbb\\xd0\\xb8\\xd0\\xb7\\xd0\\xb0 \\xd0\\xb1\\xd1\\x8b\\xd0\\xbb\\xd0\\xbe \\xd0\\xb3\\xd0\\xbe\\xd1\\x82\\xd0\\xbe\\xd0\\xb2\\xd0\\xbe 1.7 \\xd0\\xbc\\xd0\\xb8\\xd0\\xbb\\xd0\\xbb\\xd0\\xb8\\xd0\\xbe\\xd0\\xbd\\xd0\\xb0 \\xd1\\x82\\xd0\\xb2\\xd0\\xb8\\xd1\\x82\\xd0\\xbe\\xd0\\xb2.\\n\\xd0\\xa2\\xd0\\xb5\\xd0\\xba\\xd1\\x81\\xd1\\x82\\xd1\\x8b \\xd1\\x82\\xd0\\xb2\\xd0\\xb8\\xd1\\x82\\xd0\\xbe\\xd0\\xb2 \\xd0\\xb8 \\xd0\\xbf\\xd0\\xbe\\xd0\\xb4\\xd0\\xbf\\xd0\\xb8\\xd1\\x81\\xd0\\xb5\\xd0\\xb9 \\xd0\\xba \\xd1\\x84\\xd0\\xbe\\xd1\\x82\\xd0\\xbe\\xd0\\xb3\\xd1\\x80\\xd0\\xb0\\xd1\\x84\\xd0\\xb8\\xd1\\x8f\\xd0\\xbc \\xd0\\xb1\\xd1\\x8b\\xd0\\xbb \\xd1\\x80\\xd0\\xb0\\xd1\\x81\\xd0\\xbf\\xd0\\xb0\\xd1\\x80\\xd1\\x81\\xd0\\xb5\\xd0\\xbd, \\xd0\\xb8 \\xd0\\xb8\\xd0\\xb7 \\xd0\\xb2\\xd1\\x81\\xd0\\xb5\\xd0\\xb3\\xd0\\xbe \\xd0\\xbc\\xd0\\xb0\\xd1\\x81\\xd1\\x81\\xd0\\xb8\\xd0\\xb2\\xd0\\xb0 \\xd1\\x81\\xd0\\xbb\\xd0\\xbe\\xd0\\xb2 \\xd0\\xb1\\xd1\\x8b\\xd0\\xbb\\xd0\\xb8 \\xd0\\xbe\\xd1\\x82\\xd0\\xbe\\xd0\\xb1\\xd1\\x80\\xd0\\xb0\\xd0\\xbd\\xd1\\x8b \\xd1\\x82\\xd0\\xbe\\xd0\\xbb\\xd1\\x8c\\xd0\\xba\\xd0\\xbe \\xd1\\x82\\xd0\\xb5, \\xd0\\xba\\xd0\\xbe\\xd1\\x82\\xd0\\xbe\\xd1\\x80\\xd1\\x8b\\xd0\\xb5 \\xd0\\xb8\\xd0\\xbc\\xd0\\xb5\\xd1\\x8e\\xd1\\x82 \\xd0\\xbe\\xd1\\x82\\xd0\\xbd\\xd0\\xbe\\xd1\\x88\\xd0\\xb5\\xd0\\xbd\\xd0\\xb8\\xd0\\xb5 \\xd0\\xba \\xd0\\xb7\\xd0\\xb0\\xd0\\xbf\\xd0\\xb0\\xd1\\x85\\xd0\\xb0\\xd0\\xbc.\\n\\xd0\\x9d\\xd0\\xb0 \\xd0\\xbe\\xd1\\x81\\xd0\\xbd\\xd0\\xbe\\xd0\\xb2\\xd0\\xb5 \\xd1\\x8d\\xd1\\x82\\xd0\\xb8\\xd1\\x85 \\xd0\\xb4\\xd0\\xb0\\xd0\\xbd\\xd0\\xbd\\xd1\\x8b\\xd1\\x85 \\xd0\\xb1\\xd1\\x8b\\xd0\\xbb \\xd0\\xbf\\xd0\\xbe\\xd1\\x81\\xd1\\x82\\xd1\\x80\\xd0\\xbe\\xd0\\xb5\\xd0\\xbd \\xd0\\xb2\\xd0\\xb7\\xd0\\xb2\\xd0\\xb5\\xd1\\x88\\xd0\\xb5\\xd0\\xbd\\xd0\\xbd\\xd1\\x8b\\xd0\\xb9 \\xd0\\xb3\\xd1\\x80\\xd0\\xb0\\xd1\\x84 \\xd1\\x81\\xd0\\xb2\\xd1\\x8f\\xd0\\xb7\\xd0\\xb5\\xd0\\xb9 \\xd0\\xbc\\xd0\\xb5\\xd0\\xb6\\xd0\\xb4\\xd1\\x83 \\xd1\\x81\\xd0\\xbb\\xd0\\xbe\\xd0\\xb2\\xd0\\xb0\\xd0\\xbc\\xd0\\xb8, \\xd0\\xb2 \\xd0\\xb2\\xd0\\xb5\\xd1\\x80\\xd1\\x88\\xd0\\xb8\\xd0\\xbd\\xd0\\xb0\\xd1\\x85 \\xd0\\xba\\xd0\\xbe\\xd1\\x82\\xd0\\xbe\\xd1\\x80\\xd0\\xbe\\xd0\\xb3\\xd0\\xbe \\xd0\\xb7\\xd0\\xb0\\xd0\\xba\\xd1\\x80\\xd0\\xb5\\xd0\\xbf\\xd0\\xbb\\xd0\\xb5\\xd0\\xbd\\xd1\\x8b \\xd1\\x81\\xd0\\xb0\\xd0\\xbc\\xd0\\xb8 \\xd1\\x81\\xd0\\xbb\\xd0\\xbe\\xd0\\xb2\\xd0\\xb0, \\xd0\\xb0 \\xd0\\xb2\\xd0\\xb5\\xd1\\x81 \\xd1\\x80\\xd0\\xb5\\xd0\\xb1\\xd1\\x80\\xd0\\xb0 \\xd1\\x81\\xd0\\xbe\\xd0\\xbe\\xd1\\x82\\xd0\\xb2\\xd0\\xb5\\xd1\\x82\\xd1\\x81\\xd1\\x82\\xd0\\xb2\\xd1\\x83\\xd0\\xb5\\xd1\\x82 \\xd0\\xba\\xd0\\xbe\\xd0\\xbb\\xd0\\xb8\\xd1\\x87\\xd0\\xb5\\xd1\\x81\\xd1\\x82\\xd0\\xb2\\xd1\\x83 \\xd1\\x80\\xd0\\xb0\\xd0\\xb7, \\xd0\\xba\\xd0\\xbe\\xd0\\xb3\\xd0\\xb4\\xd0\\xb0 \\xd1\\x8d\\xd1\\x82\\xd0\\xb8 \\xd0\\xb4\\xd0\\xb2\\xd0\\xb0 \\xd1\\x81\\xd0\\xbb\\xd0\\xbe\\xd0\\xb2\\xd0\\xb0 \\xd0\\xb2\\xd1\\x81\\xd1\\x82\\xd1\\x80\\xd0\\xb5\\xd1\\x87\\xd0\\xb0\\xd1\\x8e\\xd1\\x82\\xd1\\x81\\xd1\\x8f \\xd0\\xb2 \\xd0\\xbe\\xd0\\xb4\\xd0\\xbd\\xd0\\xbe\\xd0\\xbc \\xd1\\x82\\xd0\\xb5\\xd0\\xba\\xd1\\x81\\xd1\\x82\\xd0\\xb5. \\xd0\\xa2\\xd0\\xb0\\xd0\\xba\\xd0\\xbe\\xd0\\xb9 \\xd0\\xb0\\xd0\\xbd\\xd0\\xb0\\xd0\\xbb\\xd0\\xb8\\xd0\\xb7 \\xd0\\xb2\\xd1\\x8b\\xd1\\x8f\\xd0\\xb2\\xd0\\xb8\\xd0\\xbb \\xd0\\xbd\\xd0\\xb5\\xd1\\x81\\xd0\\xba\\xd0\\xbe\\xd0\\xbb\\xd1\\x8c\\xd0\\xba\\xd0\\xbe \\xd1\\x87\\xd0\\xb5\\xd1\\x82\\xd0\\xba\\xd0\\xbe \\xd0\\xbe\\xd0\\xbf\\xd1\\x80\\xd0\\xb5\\xd0\\xb4\\xd0\\xb5\\xd0\\xbb\\xd0\\xb5\\xd0\\xbd\\xd0\\xbd\\xd1\\x8b\\xd1\\x85 \\xd0\\xba\\xd0\\xb0\\xd1\\x82\\xd0\\xb5\\xd0\\xb3\\xd0\\xbe\\xd1\\x80\\xd0\\xb8\\xd0\\xb9 \\xd0\\xb7\\xd0\\xb0\\xd0\\xbf\\xd0\\xb0\\xd1\\x85\\xd0\\xbe\\xd0\\xb2, \\xd0\\xbd\\xd0\\xb0\\xd0\\xbf\\xd1\\x80\\xd0\\xb8\\xd0\\xbc\\xd0\\xb5\\xd1\\x80, \\xc2\\xab\\xd0\\xbf\\xd1\\x80\\xd0\\xb8\\xd1\\x80\\xd0\\xbe\\xd0\\xb4\\xd0\\xbd\\xd1\\x8b\\xd0\\xb5\\xc2\\xbb, \\xc2\\xab\\xd0\\xb8\\xd0\\xbd\\xd0\\xb4\\xd1\\x83\\xd1\\x81\\xd1\\x82\\xd1\\x80\\xd0\\xb8\\xd0\\xb0\\xd0\\xbb\\xd1\\x8c\\xd0\\xbd\\xd1\\x8b\\xd0\\xb5\\xc2\\xbb, \\xc2\\xab\\xd0\\xb5\\xd0\\xb4\\xd0\\xb0\\xc2\\xbb, \\xc2\\xab\\xd0\\xb2\\xd1\\x8b\\xd0\\xb1\\xd1\\x80\\xd0\\xbe\\xd1\\x81\\xd1\\x8b/\\xd0\\xb2\\xd1\\x8b\\xd1\\x85\\xd0\\xbb\\xd0\\xbe\\xd0\\xbf\\xd1\\x8b\\xc2\\xbb, \\xc2\\xab\\xd0\\xbc\\xd1\\x83\\xd1\\x81\\xd0\\xbe\\xd1\\x80\\xc2\\xbb.\\n\\xd0\\x92\\xd0\\xbd\\xd1\\x83\\xd1\\x82\\xd1\\x80\\xd0\\xb8 \\xd0\\xba\\xd0\\xb0\\xd1\\x82\\xd0\\xb5\\xd0\\xb3\\xd0\\xbe\\xd1\\x80\\xd0\\xb8\\xd0\\xb9 \\xd0\\xb8\\xd0\\xbd\\xd0\\xbe\\xd0\\xb3\\xd0\\xb4\\xd0\\xb0 \\xd0\\xbc\\xd0\\xbe\\xd0\\xb6\\xd0\\xbd\\xd0\\xbe \\xd0\\xb1\\xd1\\x8b\\xd0\\xbb\\xd0\\xbe \\xd0\\xb2\\xd1\\x8b\\xd0\\xb4\\xd0\\xb5\\xd0\\xbb\\xd0\\xb8\\xd1\\x82\\xd1\\x8c \\xd0\\xbf\\xd0\\xbe\\xd0\\xb4\\xd0\\xba\\xd0\\xb0\\xd1\\x82\\xd0\\xb5\\xd0\\xb3\\xd0\\xbe\\xd1\\x80\\xd0\\xb8\\xd0\\xb8 \\xd0\\xb8 \\xd0\\xbe\\xd0\\xbf\\xd1\\x80\\xd0\\xb5\\xd0\\xb4\\xd0\\xb5\\xd0\\xbb\\xd0\\xb8\\xd1\\x82\\xd1\\x8c \\xd1\\x81\\xd0\\xb0\\xd0\\xbc\\xd1\\x8b\\xd0\\xb5 \\xd1\\x87\\xd0\\xb0\\xd1\\x81\\xd1\\x82\\xd0\\xbe \\xd0\\xb2\\xd1\\x81\\xd1\\x82\\xd1\\x80\\xd0\\xb5\\xd1\\x87\\xd0\\xb0\\xd1\\x8e\\xd1\\x89\\xd0\\xb8\\xd0\\xb5\\xd1\\x81\\xd1\\x8f \\xd1\\x81\\xd0\\xbb\\xd0\\xbe\\xd0\\xb2\\xd0\\xb0-\\xd0\\xbc\\xd0\\xb5\\xd1\\x82\\xd0\\xba\\xd0\\xb8 \\xd1\\x8d\\xd1\\x82\\xd0\\xbe\\xd0\\xb9 \\xd0\\xba\\xd0\\xb0\\xd1\\x82\\xd0\\xb5\\xd0\\xb3\\xd0\\xbe\\xd1\\x80\\xd0\\xb8\\xd0\\xb8.\\n\\xd0\\xa1\\xd1\\x85\\xd0\\xb5\\xd0\\xbc\\xd1\\x83 \\xd1\\x8d\\xd1\\x82\\xd0\\xb8\\xd1\\x85 \\xd0\\xba\\xd0\\xb0\\xd1\\x82\\xd0\\xb5\\xd0\\xb3\\xd0\\xbe\\xd1\\x80\\xd0\\xb8\\xd0\\xb9 \\xd0\\xbc\\xd0\\xbe\\xd0\\xb6\\xd0\\xbd\\xd0\\xbe \\xd1\\x83\\xd0\\xb2\\xd0\\xb8\\xd0\\xb4\\xd0\\xb5\\xd1\\x82\\xd1\\x8c \\xd0\\xbd\\xd0\\xb8\\xd0\\xb6\\xd0\\xb5.\\n\\xd0\\xa6\\xd0\\xb2\\xd0\\xb5\\xd1\\x82\\xd0\\xb0 \\xd0\\xb2\\xd1\\x8b\\xd0\\xb1\\xd1\\x80\\xd0\\xb0\\xd0\\xbd\\xd1\\x8b \\xd0\\xbd\\xd0\\xb5 \\xd0\\xbf\\xd1\\x80\\xd0\\xbe\\xd1\\x81\\xd1\\x82\\xd0\\xbe \\xd1\\x82\\xd0\\xb0\\xd0\\xba.\\n\\xd0\\x98\\xd1\\x81\\xd1\\x81\\xd0\\xbb\\xd0\\xb5\\xd0\\xb4\\xd0\\xbe\\xd0\\xb2\\xd0\\xb0\\xd1\\x82\\xd0\\xb5\\xd0\\xbb\\xd0\\xb8 \\xd0\\xbd\\xd0\\xb0\\xd1\\x88\\xd0\\xbb\\xd0\\xb8 \\xd1\\x81\\xd0\\xb2\\xd1\\x8f\\xd0\\xb7\\xd0\\xb8 \\xd0\\xbc\\xd0\\xb5\\xd0\\xb6\\xd0\\xb4\\xd1\\x83 \\xd0\\xb7\\xd0\\xb0\\xd0\\xbf\\xd0\\xb0\\xd1\\x85\\xd0\\xb0\\xd0\\xbc\\xd0\\xb8 \\xd0\\xb8 \\xd1\\x86\\xd0\\xb2\\xd0\\xb5\\xd1\\x82\\xd0\\xb0\\xd0\\xbc\\xd0\\xb8, \\xd0\\xbf\\xd1\\x80\\xd0\\xb5\\xd0\\xbe\\xd0\\xb1\\xd0\\xbb\\xd0\\xb0\\xd0\\xb4\\xd0\\xb0\\xd1\\x8e\\xd1\\x89\\xd0\\xb8\\xd0\\xbc\\xd0\\xb8 \\xd0\\xbd\\xd0\\xb0 \\xd0\\xb0\\xd0\\xbd\\xd0\\xb0\\xd0\\xbb\\xd0\\xb8\\xd0\\xb7\\xd0\\xb8\\xd1\\x80\\xd1\\x83\\xd0\\xb5\\xd0\\xbc\\xd1\\x8b\\xd1\\x85 \\xd1\\x84\\xd0\\xbe\\xd1\\x82\\xd0\\xbe\\xd0\\xb3\\xd1\\x80\\xd0\\xb0\\xd1\\x84\\xd0\\xb8\\xd1\\x8f\\xd1\\x85.\\n\\xd0\\x97\\xd0\\xb0\\xd0\\xbf\\xd0\\xb0\\xd1\\x85\\xd0\\xb8 \\xd1\\x82\\xd0\\xb0\\xd0\\xba\\xd0\\xb6\\xd0\\xb5 \\xd1\\x81\\xd0\\xb2\\xd1\\x8f\\xd0\\xb7\\xd0\\xb0\\xd0\\xbd\\xd1\\x8b \\xd1\\x81 \\xd0\\xbd\\xd0\\xb5\\xd0\\xb3\\xd0\\xb0\\xd1\\x82\\xd0\\xb8\\xd0\\xb2\\xd0\\xbd\\xd1\\x8b\\xd0\\xbc\\xd0\\xb8 \\xd0\\xb8\\xd0\\xbb\\xd0\\xb8 \\xd0\\xbf\\xd0\\xbe\\xd0\\xb7\\xd0\\xb8\\xd1\\x82\\xd0\\xb8\\xd0\\xb2\\xd0\\xbd\\xd1\\x8b\\xd0\\xbc\\xd0\\xb8 \\xd1\\x8d\\xd0\\xbc\\xd0\\xbe\\xd1\\x86\\xd0\\xb8\\xd1\\x8f\\xd0\\xbc\\xd0\\xb8, \\xd0\\xbd\\xd0\\xb0\\xd0\\xbf\\xd1\\x80\\xd0\\xb8\\xd0\\xbc\\xd0\\xb5\\xd1\\x80, \\xd0\\xba\\xd0\\xb0\\xd1\\x82\\xd0\\xb5\\xd0\\xb3\\xd0\\xbe\\xd1\\x80\\xd0\\xb8\\xd1\\x8f \\xc2\\xab\\xd0\\xbc\\xd1\\x83\\xd1\\x81\\xd0\\xbe\\xd1\\x80\\xc2\\xbb \\xd0\\xb1\\xd1\\x83\\xd0\\xb4\\xd0\\xb5\\xd1\\x82 \\xd0\\xbf\\xd0\\xbe\\xd0\\xbb\\xd0\\xbe\\xd0\\xb6\\xd0\\xb8\\xd1\\x82\\xd0\\xb5\\xd0\\xbb\\xd1\\x8c\\xd0\\xbd\\xd0\\xbe \\xd0\\xba\\xd0\\xbe\\xd1\\x80\\xd1\\x80\\xd0\\xb5\\xd0\\xbb\\xd0\\xb8\\xd1\\x80\\xd0\\xbe\\xd0\\xb2\\xd0\\xb0\\xd1\\x82\\xd1\\x8c \\xd1\\x81 \\xd0\\xbd\\xd0\\xb5\\xd0\\xb3\\xd0\\xb0\\xd1\\x82\\xd0\\xb8\\xd0\\xb2\\xd0\\xbd\\xd1\\x8b\\xd0\\xbc\\xd0\\xb8 \\xd1\\x8d\\xd0\\xbc\\xd0\\xbe\\xd1\\x86\\xd0\\xb8\\xd1\\x8f\\xd0\\xbc\\xd0\\xb8, \\xd0\\xbe\\xd1\\x82\\xd0\\xb2\\xd1\\x80\\xd0\\xb0\\xd1\\x89\\xd0\\xb5\\xd0\\xbd\\xd0\\xb8\\xd0\\xb5\\xd0\\xbc \\xd0\\xb8 \\xd0\\xbf\\xd0\\xb5\\xd1\\x87\\xd0\\xb0\\xd0\\xbb\\xd1\\x8c\\xd1\\x8e, \\xd0\\xbd\\xd0\\xbe \\xd0\\xbe\\xd1\\x82\\xd1\\x80\\xd0\\xb8\\xd1\\x86\\xd0\\xb0\\xd1\\x82\\xd0\\xb5\\xd0\\xbb\\xd1\\x8c\\xd0\\xbd\\xd0\\xbe \\xe2\\x80\\x94 \\xd1\\x81 \\xd1\\x80\\xd0\\xb0\\xd0\\xb4\\xd0\\xbe\\xd1\\x81\\xd1\\x82\\xd1\\x8c\\xd1\\x8e.\\n\\n\\xd0\\x92 \\xd1\\x81\\xd0\\xbe\\xd0\\xb2\\xd1\\x80\\xd0\\xb5\\xd0\\xbc\\xd0\\xb5\\xd0\\xbd\\xd0\\xbd\\xd1\\x8b\\xd1\\x85 \\xd0\\xb3\\xd0\\xbe\\xd1\\x80\\xd0\\xbe\\xd0\\xb4\\xd0\\xb0\\xd1\\x85 \\xd1\\x81\\xd1\\x83\\xd1\\x89\\xd0\\xb5\\xd1\\x81\\xd1\\x82\\xd0\\xb2\\xd1\\x83\\xd1\\x8e\\xd1\\x82 \\xd0\\xbf\\xd1\\x80\\xd0\\xbe\\xd0\\xb3\\xd1\\x80\\xd0\\xb0\\xd0\\xbc\\xd0\\xbc\\xd1\\x8b \\xd0\\xbc\\xd0\\xbe\\xd0\\xbd\\xd0\\xb8\\xd1\\x82\\xd0\\xbe\\xd1\\x80\\xd0\\xb8\\xd0\\xbd\\xd0\\xb3\\xd0\\xb0 \\xd0\\xba\\xd0\\xb0\\xd1\\x87\\xd0\\xb5\\xd1\\x81\\xd1\\x82\\xd0\\xb2\\xd0\\xb0 \\xd0\\xb2\\xd0\\xbe\\xd0\\xb7\\xd0\\xb4\\xd1\\x83\\xd1\\x85\\xd0\\xb0, \\xd0\\xbf\\xd0\\xbe\\xd0\\xb7\\xd0\\xb2\\xd0\\xbe\\xd0\\xbb\\xd1\\x8f\\xd1\\x8e\\xd1\\x89\\xd0\\xb8\\xd0\\xb5 \\xd0\\xb3\\xd0\\xbe\\xd1\\x80\\xd0\\xbe\\xd0\\xb4\\xd1\\x81\\xd0\\xba\\xd0\\xb8\\xd0\\xbc \\xd1\\x81\\xd0\\xbb\\xd1\\x83\\xd0\\xb6\\xd0\\xb1\\xd0\\xb0\\xd0\\xbc \\xd0\\xbe\\xd0\\xbf\\xd0\\xb5\\xd1\\x80\\xd0\\xb0\\xd1\\x82\\xd0\\xb8\\xd0\\xb2\\xd0\\xbd\\xd0\\xbe \\xd1\\x80\\xd0\\xb5\\xd0\\xb0\\xd0\\xb3\\xd0\\xb8\\xd1\\x80\\xd0\\xbe\\xd0\\xb2\\xd0\\xb0\\xd1\\x82\\xd1\\x8c \\xd0\\xbd\\xd0\\xb0 \\xd0\\xb0\\xd0\\xbd\\xd0\\xbe\\xd0\\xbc\\xd0\\xb0\\xd0\\xbb\\xd0\\xb8\\xd0\\xb8, \\xd0\\xb0 \\xd0\\xbe\\xd0\\xb1\\xd1\\x8b\\xd1\\x87\\xd0\\xbd\\xd1\\x8b\\xd0\\xbc \\xd0\\xb3\\xd0\\xbe\\xd1\\x80\\xd0\\xbe\\xd0\\xb6\\xd0\\xb0\\xd0\\xbd\\xd0\\xb0\\xd0\\xbc \\xd1\\x81\\xd0\\xbb\\xd0\\xb5\\xd0\\xb4\\xd0\\xb8\\xd1\\x82\\xd1\\x8c \\xd0\\xb7\\xd0\\xb0 \\xd1\\x81\\xd0\\xbe\\xd1\\x81\\xd1\\x82\\xd0\\xb0\\xd0\\xb2\\xd0\\xbe\\xd0\\xbc \\xd0\\xb2\\xd0\\xbe\\xd0\\xb7\\xd0\\xb4\\xd1\\x83\\xd1\\x85\\xd0\\xb0, \\xd0\\xba\\xd0\\xbe\\xd1\\x82\\xd0\\xbe\\xd1\\x80\\xd1\\x8b\\xd0\\xbc \\xd0\\xbe\\xd0\\xbd\\xd0\\xb8 \\xd0\\xb4\\xd1\\x8b\\xd1\\x88\\xd0\\xb0\\xd1\\x82. \\xd0\\x9c\\xd0\\xb0\\xd1\\x81\\xd1\\x81\\xd0\\xb8\\xd0\\xb2 \\xd0\\xb4\\xd0\\xb0\\xd0\\xbd\\xd0\\xbd\\xd1\\x8b\\xd1\\x85 \\xd0\\xbe \\xd0\\xb3\\xd0\\xbe\\xd1\\x80\\xd0\\xbe\\xd0\\xb4\\xd1\\x81\\xd0\\xba\\xd0\\xb8\\xd1\\x85 \\xd0\\xb7\\xd0\\xb0\\xd0\\xbf\\xd0\\xb0\\xd1\\x85\\xd0\\xb0\\xd1\\x85 \\xd1\\x81\\xd1\\x80\\xd0\\xb0\\xd0\\xb2\\xd0\\xbd\\xd0\\xb8\\xd0\\xbb\\xd0\\xb8 \\xd0\\xb8 \\xd1\\x81 \\xd1\\x82\\xd0\\xb0\\xd0\\xba\\xd0\\xb8\\xd0\\xbc\\xd0\\xb8 \\xd0\\xb4\\xd0\\xb0\\xd0\\xbd\\xd0\\xbd\\xd1\\x8b\\xd0\\xbc\\xd0\\xb8 \\xd0\\xb8 \\xd1\\x81\\xd0\\xb4\\xd0\\xb5\\xd0\\xbb\\xd0\\xb0\\xd0\\xbb\\xd0\\xb8 \\xd0\\xb2\\xd1\\x8b\\xd0\\xb2\\xd0\\xbe\\xd0\\xb4 \\xd0\\xbe \\xd1\\x82\\xd0\\xbe\\xd0\\xbc, \\xd1\\x87\\xd1\\x82\\xd0\\xbe \\xd0\\xb4\\xd0\\xb0\\xd0\\xbd\\xd0\\xbd\\xd1\\x8b\\xd0\\xb5 \\xd0\\xbe \\xd0\\xb1\\xd0\\xbe\\xd0\\xbb\\xd0\\xb5\\xd0\\xb5 \\xd0\\xbd\\xd0\\xb8\\xd0\\xb7\\xd0\\xba\\xd0\\xbe\\xd0\\xbc \\xd0\\xba\\xd0\\xb0\\xd1\\x87\\xd0\\xb5\\xd1\\x81\\xd1\\x82\\xd0\\xb2\\xd0\\xb5 \\xd0\\xb2\\xd0\\xbe\\xd0\\xb7\\xd0\\xb4\\xd1\\x83\\xd1\\x85\\xd0\\xb0 \\xd1\\x81 \\xd0\\xbf\\xd1\\x80\\xd0\\xb8\\xd0\\xbc\\xd0\\xb5\\xd1\\x81\\xd1\\x8f\\xd0\\xbc\\xd0\\xb8 \\xd0\\xbf\\xd0\\xbe\\xd0\\xbb\\xd0\\xbe\\xd0\\xb6\\xd0\\xb8\\xd1\\x82\\xd0\\xb5\\xd0\\xbb\\xd1\\x8c\\xd0\\xbd\\xd0\\xbe \\xd0\\xba\\xd0\\xbe\\xd1\\x80\\xd1\\x80\\xd0\\xb5\\xd0\\xbb\\xd0\\xb8\\xd1\\x80\\xd1\\x83\\xd1\\x8e\\xd1\\x82 \\xd1\\x81 \\xd1\\x82\\xd0\\xb0\\xd0\\xba\\xd0\\xb8\\xd0\\xbc\\xd0\\xb8 \\xd0\\xba\\xd0\\xb0\\xd1\\x82\\xd0\\xb5\\xd0\\xb3\\xd0\\xbe\\xd1\\x80\\xd0\\xb8\\xd1\\x8f\\xd0\\xbc\\xd0\\xb8, \\xd0\\xba\\xd0\\xb0\\xd0\\xba \\xc2\\xab\\xd0\\xb2\\xd1\\x8b\\xd0\\xb1\\xd1\\x80\\xd0\\xbe\\xd1\\x81\\xd1\\x8b/\\xd0\\xb2\\xd1\\x8b\\xd1\\x85\\xd0\\xbb\\xd0\\xbe\\xd0\\xbf\\xd1\\x8b\\xc2\\xbb, \\xd0\\xb8 \\xd0\\xbe\\xd1\\x82\\xd1\\x80\\xd0\\xb8\\xd1\\x86\\xd0\\xb0\\xd1\\x82\\xd0\\xb5\\xd0\\xbb\\xd1\\x8c\\xd0\\xbd\\xd0\\xbe \\xe2\\x80\\x94 \\xd1\\x81 \\xd0\\xba\\xd0\\xb0\\xd1\\x82\\xd0\\xb5\\xd0\\xb3\\xd0\\xbe\\xd1\\x80\\xd0\\xb8\\xd0\\xb5\\xd0\\xb9 \\xc2\\xab\\xd0\\xbf\\xd1\\x80\\xd0\\xb8\\xd1\\x80\\xd0\\xbe\\xd0\\xb4\\xd0\\xb0\\xc2\\xbb.\\n\\xd0\\xa2\\xd0\\xb0\\xd0\\xba\\xd0\\xbe\\xd0\\xb9 \\xd0\\xb2\\xd1\\x8b\\xd0\\xb2\\xd0\\xbe\\xd0\\xb4 \\xd0\\xba\\xd0\\xb0\\xd0\\xb6\\xd0\\xb5\\xd1\\x82\\xd1\\x81\\xd1\\x8f \\xd0\\xbb\\xd0\\xbe\\xd0\\xb3\\xd0\\xb8\\xd1\\x87\\xd0\\xbd\\xd1\\x8b\\xd0\\xbc, \\xd0\\xbd\\xd0\\xbe \\xd1\\x82\\xd0\\xb5\\xd0\\xbf\\xd0\\xb5\\xd1\\x80\\xd1\\x8c \\xd0\\xbe\\xd0\\xbd \\xd0\\xb4\\xd0\\xbe\\xd0\\xba\\xd0\\xb0\\xd0\\xb7\\xd0\\xb0\\xd0\\xbd \\xd0\\xbd\\xd0\\xb0\\xd1\\x83\\xd1\\x87\\xd0\\xbd\\xd0\\xbe.\\n\\n\\xd0\\x9f\\xd0\\xbe \\xd0\\xb3\\xd0\\xb5\\xd0\\xbe\\xd1\\x82\\xd0\\xb5\\xd0\\xb3\\xd0\\xb0\\xd0\\xbc \\xd0\\xb8\\xd1\\x81\\xd1\\x81\\xd0\\xbb\\xd0\\xb5\\xd0\\xb4\\xd0\\xbe\\xd0\\xb2\\xd0\\xb0\\xd1\\x82\\xd0\\xb5\\xd0\\xbb\\xd0\\xb8 \\xd1\\x81\\xd0\\xb4\\xd0\\xb5\\xd0\\xbb\\xd0\\xb0\\xd0\\xbb\\xd0\\xb8 \\xd0\\xb8\\xd0\\xbd\\xd1\\x82\\xd0\\xb5\\xd1\\x80\\xd0\\xb0\\xd0\\xba\\xd1\\x82\\xd0\\xb8\\xd0\\xb2\\xd0\\xbd\\xd1\\x8b\\xd0\\xb5 \\xd0\\xba\\xd0\\xb0\\xd1\\x80\\xd1\\x82\\xd1\\x8b, \\xd0\\xb3\\xd0\\xb4\\xd0\\xb5 \\xd0\\xbc\\xd0\\xbe\\xd0\\xb6\\xd0\\xbd\\xd0\\xbe \\xd1\\x83\\xd0\\xb7\\xd0\\xbd\\xd0\\xb0\\xd1\\x82\\xd1\\x8c, \\xd1\\x87\\xd0\\xb5\\xd0\\xbc \\xd0\\xbf\\xd0\\xb0\\xd1\\x85\\xd0\\xbd\\xd1\\x83\\xd1\\x82 \\xd1\\x83\\xd0\\xbb\\xd0\\xb8\\xd1\\x86\\xd1\\x8b \\xd1\\x82\\xd0\\xb0\\xd0\\xba\\xd0\\xb8\\xd1\\x85 \\xd0\\xb3\\xd0\\xbe\\xd1\\x80\\xd0\\xbe\\xd0\\xb4\\xd0\\xbe\\xd0\\xb2 \\xd0\\xbc\\xd0\\xb8\\xd1\\x80\\xd0\\xb0, \\xd0\\xba\\xd0\\xb0\\xd0\\xba \\xd0\\x9b\\xd0\\xbe\\xd0\\xbd\\xd0\\xb4\\xd0\\xbe\\xd0\\xbd \\xd0\\xb8 \\xd0\\x91\\xd0\\xb0\\xd1\\x80\\xd1\\x81\\xd0\\xb5\\xd0\\xbb\\xd0\\xbe\\xd0\\xbd\\xd0\\xb0 (\\xd0\\xb4\\xd0\\xb2\\xd0\\xb0 \\xd0\\xbf\\xd0\\xb5\\xd1\\x80\\xd0\\xb2\\xd1\\x8b\\xd1\\x85 \\xd0\\xb3\\xd0\\xbe\\xd1\\x80\\xd0\\xbe\\xd0\\xb4\\xd0\\xb0, \\xd0\\xb4\\xd0\\xbb\\xd1\\x8f \\xd0\\xba\\xd0\\xbe\\xd1\\x82\\xd0\\xbe\\xd1\\x80\\xd1\\x8b\\xd1\\x85 \\xd0\\xb1\\xd1\\x8b\\xd0\\xbb\\xd0\\xb8 \\xd1\\x81\\xd0\\xbe\\xd0\\xb1\\xd1\\x80\\xd0\\xb0\\xd0\\xbd\\xd1\\x8b \\xd0\\xb8 \\xd0\\xbf\\xd1\\x80\\xd0\\xbe\\xd0\\xb0\\xd0\\xbd\\xd0\\xb0\\xd0\\xbb\\xd0\\xb8\\xd0\\xb7\\xd0\\xb8\\xd1\\x80\\xd0\\xbe\\xd0\\xb2\\xd0\\xb0\\xd0\\xbd\\xd1\\x8b \\xd0\\xb4\\xd0\\xb0\\xd0\\xbd\\xd0\\xbd\\xd1\\x8b\\xd0\\xb5).\\n\\xd0\\x95\\xd1\\x81\\xd1\\x82\\xd1\\x8c \\xd1\\x82\\xd0\\xb0\\xd0\\xba\\xd0\\xb6\\xd0\\xb5 \\xd0\\xba\\xd0\\xb0\\xd1\\x80\\xd1\\x82\\xd1\\x8b \\xd0\\x9c\\xd0\\xb0\\xd0\\xb4\\xd1\\x80\\xd0\\xb8\\xd0\\xb4\\xd0\\xb0, \\xd0\\xa0\\xd0\\xb8\\xd0\\xbc\\xd0\\xb0, \\xd0\\x9c\\xd0\\xb8\\xd0\\xbb\\xd0\\xb0\\xd0\\xbd\\xd0\\xb0, \\xd0\\x9d\\xd1\\x8c\\xd1\\x8e-\\xd0\\x99\\xd0\\xbe\\xd1\\x80\\xd0\\xba\\xd0\\xb0 \\xd0\\xb8 \\xd0\\xb5\\xd1\\x89\\xd0\\xb5 \\xd1\\x88\\xd0\\xb5\\xd1\\x81\\xd1\\x82\\xd0\\xb8 \\xd0\\xba\\xd1\\x80\\xd1\\x83\\xd0\\xbf\\xd0\\xbd\\xd1\\x8b\\xd1\\x85 \\xd0\\xb0\\xd0\\xbc\\xd0\\xb5\\xd1\\x80\\xd0\\xb8\\xd0\\xba\\xd0\\xb0\\xd0\\xbd\\xd1\\x81\\xd0\\xba\\xd0\\xb8\\xd1\\x85 \\xd0\\xb3\\xd0\\xbe\\xd1\\x80\\xd0\\xbe\\xd0\\xb4\\xd0\\xbe\\xd0\\xb2.\\n\\xd0\\x90\\xd0\\xb2\\xd1\\x82\\xd0\\xbe\\xd1\\x80\\xd1\\x8b \\xd1\\x83\\xd1\\x82\\xd0\\xb2\\xd0\\xb5\\xd1\\x80\\xd0\\xb6\\xd0\\xb4\\xd0\\xb0\\xd1\\x8e\\xd1\\x82, \\xd1\\x87\\xd1\\x82\\xd0\\xbe \\xd1\\x81\\xd0\\xbf\\xd0\\xb8\\xd1\\x81\\xd0\\xbe\\xd0\\xba \\xd0\\xb1\\xd1\\x83\\xd0\\xb4\\xd0\\xb5\\xd1\\x82 \\xd0\\xbf\\xd0\\xbe\\xd0\\xbf\\xd0\\xbe\\xd0\\xbb\\xd0\\xbd\\xd1\\x8f\\xd1\\x82\\xd1\\x8c\\xd1\\x81\\xd1\\x8f \\xd0\\xb8 \\xd0\\xb4\\xd0\\xb0\\xd0\\xbb\\xd1\\x8c\\xd1\\x88\\xd0\\xb5.\\n\\n\\xd0\\x94\\xd0\\xbb\\xd1\\x8f \\xd0\\xba\\xd0\\xb0\\xd1\\x80\\xd1\\x82\\xd0\\xbe\\xd0\\xb3\\xd1\\x80\\xd0\\xb0\\xd1\\x84\\xd0\\xb8\\xd1\\x80\\xd0\\xbe\\xd0\\xb2\\xd0\\xb0\\xd0\\xbd\\xd0\\xb8\\xd1\\x8f \\xd0\\xb8\\xd1\\x81\\xd0\\xbf\\xd0\\xbe\\xd0\\xbb\\xd1\\x8c\\xd0\\xb7\\xd0\\xbe\\xd0\\xb2\\xd0\\xb0\\xd0\\xbb\\xd0\\xb8\\xd1\\x81\\xd1\\x8c \\xd0\\xbe\\xd1\\x82\\xd0\\xba\\xd1\\x80\\xd1\\x8b\\xd1\\x82\\xd1\\x8b\\xd0\\xb5 \\xd0\\xb4\\xd0\\xb0\\xd0\\xbd\\xd0\\xbd\\xd1\\x8b\\xd0\\xb5 Open Street Map, \\xd0\\xb2\\xd0\\xbd\\xd1\\x83\\xd1\\x82\\xd1\\x80\\xd0\\xb8 \\xd0\\xba\\xd0\\xbe\\xd1\\x82\\xd0\\xbe\\xd1\\x80\\xd1\\x8b\\xd1\\x85 \\xd0\\xb1\\xd1\\x8b\\xd0\\xbb\\xd0\\xb8 \\xd0\\xb2\\xd1\\x8b\\xd0\\xb4\\xd0\\xb5\\xd0\\xbb\\xd0\\xb5\\xd0\\xbd\\xd1\\x8b \\xd1\\x81\\xd0\\xb5\\xd0\\xb3\\xd0\\xbc\\xd0\\xb5\\xd0\\xbd\\xd1\\x82\\xd1\\x8b \\xd1\\x83\\xd0\\xbb\\xd0\\xb8\\xd1\\x86 \\xd0\\xbe\\xd1\\x82 \\xd0\\xbf\\xd0\\xb5\\xd1\\x80\\xd0\\xb5\\xd0\\xba\\xd1\\x80\\xd0\\xb5\\xd1\\x81\\xd1\\x82\\xd0\\xba\\xd0\\xb0 \\xd0\\xb4\\xd0\\xbe \\xd0\\xbf\\xd0\\xb5\\xd1\\x80\\xd0\\xb5\\xd0\\xba\\xd1\\x80\\xd0\\xb5\\xd1\\x81\\xd1\\x82\\xd0\\xba\\xd0\\xb0, \\xd0\\xba \\xd0\\xba\\xd0\\xbe\\xd1\\x82\\xd0\\xbe\\xd1\\x80\\xd1\\x8b\\xd0\\xbc \\xd0\\xb1\\xd1\\x8b\\xd0\\xbb\\xd0\\xb8 \\xd0\\xbf\\xd1\\x80\\xd0\\xb8\\xd0\\xb2\\xd1\\x8f\\xd0\\xb7\\xd0\\xb0\\xd0\\xbd\\xd1\\x8b \\xd0\\xb3\\xd0\\xb5\\xd0\\xbe\\xd1\\x82\\xd0\\xb5\\xd0\\xb3\\xd0\\xb8 \\xd0\\xbe\\xd1\\x80\\xd0\\xb8\\xd0\\xb3\\xd0\\xb8\\xd0\\xbd\\xd0\\xb0\\xd0\\xbb\\xd1\\x8c\\xd0\\xbd\\xd1\\x8b\\xd1\\x85 \\xd0\\xb4\\xd0\\xb0\\xd0\\xbd\\xd0\\xbd\\xd1\\x8b\\xd1\\x85.\\n\\xd0\\x9d\\xd0\\xb0 \\xd1\\x81\\xd1\\x82\\xd1\\x80\\xd0\\xb0\\xd0\\xbd\\xd0\\xb8\\xd1\\x86\\xd0\\xb5 \\xd0\\xbf\\xd1\\x80\\xd0\\xbe\\xd0\\xb5\\xd0\\xba\\xd1\\x82\\xd0\\xb0, \\xd0\\xbf\\xd1\\x83\\xd1\\x82\\xd0\\xb5\\xd1\\x88\\xd0\\xb5\\xd1\\x81\\xd1\\x82\\xd0\\xb2\\xd1\\x83\\xd1\\x8f \\xd0\\xbf\\xd0\\xbe \\xd0\\xb8\\xd0\\xbd\\xd1\\x82\\xd0\\xb5\\xd1\\x80\\xd0\\xb0\\xd0\\xba\\xd1\\x82\\xd0\\xb8\\xd0\\xb2\\xd0\\xbd\\xd1\\x8b\\xd0\\xbc \\xd0\\xba\\xd0\\xb0\\xd1\\x80\\xd1\\x82\\xd0\\xb0\\xd0\\xbc, \\xd0\\xbc\\xd0\\xbe\\xd0\\xb6\\xd0\\xbd\\xd0\\xbe \\xd0\\xbf\\xd0\\xbe\\xd1\\x81\\xd0\\xbc\\xd0\\xbe\\xd1\\x82\\xd1\\x80\\xd0\\xb5\\xd1\\x82\\xd1\\x8c \\xd1\\x81\\xd0\\xbe\\xd0\\xbe\\xd1\\x82\\xd0\\xbd\\xd0\\xbe\\xd1\\x88\\xd0\\xb5\\xd0\\xbd\\xd0\\xb8\\xd0\\xb5 \\xd0\\xb7\\xd0\\xb0\\xd0\\xbf\\xd0\\xb0\\xd1\\x85\\xd0\\xbe\\xd0\\xb2 \\xd0\\xbf\\xd0\\xbe \\xd0\\xba\\xd0\\xb0\\xd0\\xb6\\xd0\\xb4\\xd0\\xbe\\xd0\\xbc\\xd1\\x83 \\xd1\\x81\\xd0\\xb5\\xd0\\xb3\\xd0\\xbc\\xd0\\xb5\\xd0\\xbd\\xd1\\x82\\xd1\\x83, \\xd0\\xbd\\xd0\\xb0\\xd0\\xbf\\xd1\\x80\\xd0\\xb8\\xd0\\xbc\\xd0\\xb5\\xd1\\x80, \\xd0\\xb2 \\xd0\\x91\\xd0\\xb0\\xd1\\x80\\xd1\\x81\\xd0\\xb5\\xd0\\xbb\\xd0\\xbe\\xd0\\xbd\\xd0\\xb5 \\xd0\\xbd\\xd0\\xb0 \\xd1\\x83\\xd0\\xbb\\xd0\\xb8\\xd1\\x86\\xd0\\xb5 \\xd0\\x91\\xd0\\xb0\\xd0\\xbb\\xd1\\x8c\\xd0\\xbc\\xd0\\xb5\\xd1\\x81 \\xd0\\xb7\\xd0\\xb0\\xd0\\xbf\\xd0\\xb0\\xd1\\x85 \\xd0\\xb5\\xd0\\xb4\\xd1\\x8b \\xd0\\xbf\\xd1\\x80\\xd0\\xb5\\xd0\\xbe\\xd0\\xb1\\xd0\\xbb\\xd0\\xb0\\xd0\\xb4\\xd0\\xb0\\xd0\\xb5\\xd1\\x82:\\n\\n\\xd0\\x92\\xd0\\xbc\\xd0\\xb5\\xd1\\x81\\xd1\\x82\\xd0\\xb5 \\xd0\\xb7\\xd0\\xb0\\xd0\\xbf\\xd0\\xb0\\xd1\\x85\\xd0\\xb8 \\xd1\\x81\\xd0\\xba\\xd0\\xbb\\xd0\\xb0\\xd0\\xb4\\xd1\\x8b\\xd0\\xb2\\xd0\\xb0\\xd1\\x8e\\xd1\\x82\\xd1\\x81\\xd1\\x8f \\xd0\\xb2 \\xd0\\xba\\xd0\\xbe\\xd0\\xbc\\xd0\\xbf\\xd0\\xbb\\xd0\\xb5\\xd0\\xba\\xd1\\x81\\xd0\\xbd\\xd1\\x8b\\xd0\\xb9 \\xd0\\xb8 \\xd1\\x81\\xd0\\xbb\\xd0\\xbe\\xd0\\xb6\\xd0\\xbd\\xd1\\x8b\\xd0\\xb9 \\xd0\\xbb\\xd0\\xb0\\xd0\\xbd\\xd0\\xb4\\xd1\\x88\\xd0\\xb0\\xd1\\x84\\xd1\\x82, \\xd1\\x83\\xd0\\xbd\\xd0\\xb8\\xd0\\xba\\xd0\\xb0\\xd0\\xbb\\xd1\\x8c\\xd0\\xbd\\xd1\\x8b\\xd0\\xb9 \\xd0\\xb4\\xd0\\xbb\\xd1\\x8f \\xd0\\xba\\xd0\\xb0\\xd0\\xb6\\xd0\\xb4\\xd0\\xbe\\xd0\\xb3\\xd0\\xbe \\xd0\\xb3\\xd0\\xbe\\xd1\\x80\\xd0\\xbe\\xd0\\xb4\\xd0\\xb0, \\xd0\\xb8 \\xd0\\xbe\\xd0\\xbd \\xd0\\xbd\\xd1\\x83\\xd0\\xb6\\xd0\\xb4\\xd0\\xb0\\xd0\\xb5\\xd1\\x82\\xd1\\x81\\xd1\\x8f \\xd0\\xb2 \\xd0\\xb8\\xd1\\x81\\xd1\\x81\\xd0\\xbb\\xd0\\xb5\\xd0\\xb4\\xd0\\xbe\\xd0\\xb2\\xd0\\xb0\\xd0\\xbd\\xd0\\xb8\\xd0\\xb8 \\xd1\\x82\\xd0\\xb0\\xd0\\xba \\xd0\\xb6\\xd0\\xb5, \\xd0\\xba\\xd0\\xb0\\xd0\\xba \\xd0\\xb8 \\xd0\\xbb\\xd0\\xb0\\xd0\\xbd\\xd0\\xb4\\xd1\\x88\\xd0\\xb0\\xd1\\x84\\xd1\\x82 \\xd0\\xb2\\xd0\\xb8\\xd0\\xb7\\xd1\\x83\\xd0\\xb0\\xd0\\xbb\\xd1\\x8c\\xd0\\xbd\\xd1\\x8b\\xd0\\xb9 \\xd0\\xb8\\xd0\\xbb\\xd0\\xb8 \\xd0\\xb7\\xd0\\xb2\\xd1\\x83\\xd0\\xba\\xd0\\xbe\\xd0\\xb2\\xd0\\xbe\\xd0\\xb9.\\n\\xd0\\x9a\\xd1\\x81\\xd1\\x82\\xd0\\xb0\\xd1\\x82\\xd0\\xb8, \\xd0\\xbf\\xd0\\xbe \\xd0\\xb7\\xd0\\xb0\\xd0\\xbf\\xd1\\x80\\xd0\\xbe\\xd1\\x81\\xd1\\x83 \\xd0\\xbe\\xd1\\x82 \\xd0\\xb0\\xd0\\xb2\\xd1\\x82\\xd0\\xbe\\xd1\\x80\\xd0\\xbe\\xd0\\xb2 \\xd0\\xbc\\xd0\\xbe\\xd0\\xb6\\xd0\\xbd\\xd0\\xbe \\xd0\\xbf\\xd0\\xbe\\xd0\\xbb\\xd1\\x83\\xd1\\x87\\xd0\\xb8\\xd1\\x82\\xd1\\x8c \\xd1\\x82\\xd0\\xb0\\xd0\\xba\\xd0\\xb6\\xd0\\xb5 \\xd0\\xb4\\xd0\\xb0\\xd0\\xbd\\xd0\\xbd\\xd1\\x8b\\xd0\\xb5, \\xd0\\xbd\\xd0\\xb0 \\xd0\\xba\\xd0\\xbe\\xd1\\x82\\xd0\\xbe\\xd1\\x80\\xd1\\x8b\\xd1\\x85 \\xd0\\xbe\\xd1\\x81\\xd0\\xbd\\xd0\\xbe\\xd0\\xb2\\xd1\\x8b\\xd0\\xb2\\xd0\\xb0\\xd0\\xbb\\xd1\\x81\\xd1\\x8f \\xd0\\xbf\\xd1\\x80\\xd0\\xbe\\xd0\\xb5\\xd0\\xba\\xd1\\x82, \\xd0\\xb5\\xd1\\x81\\xd0\\xbb\\xd0\\xb8 \\xd0\\xb5\\xd1\\x81\\xd1\\x82\\xd1\\x8c \\xd0\\xb6\\xd0\\xb5\\xd0\\xbb\\xd0\\xb0\\xd0\\xbd\\xd0\\xb8\\xd0\\xb5 \\xd0\\xb8\\xd1\\x81\\xd1\\x81\\xd0\\xbb\\xd0\\xb5\\xd0\\xb4\\xd0\\xbe\\xd0\\xb2\\xd0\\xb0\\xd1\\x82\\xd1\\x8c \\xd0\\xb8\\xd1\\x85 \\xd1\\x81\\xd0\\xb0\\xd0\\xbc\\xd0\\xbe\\xd1\\x81\\xd1\\x82\\xd0\\xbe\\xd1\\x8f\\xd1\\x82\\xd0\\xb5\\xd0\\xbb\\xd1\\x8c\\xd0\\xbd\\xd0\\xbe.\\n\\n\\xd0\\x98\\xd1\\x81\\xd1\\x82\\xd0\\xbe\\xd1\\x87\\xd0\\xbd\\xd0\\xb8\\xd0\\xba\\xd0\\xb8:\\n\\xd0\\xa1\\xd1\\x82\\xd1\\x80\\xd0\\xb0\\xd0\\xbd\\xd0\\xb8\\xd1\\x86\\xd0\\xb0 \\xd0\\xbf\\xd1\\x80\\xd0\\xbe\\xd0\\xb5\\xd0\\xba\\xd1\\x82\\xd0\\xb0 Smelly Maps\\n\\xd0\\x98\\xd0\\xbd\\xd1\\x82\\xd0\\xb5\\xd1\\x80\\xd0\\xb0\\xd0\\xba\\xd1\\x82\\xd0\\xb8\\xd0\\xb2\\xd0\\xbd\\xd1\\x8b\\xd0\\xb5 \\xd0\\xba\\xd0\\xb0\\xd1\\x80\\xd1\\x82\\xd1\\x8b \\xd0\\xbf\\xd1\\x80\\xd0\\xbe\\xd0\\xb5\\xd0\\xba\\xd1\\x82\\xd0\\xb0\\n\\xd0\\x9d\\xd0\\xb5\\xd0\\xbb\\xd0\\xbb\\xd0\\xb8 \\xd0\\x91\\xd1\\x83\\xd1\\x80\\xd1\\x86\\xd0\\xb5\\xd0\\xb2\\xd0\\xb0\\n'}"
            ]
          },
          "metadata": {
            "tags": []
          },
          "execution_count": 59
        }
      ]
    },
    {
      "cell_type": "code",
      "metadata": {
        "id": "Nzc6W_CkFBSC",
        "colab_type": "code",
        "outputId": "4cbadf0d-ecd2-4a66-c229-538f1fa6ae55",
        "colab": {
          "base_uri": "https://localhost:8080/",
          "height": 34
        }
      },
      "source": [
        "! ls #проверяем, что файл действительно на месте"
      ],
      "execution_count": 0,
      "outputs": [
        {
          "output_type": "stream",
          "text": [
            "city_smells.txt\n"
          ],
          "name": "stdout"
        }
      ]
    },
    {
      "cell_type": "markdown",
      "metadata": {
        "id": "B1WOL-zjAFKU",
        "colab_type": "text"
      },
      "source": [
        "## работа с файлами\n",
        "\n",
        "Мы оказались в нужной директории, нашли нужный файл. Теперь нам нужно с ним что-нибудь сделать.\n",
        "\n",
        "Сначала файл нужно открыть:"
      ]
    },
    {
      "cell_type": "code",
      "metadata": {
        "id": "_f5fP_CX91RK",
        "colab_type": "code",
        "colab": {}
      },
      "source": [
        "my_file = open('city_smells.txt', 'r') # воспользуемся встроенной функцией open()"
      ],
      "execution_count": 0,
      "outputs": []
    },
    {
      "cell_type": "markdown",
      "metadata": {
        "id": "AM7jQ6BKGtNQ",
        "colab_type": "text"
      },
      "source": [
        "давайте посмотрим на аргументы функции: \n",
        "* первый = путь к файлу, который хотим открыть.\n",
        "** Путь может быть абсолютным (*полный путь от корневого каталога до конкретного места (файла, папки) в файловой системе, всегда неизменный*) или относительным (*путь к файлу/папке относительно текущего рабочего каталога пользователя или активных приложений, меняется)*\n",
        "\n",
        "* второй аргумент - это режим открытия файла: для чтения, записи, дозаписи, все вместе и тд. \n",
        "\n",
        "\n",
        "<div class=\"table-wrapper\"><table border=\"1\" class=\"docutils\"><tbody valign=\"top\"><tr><td>Режим</td><td>Обозначение</td></tr><tr><td>'r'</td><td>открытие на чтение (является значением по умолчанию).</td></tr><tr><td>'w'</td><td>открытие на запись, содержимое файла удаляется, если файла не существует, создается новый.</td></tr><tr><td>'x'</td><td>открытие на запись, если файла не существует, иначе исключение.</td></tr><tr><td>'a'</td><td>открытие на дозапись, информация добавляется в конец файла.</td></tr><tr><td>'b'</td><td>открытие в двоичном режиме.</td></tr><tr><td>'t'</td><td>открытие в текстовом режиме (является значением по умолчанию).</td></tr><tr><td>'+'</td><td>открытие на чтение и запись</td></tr></tbody></table></div>\n",
        "\n",
        "\n",
        "\n",
        "Режимы могут быть объединять: например,'ra' - открытие для чтения и  дозаписи.\n",
        "\n",
        "По умолчанию режим равен 'rt'\n",
        "\n",
        "Последний аргумент (опциональный, его можно не указывать), encoding, нужен только в текстовом режиме чтения файла. Этот аргумент задает кодировку. Чтобы стандантные .txt-файлы читались без проблем, ставим ```encoding = utf-8```\n",
        "\n",
        "\n",
        "Мы открыли файл с режимом для чтения (пока еще не читали его), сохранили в переменную значение. Давайте прочтем содержимое. Читать тоже можно несколькими методами: \n",
        "* .read()\n",
        "* .readline()\n",
        "* readlines()"
      ]
    },
    {
      "cell_type": "code",
      "metadata": {
        "id": "EgOC--ChGjfV",
        "colab_type": "code",
        "outputId": "ca22bc97-c7bd-4f3f-e931-f82f972173d8",
        "colab": {
          "base_uri": "https://localhost:8080/",
          "height": 734
        }
      },
      "source": [
        "read_file1 = my_file.read() # выдает весь текст как одну строку\n",
        "print(\"Тип переменной:\",type(read_file1),\"\\n\")\n",
        "print(read_file1)"
      ],
      "execution_count": 0,
      "outputs": [
        {
          "output_type": "stream",
          "text": [
            "Тип переменной: <class 'str'> \n",
            "\n",
            "Помните запах свежевыпеченного хлеба на дождливой улочке из той булочной, в которую вы заходили в прошлом месяце?\n",
            "А как он смешался с запахом смолотого кофе?\n",
            "А запах свежескошенной травы в парке освежающим вечером после жаркого дня?\n",
            "Запахи ежеминутно сопровождают нас в городе, но они мимолетны и невидимы, поэтому часто ускользают от внимания урбанистов и исследователей городской среды.\n",
            "Группа ученых из разных университетов мира в рамках проекта Smelly Maps решила исправить эту несправедливость и занялась исследованием городских запахов.\n",
            "Самый первый и важный вопрос, с которым они столкнулись — откуда брать данные для работы? Один из очевидных ответов — собирать данные на месте при помощи так называемых «smell walks».\n",
            "Принцип прост: группа добровольцев идет по маршруту и записывает все запахи, которые чувствует по пути, отмечая конкретные места на карте.\n",
            "На основе таких прогулок и нескольких исследований был составлен «словарь запахов», который состоял из всех слов, которыми добровольцы описывали запахи во время прогулки.\n",
            "Просто, эффективно и дешево.\n",
            "Но у такого метода есть недостатки: на обход даже небольшого города несколько десятков добровольцев потратит очень много времени, а если мы хотим еще и рассмотреть динамику, этот способ не подходит совсем.\n",
            "Остается обратиться к добровольно собираемым и публикуемым в сети большим данным, а именно к данным социальных сетей.\n",
            "Взять 17 миллионов фотографий из Flickr, 5.1 миллиона снимков из публичных аккаунтов Instagram и 5.3 миллиона твитов из Твиттера, каждый из которых обладает геотегом — и с этим уже можно работать.\n",
            "Набор данных из Твиттера был очищен от ретвитов и ответов, после чего в сумме для анализа было готово 1.7 миллиона твитов.\n",
            "Тексты твитов и подписей к фотографиям был распарсен, и из всего массива слов были отобраны только те, которые имеют отношение к запахам.\n",
            "На основе этих данных был построен взвешенный граф связей между словами, в вершинах которого закреплены сами слова, а вес ребра соответствует количеству раз, когда эти два слова встречаются в одном тексте. Такой анализ выявил несколько четко определенных категорий запахов, например, «природные», «индустриальные», «еда», «выбросы/выхлопы», «мусор».\n",
            "Внутри категорий иногда можно было выделить подкатегории и определить самые часто встречающиеся слова-метки этой категории.\n",
            "Схему этих категорий можно увидеть ниже.\n",
            "Цвета выбраны не просто так.\n",
            "Исследователи нашли связи между запахами и цветами, преобладающими на анализируемых фотографиях.\n",
            "Запахи также связаны с негативными или позитивными эмоциями, например, категория «мусор» будет положительно коррелировать с негативными эмоциями, отвращением и печалью, но отрицательно — с радостью.\n",
            "\n",
            "В современных городах существуют программы мониторинга качества воздуха, позволяющие городским службам оперативно реагировать на аномалии, а обычным горожанам следить за составом воздуха, которым они дышат. Массив данных о городских запахах сравнили и с такими данными и сделали вывод о том, что данные о более низком качестве воздуха с примесями положительно коррелируют с такими категориями, как «выбросы/выхлопы», и отрицательно — с категорией «природа».\n",
            "Такой вывод кажется логичным, но теперь он доказан научно.\n",
            "\n",
            "По геотегам исследователи сделали интерактивные карты, где можно узнать, чем пахнут улицы таких городов мира, как Лондон и Барселона (два первых города, для которых были собраны и проанализированы данные).\n",
            "Есть также карты Мадрида, Рима, Милана, Нью-Йорка и еще шести крупных американских городов.\n",
            "Авторы утверждают, что список будет пополняться и дальше.\n",
            "\n",
            "Для картографирования использовались открытые данные Open Street Map, внутри которых были выделены сегменты улиц от перекрестка до перекрестка, к которым были привязаны геотеги оригинальных данных.\n",
            "На странице проекта, путешествуя по интерактивным картам, можно посмотреть соотношение запахов по каждому сегменту, например, в Барселоне на улице Бальмес запах еды преобладает:\n",
            "\n",
            "Вместе запахи складываются в комплексный и сложный ландшафт, уникальный для каждого города, и он нуждается в исследовании так же, как и ландшафт визуальный или звуковой.\n",
            "Кстати, по запросу от авторов можно получить также данные, на которых основывался проект, если есть желание исследовать их самостоятельно.\n",
            "\n",
            "Источники:\n",
            "Страница проекта Smelly Maps\n",
            "Интерактивные карты проекта\n",
            "Нелли Бурцева\n",
            "\n"
          ],
          "name": "stdout"
        }
      ]
    },
    {
      "cell_type": "code",
      "metadata": {
        "id": "I4v3jYpfSxR4",
        "colab_type": "code",
        "colab": {}
      },
      "source": [
        "my_file = open('city_smells.txt', 'r') # откроем файл еще раз"
      ],
      "execution_count": 0,
      "outputs": []
    },
    {
      "cell_type": "code",
      "metadata": {
        "id": "hex4Ze0gRl8q",
        "colab_type": "code",
        "outputId": "de8d88bb-9c43-462e-b7e0-962bc933233f",
        "colab": {
          "base_uri": "https://localhost:8080/",
          "height": 683
        }
      },
      "source": [
        "#read_file2 = my_file.readline() # читает построчно\n",
        "for line in my_file:\n",
        "    line = line.strip()\n",
        "    print(line)\n",
        "#print(\"Тип переменной:\",type(read_file2),\"\\n\")\n",
        "#print(read_file2)\n",
        "\n",
        "# запустите ячейку несколько раз"
      ],
      "execution_count": 0,
      "outputs": [
        {
          "output_type": "stream",
          "text": [
            "Помните запах свежевыпеченного хлеба на дождливой улочке из той булочной, в которую вы заходили в прошлом месяце?\n",
            "А как он смешался с запахом смолотого кофе?\n",
            "А запах свежескошенной травы в парке освежающим вечером после жаркого дня?\n",
            "Запахи ежеминутно сопровождают нас в городе, но они мимолетны и невидимы, поэтому часто ускользают от внимания урбанистов и исследователей городской среды.\n",
            "Группа ученых из разных университетов мира в рамках проекта Smelly Maps решила исправить эту несправедливость и занялась исследованием городских запахов.\n",
            "Самый первый и важный вопрос, с которым они столкнулись — откуда брать данные для работы? Один из очевидных ответов — собирать данные на месте при помощи так называемых «smell walks».\n",
            "Принцип прост: группа добровольцев идет по маршруту и записывает все запахи, которые чувствует по пути, отмечая конкретные места на карте.\n",
            "На основе таких прогулок и нескольких исследований был составлен «словарь запахов», который состоял из всех слов, которыми добровольцы описывали запахи во время прогулки.\n",
            "Просто, эффективно и дешево.\n",
            "Но у такого метода есть недостатки: на обход даже небольшого города несколько десятков добровольцев потратит очень много времени, а если мы хотим еще и рассмотреть динамику, этот способ не подходит совсем.\n",
            "Остается обратиться к добровольно собираемым и публикуемым в сети большим данным, а именно к данным социальных сетей.\n",
            "Взять 17 миллионов фотографий из Flickr, 5.1 миллиона снимков из публичных аккаунтов Instagram и 5.3 миллиона твитов из Твиттера, каждый из которых обладает геотегом — и с этим уже можно работать.\n",
            "Набор данных из Твиттера был очищен от ретвитов и ответов, после чего в сумме для анализа было готово 1.7 миллиона твитов.\n",
            "Тексты твитов и подписей к фотографиям был распарсен, и из всего массива слов были отобраны только те, которые имеют отношение к запахам.\n",
            "На основе этих данных был построен взвешенный граф связей между словами, в вершинах которого закреплены сами слова, а вес ребра соответствует количеству раз, когда эти два слова встречаются в одном тексте. Такой анализ выявил несколько четко определенных категорий запахов, например, «природные», «индустриальные», «еда», «выбросы/выхлопы», «мусор».\n",
            "Внутри категорий иногда можно было выделить подкатегории и определить самые часто встречающиеся слова-метки этой категории.\n",
            "Схему этих категорий можно увидеть ниже.\n",
            "Цвета выбраны не просто так.\n",
            "Исследователи нашли связи между запахами и цветами, преобладающими на анализируемых фотографиях.\n",
            "Запахи также связаны с негативными или позитивными эмоциями, например, категория «мусор» будет положительно коррелировать с негативными эмоциями, отвращением и печалью, но отрицательно — с радостью.\n",
            "\n",
            "В современных городах существуют программы мониторинга качества воздуха, позволяющие городским службам оперативно реагировать на аномалии, а обычным горожанам следить за составом воздуха, которым они дышат. Массив данных о городских запахах сравнили и с такими данными и сделали вывод о том, что данные о более низком качестве воздуха с примесями положительно коррелируют с такими категориями, как «выбросы/выхлопы», и отрицательно — с категорией «природа».\n",
            "Такой вывод кажется логичным, но теперь он доказан научно.\n",
            "\n",
            "По геотегам исследователи сделали интерактивные карты, где можно узнать, чем пахнут улицы таких городов мира, как Лондон и Барселона (два первых города, для которых были собраны и проанализированы данные).\n",
            "Есть также карты Мадрида, Рима, Милана, Нью-Йорка и еще шести крупных американских городов.\n",
            "Авторы утверждают, что список будет пополняться и дальше.\n",
            "\n",
            "Для картографирования использовались открытые данные Open Street Map, внутри которых были выделены сегменты улиц от перекрестка до перекрестка, к которым были привязаны геотеги оригинальных данных.\n",
            "На странице проекта, путешествуя по интерактивным картам, можно посмотреть соотношение запахов по каждому сегменту, например, в Барселоне на улице Бальмес запах еды преобладает:\n",
            "\n",
            "Вместе запахи складываются в комплексный и сложный ландшафт, уникальный для каждого города, и он нуждается в исследовании так же, как и ландшафт визуальный или звуковой.\n",
            "Кстати, по запросу от авторов можно получить также данные, на которых основывался проект, если есть желание исследовать их самостоятельно.\n",
            "\n",
            "Источники:\n",
            "Страница проекта Smelly Maps\n",
            "Интерактивные карты проекта\n",
            "Нелли Бурцева\n"
          ],
          "name": "stdout"
        }
      ]
    },
    {
      "cell_type": "code",
      "metadata": {
        "id": "hoCSMw2MSkbw",
        "colab_type": "code",
        "colab": {}
      },
      "source": [
        "my_file = open('city_smells.txt', 'r') # откроем файл еще раз"
      ],
      "execution_count": 0,
      "outputs": []
    },
    {
      "cell_type": "code",
      "metadata": {
        "id": "tTeeg7u8TBEG",
        "colab_type": "code",
        "outputId": "87ccee20-f78a-4dae-aefd-6b5384ca0887",
        "colab": {
          "base_uri": "https://localhost:8080/",
          "height": 88
        }
      },
      "source": [
        "read_file3 = my_file.readlines() # возвращает лист, в котором элементы - это строки\n",
        "\n",
        "print(\"Тип переменной:\",type(read_file3),\"\\n\")\n",
        "print(read_file3)"
      ],
      "execution_count": 0,
      "outputs": [
        {
          "output_type": "stream",
          "text": [
            "Тип переменной: <class 'list'> \n",
            "\n",
            "['Помните запах свежевыпеченного хлеба на дождливой улочке из той булочной, в которую вы заходили в прошлом месяце?\\n', 'А как он смешался с запахом смолотого кофе?\\n', 'А запах свежескошенной травы в парке освежающим вечером после жаркого дня?\\n', 'Запахи ежеминутно сопровождают нас в городе, но они мимолетны и невидимы, поэтому часто ускользают от внимания урбанистов и исследователей городской среды.\\n', 'Группа ученых из разных университетов мира в рамках проекта Smelly Maps решила исправить эту несправедливость и занялась исследованием городских запахов.\\n', 'Самый первый и важный вопрос, с которым они столкнулись — откуда брать данные для работы? Один из очевидных ответов — собирать данные на месте при помощи так называемых «smell walks».\\n', 'Принцип прост: группа добровольцев идет по маршруту и записывает все запахи, которые чувствует по пути, отмечая конкретные места на карте.\\n', 'На основе таких прогулок и нескольких исследований был составлен «словарь запахов», который состоял из всех слов, которыми добровольцы описывали запахи во время прогулки.\\n', 'Просто, эффективно и дешево.\\n', 'Но у такого метода есть недостатки: на обход даже небольшого города несколько десятков добровольцев потратит очень много времени, а если мы хотим еще и рассмотреть динамику, этот способ не подходит совсем.\\n', 'Остается обратиться к добровольно собираемым и публикуемым в сети большим данным, а именно к данным социальных сетей.\\n', 'Взять 17 миллионов фотографий из Flickr, 5.1 миллиона снимков из публичных аккаунтов Instagram и 5.3 миллиона твитов из Твиттера, каждый из которых обладает геотегом — и с этим уже можно работать.\\n', 'Набор данных из Твиттера был очищен от ретвитов и ответов, после чего в сумме для анализа было готово 1.7 миллиона твитов.\\n', 'Тексты твитов и подписей к фотографиям был распарсен, и из всего массива слов были отобраны только те, которые имеют отношение к запахам.\\n', 'На основе этих данных был построен взвешенный граф связей между словами, в вершинах которого закреплены сами слова, а вес ребра соответствует количеству раз, когда эти два слова встречаются в одном тексте. Такой анализ выявил несколько четко определенных категорий запахов, например, «природные», «индустриальные», «еда», «выбросы/выхлопы», «мусор».\\n', 'Внутри категорий иногда можно было выделить подкатегории и определить самые часто встречающиеся слова-метки этой категории.\\n', 'Схему этих категорий можно увидеть ниже.\\n', 'Цвета выбраны не просто так.\\n', 'Исследователи нашли связи между запахами и цветами, преобладающими на анализируемых фотографиях.\\n', 'Запахи также связаны с негативными или позитивными эмоциями, например, категория «мусор» будет положительно коррелировать с негативными эмоциями, отвращением и печалью, но отрицательно — с радостью.\\n', '\\n', 'В современных городах существуют программы мониторинга качества воздуха, позволяющие городским службам оперативно реагировать на аномалии, а обычным горожанам следить за составом воздуха, которым они дышат. Массив данных о городских запахах сравнили и с такими данными и сделали вывод о том, что данные о более низком качестве воздуха с примесями положительно коррелируют с такими категориями, как «выбросы/выхлопы», и отрицательно — с категорией «природа».\\n', 'Такой вывод кажется логичным, но теперь он доказан научно.\\n', '\\n', 'По геотегам исследователи сделали интерактивные карты, где можно узнать, чем пахнут улицы таких городов мира, как Лондон и Барселона (два первых города, для которых были собраны и проанализированы данные).\\n', 'Есть также карты Мадрида, Рима, Милана, Нью-Йорка и еще шести крупных американских городов.\\n', 'Авторы утверждают, что список будет пополняться и дальше.\\n', '\\n', 'Для картографирования использовались открытые данные Open Street Map, внутри которых были выделены сегменты улиц от перекрестка до перекрестка, к которым были привязаны геотеги оригинальных данных.\\n', 'На странице проекта, путешествуя по интерактивным картам, можно посмотреть соотношение запахов по каждому сегменту, например, в Барселоне на улице Бальмес запах еды преобладает:\\n', '\\n', 'Вместе запахи складываются в комплексный и сложный ландшафт, уникальный для каждого города, и он нуждается в исследовании так же, как и ландшафт визуальный или звуковой.\\n', 'Кстати, по запросу от авторов можно получить также данные, на которых основывался проект, если есть желание исследовать их самостоятельно.\\n', '\\n', 'Источники:\\n', 'Страница проекта Smelly Maps\\n', 'Интерактивные карты проекта\\n', 'Нелли Бурцева\\n']\n"
          ],
          "name": "stdout"
        }
      ]
    },
    {
      "cell_type": "code",
      "metadata": {
        "id": "xXlMyf5TUuS1",
        "colab_type": "code",
        "colab": {}
      },
      "source": [
        "my_file.close() # не забудьте закрыть файл после прочтения!"
      ],
      "execution_count": 0,
      "outputs": []
    },
    {
      "cell_type": "markdown",
      "metadata": {
        "id": "rgJ-oIYzUGLX",
        "colab_type": "text"
      },
      "source": [
        "С прочитанным текстом, который мы сохранили в переменную,  теперь можем делать любые операции: измерять длину слов, заменять слова, убирать пунктуацию, проводить подсчеты элементов и тд (это попробуем позже)\n",
        "\n",
        "Часть2\n",
        "Теперь попробуем создать файл и записать в него что-то:"
      ]
    },
    {
      "cell_type": "code",
      "metadata": {
        "id": "7xkPeSW1TPL4",
        "colab_type": "code",
        "colab": {}
      },
      "source": [
        "f = open('new_text.txt', 'w') # если такого файла не существовало, но создастся автоматически"
      ],
      "execution_count": 0,
      "outputs": []
    },
    {
      "cell_type": "code",
      "metadata": {
        "id": "7iWl-OZnVSSQ",
        "colab_type": "code",
        "outputId": "4c725113-baaf-4998-f36b-ea17f261b8eb",
        "colab": {
          "base_uri": "https://localhost:8080/",
          "height": 34
        }
      },
      "source": [
        "! ls"
      ],
      "execution_count": 0,
      "outputs": [
        {
          "output_type": "stream",
          "text": [
            "city_smells.txt  new_text.txt\n"
          ],
          "name": "stdout"
        }
      ]
    },
    {
      "cell_type": "code",
      "metadata": {
        "id": "LAu_oeDQVZKs",
        "colab_type": "code",
        "outputId": "5dde67bd-5665-47d0-91d2-0ed11b119395",
        "colab": {
          "base_uri": "https://localhost:8080/",
          "height": 34
        }
      },
      "source": [
        "f.write(\"hi\"+'\\n'+ \"this is a test\"+ '\\n')"
      ],
      "execution_count": 0,
      "outputs": [
        {
          "output_type": "execute_result",
          "data": {
            "text/plain": [
              "18"
            ]
          },
          "metadata": {
            "tags": []
          },
          "execution_count": 102
        }
      ]
    },
    {
      "cell_type": "code",
      "metadata": {
        "id": "fdp0s-ipVqBq",
        "colab_type": "code",
        "colab": {}
      },
      "source": [
        "f.close() # закрыли! "
      ],
      "execution_count": 0,
      "outputs": []
    },
    {
      "cell_type": "code",
      "metadata": {
        "id": "b_UFW6kdVr6C",
        "colab_type": "code",
        "outputId": "b65a060a-f2d0-45d6-f5d1-1a318bd5360a",
        "colab": {
          "base_uri": "https://localhost:8080/",
          "height": 34
        }
      },
      "source": [
        "# откроем и проверим, что в нем дейсвительно записан текст:\n",
        "\n",
        "f = open(\"new_text.txt\",'r')\n",
        "f = f.read()\n",
        "f"
      ],
      "execution_count": 0,
      "outputs": [
        {
          "output_type": "execute_result",
          "data": {
            "text/plain": [
              "'hi\\nthis is a test\\n'"
            ]
          },
          "metadata": {
            "tags": []
          },
          "execution_count": 104
        }
      ]
    },
    {
      "cell_type": "code",
      "metadata": {
        "id": "rUrJ-RmciMIN",
        "colab_type": "code",
        "outputId": "939f6701-327c-4f8b-9b31-8c41d53981bb",
        "colab": {
          "base_uri": "https://localhost:8080/",
          "height": 751
        }
      },
      "source": [
        "\n",
        "import string\n",
        "from string import digits\n",
        "\n",
        "def preprocess(x):\n",
        "    x = x.translate(str.maketrans('','',string.punctuation)) # удаление пунктуации\n",
        "    x = x.translate(str.maketrans('','',string.digits)) # удаление цифр\n",
        "    x1 = x.lower().split()\n",
        "    return(x)\n",
        "\n",
        "dict = {'а':'a','б':'b','г':'g','е':'e','ё':'yo','ж':'zh','з':'z','и':'i','х':'h','й':'j','к':'k','л':'l','н':'n','т':'t','о':'o','п':'p','р':'r','с':'s','д':'d','у':'u','ф':'f','ц':'ts','ч':'ch','ш':'sh','щ':'shch','ы':'y','э':'e','ю':'ju','я':'ja','ь':\"'\",'ъ':'\"','в':'v','б':'b','н':'n','м':'m',}\n",
        "def translit(text):\n",
        "    text1 = text.lower()\n",
        "    text2= []\n",
        "    for i in text1:\n",
        "        if i in dict:\n",
        "            x = dict[i]\n",
        "            text2.append(x)\n",
        "        else:\n",
        "            text2.append(i)\n",
        "    res = \"\".join(text2)\n",
        "    return res\n",
        "    \n",
        "with open ('city_smells.txt','r', encoding = 'utf-8') as smells:\n",
        "    smells = smells.read()\n",
        "    \n",
        "    lst_smells = preprocess(smells)\n",
        "    print(lst_smells)\n",
        "    print(len(lst_smells))\n",
        "    set_smells = set(lst_smells)\n",
        "    print(len(set_smells))\n",
        "    print(translit(smells))\n",
        "\n"
      ],
      "execution_count": 0,
      "outputs": [
        {
          "output_type": "stream",
          "text": [
            "['помните', 'запах', 'свежевыпеченного', 'хлеба', 'на', 'дождливой', 'улочке', 'из', 'той', 'булочной', 'в', 'которую', 'вы', 'заходили', 'в', 'прошлом', 'месяце', 'а', 'как', 'он', 'смешался', 'с', 'запахом', 'смолотого', 'кофе', 'а', 'запах', 'свежескошенной', 'травы', 'в', 'парке', 'освежающим', 'вечером', 'после', 'жаркого', 'дня', 'запахи', 'ежеминутно', 'сопровождают', 'нас', 'в', 'городе', 'но', 'они', 'мимолетны', 'и', 'невидимы', 'поэтому', 'часто', 'ускользают', 'от', 'внимания', 'урбанистов', 'и', 'исследователей', 'городской', 'среды', 'группа', 'ученых', 'из', 'разных', 'университетов', 'мира', 'в', 'рамках', 'проекта', 'smelly', 'maps', 'решила', 'исправить', 'эту', 'несправедливость', 'и', 'занялась', 'исследованием', 'городских', 'запахов', 'самый', 'первый', 'и', 'важный', 'вопрос', 'с', 'которым', 'они', 'столкнулись', '—', 'откуда', 'брать', 'данные', 'для', 'работы', 'один', 'из', 'очевидных', 'ответов', '—', 'собирать', 'данные', 'на', 'месте', 'при', 'помощи', 'так', 'называемых', '«smell', 'walks»', 'принцип', 'прост', 'группа', 'добровольцев', 'идет', 'по', 'маршруту', 'и', 'записывает', 'все', 'запахи', 'которые', 'чувствует', 'по', 'пути', 'отмечая', 'конкретные', 'места', 'на', 'карте', 'на', 'основе', 'таких', 'прогулок', 'и', 'нескольких', 'исследований', 'был', 'составлен', '«словарь', 'запахов»', 'который', 'состоял', 'из', 'всех', 'слов', 'которыми', 'добровольцы', 'описывали', 'запахи', 'во', 'время', 'прогулки', 'просто', 'эффективно', 'и', 'дешево', 'но', 'у', 'такого', 'метода', 'есть', 'недостатки', 'на', 'обход', 'даже', 'небольшого', 'города', 'несколько', 'десятков', 'добровольцев', 'потратит', 'очень', 'много', 'времени', 'а', 'если', 'мы', 'хотим', 'еще', 'и', 'рассмотреть', 'динамику', 'этот', 'способ', 'не', 'подходит', 'совсем', 'остается', 'обратиться', 'к', 'добровольно', 'собираемым', 'и', 'публикуемым', 'в', 'сети', 'большим', 'данным', 'а', 'именно', 'к', 'данным', 'социальных', 'сетей', 'взять', 'миллионов', 'фотографий', 'из', 'flickr', 'миллиона', 'снимков', 'из', 'публичных', 'аккаунтов', 'instagram', 'и', 'миллиона', 'твитов', 'из', 'твиттера', 'каждый', 'из', 'которых', 'обладает', 'геотегом', '—', 'и', 'с', 'этим', 'уже', 'можно', 'работать', 'набор', 'данных', 'из', 'твиттера', 'был', 'очищен', 'от', 'ретвитов', 'и', 'ответов', 'после', 'чего', 'в', 'сумме', 'для', 'анализа', 'было', 'готово', 'миллиона', 'твитов', 'тексты', 'твитов', 'и', 'подписей', 'к', 'фотографиям', 'был', 'распарсен', 'и', 'из', 'всего', 'массива', 'слов', 'были', 'отобраны', 'только', 'те', 'которые', 'имеют', 'отношение', 'к', 'запахам', 'на', 'основе', 'этих', 'данных', 'был', 'построен', 'взвешенный', 'граф', 'связей', 'между', 'словами', 'в', 'вершинах', 'которого', 'закреплены', 'сами', 'слова', 'а', 'вес', 'ребра', 'соответствует', 'количеству', 'раз', 'когда', 'эти', 'два', 'слова', 'встречаются', 'в', 'одном', 'тексте', 'такой', 'анализ', 'выявил', 'несколько', 'четко', 'определенных', 'категорий', 'запахов', 'например', '«природные»', '«индустриальные»', '«еда»', '«выбросывыхлопы»', '«мусор»', 'внутри', 'категорий', 'иногда', 'можно', 'было', 'выделить', 'подкатегории', 'и', 'определить', 'самые', 'часто', 'встречающиеся', 'словаметки', 'этой', 'категории', 'схему', 'этих', 'категорий', 'можно', 'увидеть', 'ниже', 'цвета', 'выбраны', 'не', 'просто', 'так', 'исследователи', 'нашли', 'связи', 'между', 'запахами', 'и', 'цветами', 'преобладающими', 'на', 'анализируемых', 'фотографиях', 'запахи', 'также', 'связаны', 'с', 'негативными', 'или', 'позитивными', 'эмоциями', 'например', 'категория', '«мусор»', 'будет', 'положительно', 'коррелировать', 'с', 'негативными', 'эмоциями', 'отвращением', 'и', 'печалью', 'но', 'отрицательно', '—', 'с', 'радостью', 'в', 'современных', 'городах', 'существуют', 'программы', 'мониторинга', 'качества', 'воздуха', 'позволяющие', 'городским', 'службам', 'оперативно', 'реагировать', 'на', 'аномалии', 'а', 'обычным', 'горожанам', 'следить', 'за', 'составом', 'воздуха', 'которым', 'они', 'дышат', 'массив', 'данных', 'о', 'городских', 'запахах', 'сравнили', 'и', 'с', 'такими', 'данными', 'и', 'сделали', 'вывод', 'о', 'том', 'что', 'данные', 'о', 'более', 'низком', 'качестве', 'воздуха', 'с', 'примесями', 'положительно', 'коррелируют', 'с', 'такими', 'категориями', 'как', '«выбросывыхлопы»', 'и', 'отрицательно', '—', 'с', 'категорией', '«природа»', 'такой', 'вывод', 'кажется', 'логичным', 'но', 'теперь', 'он', 'доказан', 'научно', 'по', 'геотегам', 'исследователи', 'сделали', 'интерактивные', 'карты', 'где', 'можно', 'узнать', 'чем', 'пахнут', 'улицы', 'таких', 'городов', 'мира', 'как', 'лондон', 'и', 'барселона', 'два', 'первых', 'города', 'для', 'которых', 'были', 'собраны', 'и', 'проанализированы', 'данные', 'есть', 'также', 'карты', 'мадрида', 'рима', 'милана', 'ньюйорка', 'и', 'еще', 'шести', 'крупных', 'американских', 'городов', 'авторы', 'утверждают', 'что', 'список', 'будет', 'пополняться', 'и', 'дальше', 'для', 'картографирования', 'использовались', 'открытые', 'данные', 'open', 'street', 'map', 'внутри', 'которых', 'были', 'выделены', 'сегменты', 'улиц', 'от', 'перекрестка', 'до', 'перекрестка', 'к', 'которым', 'были', 'привязаны', 'геотеги', 'оригинальных', 'данных', 'на', 'странице', 'проекта', 'путешествуя', 'по', 'интерактивным', 'картам', 'можно', 'посмотреть', 'соотношение', 'запахов', 'по', 'каждому', 'сегменту', 'например', 'в', 'барселоне', 'на', 'улице', 'бальмес', 'запах', 'еды', 'преобладает', 'вместе', 'запахи', 'складываются', 'в', 'комплексный', 'и', 'сложный', 'ландшафт', 'уникальный', 'для', 'каждого', 'города', 'и', 'он', 'нуждается', 'в', 'исследовании', 'так', 'же', 'как', 'и', 'ландшафт', 'визуальный', 'или', 'звуковой', 'кстати', 'по', 'запросу', 'от', 'авторов', 'можно', 'получить', 'также', 'данные', 'на', 'которых', 'основывался', 'проект', 'если', 'есть', 'желание', 'исследовать', 'их', 'самостоятельно', 'источники', 'страница', 'проекта', 'smelly', 'maps', 'интерактивные', 'карты', 'проекта', 'нелли', 'бурцева']\n",
            "602\n",
            "400\n",
            "pomnite zapah svezhevypechennogo hleba na dozhdlivoj ulochke iz toj bulochnoj, v kotoruju vy zahodili v proshlom mesjatse?\n",
            "a kak on smeshalsja s zapahom smolotogo kofe?\n",
            "a zapah svezheskoshennoj travy v parke osvezhajushchim vecherom posle zharkogo dnja?\n",
            "zapahi ezheminutno soprovozhdajut nas v gorode, no oni mimoletny i nevidimy, poetomu chasto uskol'zajut ot vnimanija urbanistov i issledovatelej gorodskoj sredy.\n",
            "gruppa uchenyh iz raznyh universitetov mira v ramkah proekta smelly maps reshila ispravit' etu nespravedlivost' i zanjalas' issledovaniem gorodskih zapahov.\n",
            "samyj pervyj i vazhnyj vopros, s kotorym oni stolknulis' — otkuda brat' dannye dlja raboty? odin iz ochevidnyh otvetov — sobirat' dannye na meste pri pomoshchi tak nazyvaemyh «smell walks».\n",
            "printsip prost: gruppa dobrovol'tsev idet po marshrutu i zapisyvaet vse zapahi, kotorye chuvstvuet po puti, otmechaja konkretnye mesta na karte.\n",
            "na osnove takih progulok i neskol'kih issledovanij byl sostavlen «slovar' zapahov», kotoryj sostojal iz vseh slov, kotorymi dobrovol'tsy opisyvali zapahi vo vremja progulki.\n",
            "prosto, effektivno i deshevo.\n",
            "no u takogo metoda est' nedostatki: na obhod dazhe nebol'shogo goroda neskol'ko desjatkov dobrovol'tsev potratit ochen' mnogo vremeni, a esli my hotim eshche i rassmotret' dinamiku, etot sposob ne podhodit sovsem.\n",
            "ostaetsja obratit'sja k dobrovol'no sobiraemym i publikuemym v seti bol'shim dannym, a imenno k dannym sotsial'nyh setej.\n",
            "vzjat' 17 millionov fotografij iz flickr, 5.1 milliona snimkov iz publichnyh akkauntov instagram i 5.3 milliona tvitov iz tvittera, kazhdyj iz kotoryh obladaet geotegom — i s etim uzhe mozhno rabotat'.\n",
            "nabor dannyh iz tvittera byl ochishchen ot retvitov i otvetov, posle chego v summe dlja analiza bylo gotovo 1.7 milliona tvitov.\n",
            "teksty tvitov i podpisej k fotografijam byl rasparsen, i iz vsego massiva slov byli otobrany tol'ko te, kotorye imejut otnoshenie k zapaham.\n",
            "na osnove etih dannyh byl postroen vzveshennyj graf svjazej mezhdu slovami, v vershinah kotorogo zakrepleny sami slova, a ves rebra sootvetstvuet kolichestvu raz, kogda eti dva slova vstrechajutsja v odnom tekste. takoj analiz vyjavil neskol'ko chetko opredelennyh kategorij zapahov, naprimer, «prirodnye», «industrial'nye», «eda», «vybrosy/vyhlopy», «musor».\n",
            "vnutri kategorij inogda mozhno bylo vydelit' podkategorii i opredelit' samye chasto vstrechajushchiesja slova-metki etoj kategorii.\n",
            "shemu etih kategorij mozhno uvidet' nizhe.\n",
            "tsveta vybrany ne prosto tak.\n",
            "issledovateli nashli svjazi mezhdu zapahami i tsvetami, preobladajushchimi na analiziruemyh fotografijah.\n",
            "zapahi takzhe svjazany s negativnymi ili pozitivnymi emotsijami, naprimer, kategorija «musor» budet polozhitel'no korrelirovat' s negativnymi emotsijami, otvrashcheniem i pechal'ju, no otritsatel'no — s radost'ju.\n",
            "\n",
            "v sovremennyh gorodah sushchestvujut programmy monitoringa kachestva vozduha, pozvoljajushchie gorodskim sluzhbam operativno reagirovat' na anomalii, a obychnym gorozhanam sledit' za sostavom vozduha, kotorym oni dyshat. massiv dannyh o gorodskih zapahah sravnili i s takimi dannymi i sdelali vyvod o tom, chto dannye o bolee nizkom kachestve vozduha s primesjami polozhitel'no korrelirujut s takimi kategorijami, kak «vybrosy/vyhlopy», i otritsatel'no — s kategoriej «priroda».\n",
            "takoj vyvod kazhetsja logichnym, no teper' on dokazan nauchno.\n",
            "\n",
            "po geotegam issledovateli sdelali interaktivnye karty, gde mozhno uznat', chem pahnut ulitsy takih gorodov mira, kak london i barselona (dva pervyh goroda, dlja kotoryh byli sobrany i proanalizirovany dannye).\n",
            "est' takzhe karty madrida, rima, milana, n'ju-jorka i eshche shesti krupnyh amerikanskih gorodov.\n",
            "avtory utverzhdajut, chto spisok budet popolnjat'sja i dal'she.\n",
            "\n",
            "dlja kartografirovanija ispol'zovalis' otkrytye dannye open street map, vnutri kotoryh byli vydeleny segmenty ulits ot perekrestka do perekrestka, k kotorym byli privjazany geotegi original'nyh dannyh.\n",
            "na stranitse proekta, puteshestvuja po interaktivnym kartam, mozhno posmotret' sootnoshenie zapahov po kazhdomu segmentu, naprimer, v barselone na ulitse bal'mes zapah edy preobladaet:\n",
            "\n",
            "vmeste zapahi skladyvajutsja v kompleksnyj i slozhnyj landshaft, unikal'nyj dlja kazhdogo goroda, i on nuzhdaetsja v issledovanii tak zhe, kak i landshaft vizual'nyj ili zvukovoj.\n",
            "kstati, po zaprosu ot avtorov mozhno poluchit' takzhe dannye, na kotoryh osnovyvalsja proekt, esli est' zhelanie issledovat' ih samostojatel'no.\n",
            "\n",
            "istochniki:\n",
            "stranitsa proekta smelly maps\n",
            "interaktivnye karty proekta\n",
            "nelli burtseva\n",
            "\n"
          ],
          "name": "stdout"
        }
      ]
    },
    {
      "cell_type": "code",
      "metadata": {
        "id": "hmBdVUS7lRaK",
        "colab_type": "code",
        "colab": {}
      },
      "source": [
        ""
      ],
      "execution_count": 0,
      "outputs": []
    },
    {
      "cell_type": "code",
      "metadata": {
        "id": "Z0qOf8oYn6Bh",
        "colab_type": "code",
        "outputId": "49053dab-4973-4ed2-d936-468089d278a8",
        "colab": {
          "base_uri": "https://localhost:8080/",
          "height": 258
        }
      },
      "source": [
        "!pip install fuzzywuzzy[speedup]\n"
      ],
      "execution_count": 0,
      "outputs": [
        {
          "output_type": "stream",
          "text": [
            "Collecting fuzzywuzzy[speedup]\n",
            "  Downloading https://files.pythonhosted.org/packages/d8/f1/5a267addb30ab7eaa1beab2b9323073815da4551076554ecc890a3595ec9/fuzzywuzzy-0.17.0-py2.py3-none-any.whl\n",
            "Collecting python-levenshtein>=0.12; extra == \"speedup\"\n",
            "\u001b[?25l  Downloading https://files.pythonhosted.org/packages/42/a9/d1785c85ebf9b7dfacd08938dd028209c34a0ea3b1bcdb895208bd40a67d/python-Levenshtein-0.12.0.tar.gz (48kB)\n",
            "\u001b[K     |████████████████████████████████| 51kB 5.6MB/s \n",
            "\u001b[?25hRequirement already satisfied: setuptools in /usr/local/lib/python3.6/dist-packages (from python-levenshtein>=0.12; extra == \"speedup\"->fuzzywuzzy[speedup]) (41.4.0)\n",
            "Building wheels for collected packages: python-levenshtein\n",
            "  Building wheel for python-levenshtein (setup.py) ... \u001b[?25l\u001b[?25hdone\n",
            "  Created wheel for python-levenshtein: filename=python_Levenshtein-0.12.0-cp36-cp36m-linux_x86_64.whl size=144665 sha256=3abaa7265bec71240fdcb374c25afbe2c3a9d76cc40b0b6b4fd04fd8e2bc4678\n",
            "  Stored in directory: /root/.cache/pip/wheels/de/c2/93/660fd5f7559049268ad2dc6d81c4e39e9e36518766eaf7e342\n",
            "Successfully built python-levenshtein\n",
            "Installing collected packages: python-levenshtein, fuzzywuzzy\n",
            "Successfully installed fuzzywuzzy-0.17.0 python-levenshtein-0.12.0\n"
          ],
          "name": "stdout"
        }
      ]
    },
    {
      "cell_type": "code",
      "metadata": {
        "id": "2qE9Md9qn6z8",
        "colab_type": "code",
        "colab": {}
      },
      "source": [
        "from fuzzywuzzy import fuzz\n",
        "def find_variation(tokenized_string, standard):\n",
        "    for word in tokenized_string:\n",
        "        if fuzz.ratio(standard, word) > 75: # Можно поменять это значение и посмотреть, что будет.\n",
        "        return word\n"
      ],
      "execution_count": 0,
      "outputs": []
    }
  ]
}