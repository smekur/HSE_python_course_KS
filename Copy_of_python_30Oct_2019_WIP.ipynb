{
  "nbformat": 4,
  "nbformat_minor": 0,
  "metadata": {
    "colab": {
      "name": "Copy of python_30Oct_2019-WIP.ipynb",
      "provenance": [],
      "collapsed_sections": [
        "YPY75dCcrW7f",
        "LKlVNlBfjJHx",
        "zDDJ_qsdqvk-"
      ],
      "include_colab_link": true
    },
    "kernelspec": {
      "name": "python3",
      "display_name": "Python 3"
    }
  },
  "cells": [
    {
      "cell_type": "markdown",
      "metadata": {
        "id": "view-in-github",
        "colab_type": "text"
      },
      "source": [
        "<a href=\"https://colab.research.google.com/github/smekur/HSE_python_course_KS/blob/master/Copy_of_python_30Oct_2019_WIP.ipynb\" target=\"_parent\"><img src=\"https://colab.research.google.com/assets/colab-badge.svg\" alt=\"Open In Colab\"/></a>"
      ]
    },
    {
      "cell_type": "markdown",
      "metadata": {
        "id": "fKK1NqdSabRi",
        "colab_type": "text"
      },
      "source": [
        "*Сегодня мы поговорим о новых типах данных: кортежах, множествах и словарях*"
      ]
    },
    {
      "cell_type": "markdown",
      "metadata": {
        "id": "YPY75dCcrW7f",
        "colab_type": "text"
      },
      "source": [
        "##**Кортеж (tuple)**\n",
        "\n",
        "это неизменяемый список.\n",
        "\n",
        "Зачем нужны кортежи, если есть списки?\n",
        "\n",
        "    1. Защита данных. Кортеж защищен от изменений, как намеренных (что плохо), так и случайных (что хорошо).\n",
        "    2. Меньший размер. Вам нужно меньше памяти, чтобы хранить данные"
      ]
    },
    {
      "cell_type": "code",
      "metadata": {
        "id": "XgCyWbsYr-JO",
        "colab_type": "code",
        "outputId": "203cc8c4-6ab0-418d-e63b-90bca0835a67",
        "colab": {
          "base_uri": "https://localhost:8080/",
          "height": 68
        }
      },
      "source": [
        "# сравним размеры\n",
        "\n",
        "a = (1, 2, 3, 4, 5, 6) # кортеж\n",
        "b = [1, 2, 3, 4, 5, 6] # лист/список\n",
        "\n",
        "print(\"\\nSize of the set: \",a.__sizeof__(),\"\\nsize of the list: \",b.__sizeof__()) \n",
        "\n",
        "# если вы не понимаете, что происходит в этой ячейке, не переживайте: метод .__sizeof__() пока можно воспринимать как асбтракцию\n"
      ],
      "execution_count": 0,
      "outputs": [
        {
          "output_type": "stream",
          "text": [
            "\n",
            "Size of the set:  72 \n",
            "size of the list:  88\n"
          ],
          "name": "stdout"
        }
      ]
    },
    {
      "cell_type": "markdown",
      "metadata": {
        "id": "kwkjBl0T12UV",
        "colab_type": "text"
      },
      "source": [
        "Как работать с кортежами? Примерно так же, как и со списками. Давайте создадим кортеж: \n",
        "\n",
        "    1. С помощью встроенной функции tuple()\n",
        "\n"
      ]
    },
    {
      "cell_type": "code",
      "metadata": {
        "id": "kriHPlVcspMc",
        "colab_type": "code",
        "outputId": "481ef847-59ae-40e2-bdb6-34433f9a7779",
        "colab": {
          "base_uri": "https://localhost:8080/",
          "height": 34
        }
      },
      "source": [
        "a = tuple() \n",
        "a"
      ],
      "execution_count": 0,
      "outputs": [
        {
          "output_type": "execute_result",
          "data": {
            "text/plain": [
              "()"
            ]
          },
          "metadata": {
            "tags": []
          },
          "execution_count": 2
        }
      ]
    },
    {
      "cell_type": "markdown",
      "metadata": {
        "id": "Z1Jd5U1M7PT1",
        "colab_type": "text"
      },
      "source": [
        "    2. С помощью литерала кортежа ()"
      ]
    },
    {
      "cell_type": "code",
      "metadata": {
        "id": "yLIrwtKd7P30",
        "colab_type": "code",
        "colab": {}
      },
      "source": [
        "a = ()\n",
        "a\n"
      ],
      "execution_count": 0,
      "outputs": []
    },
    {
      "cell_type": "markdown",
      "metadata": {
        "id": "yDSTSFZz2ARR",
        "colab_type": "text"
      },
      "source": [
        "Создаем кортеж из одного элемента:"
      ]
    },
    {
      "cell_type": "code",
      "metadata": {
        "id": "WJOgLwE22Nm_",
        "colab_type": "code",
        "outputId": "64a043e2-1e92-4683-f2f3-b3b88e92ebd1",
        "colab": {
          "base_uri": "https://localhost:8080/",
          "height": 34
        }
      },
      "source": [
        "a = ('s')\n",
        "a\n",
        "# проверим его тип "
      ],
      "execution_count": 0,
      "outputs": [
        {
          "output_type": "execute_result",
          "data": {
            "text/plain": [
              "'s'"
            ]
          },
          "metadata": {
            "tags": []
          },
          "execution_count": 3
        }
      ]
    },
    {
      "cell_type": "markdown",
      "metadata": {
        "id": "zLdrLOn87nW-",
        "colab_type": "text"
      },
      "source": [
        "\n",
        "Получилась строка :(  \n",
        "    \n",
        "А как получить кортеж?\n",
        "\n"
      ]
    },
    {
      "cell_type": "code",
      "metadata": {
        "id": "KsCCXu7L73Ic",
        "colab_type": "code",
        "outputId": "22f4c3ee-09aa-434e-9559-dce21292d384",
        "colab": {
          "base_uri": "https://localhost:8080/",
          "height": 34
        }
      },
      "source": [
        "a = ('s', ) # все дело в запятой! \n",
        "a\n",
        "# проверим тип "
      ],
      "execution_count": 0,
      "outputs": [
        {
          "output_type": "execute_result",
          "data": {
            "text/plain": [
              "('s',)"
            ]
          },
          "metadata": {
            "tags": []
          },
          "execution_count": 4
        }
      ]
    },
    {
      "cell_type": "markdown",
      "metadata": {
        "id": "oAtBJPku8Lnv",
        "colab_type": "text"
      },
      "source": [
        "    3. и еще один способ задать кортеж:"
      ]
    },
    {
      "cell_type": "code",
      "metadata": {
        "id": "aq-kuGVJ8LHf",
        "colab_type": "code",
        "outputId": "b071701d-4716-400d-f017-0f74fc711180",
        "colab": {
          "base_uri": "https://localhost:8080/",
          "height": 34
        }
      },
      "source": [
        "a = 's',\n",
        "a"
      ],
      "execution_count": 0,
      "outputs": [
        {
          "output_type": "execute_result",
          "data": {
            "text/plain": [
              "('s',)"
            ]
          },
          "metadata": {
            "tags": []
          },
          "execution_count": 5
        }
      ]
    },
    {
      "cell_type": "markdown",
      "metadata": {
        "id": "cZxrlN068hK3",
        "colab_type": "text"
      },
      "source": [
        "создать кортеж из итерируемого объекта можно с помощью функции tuple()"
      ]
    },
    {
      "cell_type": "code",
      "metadata": {
        "id": "styHyGPj8YXC",
        "colab_type": "code",
        "outputId": "4426c657-2152-4410-8c0d-9f2205144115",
        "colab": {
          "base_uri": "https://localhost:8080/",
          "height": 34
        }
      },
      "source": [
        "a = tuple('hello')\n",
        "a"
      ],
      "execution_count": 0,
      "outputs": [
        {
          "output_type": "execute_result",
          "data": {
            "text/plain": [
              "('h', 'e', 'l', 'l', 'o')"
            ]
          },
          "metadata": {
            "tags": []
          },
          "execution_count": 8
        }
      ]
    },
    {
      "cell_type": "markdown",
      "metadata": {
        "id": "csvhTL2Y8uxw",
        "colab_type": "text"
      },
      "source": [
        "###Операции с кортежами\n",
        "\n",
        "кортежам доступны все операции над списками, не изменяющие список: сложение, умножение на число, методы index() и count()), можно работать с индексами и так далее."
      ]
    },
    {
      "cell_type": "markdown",
      "metadata": {
        "id": "LKlVNlBfjJHx",
        "colab_type": "text"
      },
      "source": [
        "##**Множество (set)**\n",
        "\n",
        "это тоже \"контейнер\" для данных, но в отличие от листа(списка), он содержит уникальные, не повторяющиеся элементы.\n",
        "\n",
        "Давайте создадим множество:\n",
        "\n",
        "    1. с помощью функуии set()\n",
        "\n"
      ]
    },
    {
      "cell_type": "code",
      "metadata": {
        "id": "XbG8bgXYlVHm",
        "colab_type": "code",
        "outputId": "812749a8-dcb7-4283-b9cc-ca8b496c7e71",
        "colab": {
          "base_uri": "https://localhost:8080/",
          "height": 34
        }
      },
      "source": [
        "set(\"hello\")"
      ],
      "execution_count": 0,
      "outputs": [
        {
          "output_type": "execute_result",
          "data": {
            "text/plain": [
              "{'e', 'h', 'l', 'o'}"
            ]
          },
          "metadata": {
            "tags": []
          },
          "execution_count": 1
        }
      ]
    },
    {
      "cell_type": "code",
      "metadata": {
        "id": "_EopXMulaUrO",
        "colab_type": "code",
        "outputId": "140a3ebf-7053-42df-d7b9-72ca8f27e288",
        "colab": {
          "base_uri": "https://localhost:8080/",
          "height": 51
        }
      },
      "source": [
        "fruits = [\"apples\",\"peaches\",\"cherries\",\"pears\",\"oranges\",\"persimmons\"] # задали список, сохранили в переменную\n",
        "#  проверим его тип:\n",
        "print(type(fruits)) # list\n",
        "# давайте изменим тип на set с помощью функции set()\n",
        "fruits = set(fruits) #применили функцию, пересохранили переменную\n",
        "\n",
        "#проверим ее тип еще раз \n",
        "print(type(fruits)) # set \n",
        "\n"
      ],
      "execution_count": 0,
      "outputs": [
        {
          "output_type": "stream",
          "text": [
            "<class 'list'>\n",
            "<class 'set'>\n"
          ],
          "name": "stdout"
        }
      ]
    },
    {
      "cell_type": "markdown",
      "metadata": {
        "id": "Iq05WnEfmTFK",
        "colab_type": "text"
      },
      "source": [
        "    2. с помощью литерала {} "
      ]
    },
    {
      "cell_type": "code",
      "metadata": {
        "id": "p81krk1FlIDE",
        "colab_type": "code",
        "outputId": "eb580332-7241-45bb-a605-649fd9f8c543",
        "colab": {
          "base_uri": "https://localhost:8080/",
          "height": 34
        }
      },
      "source": [
        "new_set = {2,5.9,\"apples\", False}  # создали переменную, сложили в нее некоторые объекты\n",
        "# можем складывать в множество объекты разных типов: числовые, строковые, логические\n",
        "\n",
        "# давайте проверим, что new_set действительно множество\n",
        "print(type(new_set))\n"
      ],
      "execution_count": 0,
      "outputs": [
        {
          "output_type": "stream",
          "text": [
            "<class 'set'>\n"
          ],
          "name": "stdout"
        }
      ]
    },
    {
      "cell_type": "markdown",
      "metadata": {
        "id": "ydhwxVHInUMi",
        "colab_type": "text"
      },
      "source": [
        "    NB! обратите внимание, что в отличие от листа, множество нельзя задать пустым литералом и что-то в него добавлять"
      ]
    },
    {
      "cell_type": "code",
      "metadata": {
        "id": "oLz-iV-1muUf",
        "colab_type": "code",
        "outputId": "dd529d6f-583e-4235-d80f-b386115e9e72",
        "colab": {
          "base_uri": "https://localhost:8080/",
          "height": 51
        }
      },
      "source": [
        "another_set = {} # создали пустое....\n",
        "\n",
        "# ....множество? Давайте проверим тип созданной переменной \n",
        "\n",
        "print(type(another_set)) \n",
        "\n",
        "\"\"\" это не множество, это словарь! (о них мы поговорим позже). \n",
        "Давайте пока запомним главное: множества не задаются пустыми литералами \"\"\" "
      ],
      "execution_count": 0,
      "outputs": [
        {
          "output_type": "stream",
          "text": [
            "<class 'dict'>\n"
          ],
          "name": "stdout"
        },
        {
          "output_type": "execute_result",
          "data": {
            "text/plain": [
              "' это не множество, это словарь! (о них мы поговорим позже). \\nДавайте пока запомним главное: множества не задаются пустыми литералами '"
            ]
          },
          "metadata": {
            "tags": []
          },
          "execution_count": 19
        }
      ]
    },
    {
      "cell_type": "markdown",
      "metadata": {
        "id": "y4CRSI6nolqC",
        "colab_type": "text"
      },
      "source": [
        "Множества удобно использовать для удаления повторяющихся элементов:"
      ]
    },
    {
      "cell_type": "code",
      "metadata": {
        "id": "1NhqLbvingJ0",
        "colab_type": "code",
        "outputId": "6453b2e7-fa54-47bf-d0b1-a04d4ffe73e8",
        "colab": {
          "base_uri": "https://localhost:8080/",
          "height": 34
        }
      },
      "source": [
        "cars = [\"BMW\",\"Toyota\",\"Bentley\",\"Jeep\",\"Jeep\"]\n",
        "cars = set(cars)\n",
        "cars"
      ],
      "execution_count": 0,
      "outputs": [
        {
          "output_type": "execute_result",
          "data": {
            "text/plain": [
              "{'BMW', 'Bentley', 'Jeep', 'Toyota'}"
            ]
          },
          "metadata": {
            "tags": []
          },
          "execution_count": 13
        }
      ]
    },
    {
      "cell_type": "markdown",
      "metadata": {
        "id": "lv9JQUBkplRh",
        "colab_type": "text"
      },
      "source": [
        "операции со множествами"
      ]
    },
    {
      "cell_type": "code",
      "metadata": {
        "id": "rz7uZycLpVDQ",
        "colab_type": "code",
        "outputId": "88d6a1f2-0efe-4934-c4ac-e51e1eb1df3b",
        "colab": {
          "base_uri": "https://localhost:8080/",
          "height": 34
        }
      },
      "source": [
        "#число элементов в множестве (размер множества).\n",
        "len(cars) "
      ],
      "execution_count": 0,
      "outputs": [
        {
          "output_type": "execute_result",
          "data": {
            "text/plain": [
              "4"
            ]
          },
          "metadata": {
            "tags": []
          },
          "execution_count": 14
        }
      ]
    },
    {
      "cell_type": "code",
      "metadata": {
        "id": "Y6fK44Icpw9F",
        "colab_type": "code",
        "outputId": "e9a89360-d7a1-45f7-96bc-7817cdd953f9",
        "colab": {
          "base_uri": "https://localhost:8080/",
          "height": 34
        }
      },
      "source": [
        "# x in s - принадлежит ли x множеству s. Возвращает True/False\n",
        "\n",
        "#\"Kia\" in cars\n",
        " \"Jeep\" in cars"
      ],
      "execution_count": 0,
      "outputs": [
        {
          "output_type": "execute_result",
          "data": {
            "text/plain": [
              "True"
            ]
          },
          "metadata": {
            "tags": []
          },
          "execution_count": 15
        }
      ]
    },
    {
      "cell_type": "markdown",
      "metadata": {
        "id": "uG4DH-lYqdbb",
        "colab_type": "text"
      },
      "source": [
        "И операции, изменяющие множество:"
      ]
    },
    {
      "cell_type": "code",
      "metadata": {
        "id": "KgU_LV5BA-Us",
        "colab_type": "code",
        "outputId": "f7fe35cf-caee-4a20-de12-f1ddbe7e7e4f",
        "colab": {
          "base_uri": "https://localhost:8080/",
          "height": 34
        }
      },
      "source": [
        "#добавляем элемент в множество\n",
        "elem = \"VolskWagen\"\n",
        "cars.add(elem)\n",
        "cars "
      ],
      "execution_count": 0,
      "outputs": [
        {
          "output_type": "execute_result",
          "data": {
            "text/plain": [
              "{'BMW', 'Bentley', 'Jeep', 'Toyota', 'VolskWagen'}"
            ]
          },
          "metadata": {
            "tags": []
          },
          "execution_count": 16
        }
      ]
    },
    {
      "cell_type": "code",
      "metadata": {
        "id": "Huof99PqqGor",
        "colab_type": "code",
        "outputId": "61ff2c97-0b1b-4a94-9438-c327e242083c",
        "colab": {
          "base_uri": "https://localhost:8080/",
          "height": 153
        }
      },
      "source": [
        "# добавляем множество во множество\n",
        "french_cars = {\"Peugeot\", \"Citroën\", \"Renault\"}\n",
        "cars.update(french_cars)\n",
        "cars"
      ],
      "execution_count": 0,
      "outputs": [
        {
          "output_type": "execute_result",
          "data": {
            "text/plain": [
              "{'BMW',\n",
              " 'Bentley',\n",
              " 'Citroën',\n",
              " 'Jeep',\n",
              " 'Peugeot',\n",
              " 'Renault',\n",
              " 'Toyota',\n",
              " 'VolskWagen'}"
            ]
          },
          "metadata": {
            "tags": []
          },
          "execution_count": 17
        }
      ]
    },
    {
      "cell_type": "code",
      "metadata": {
        "id": "T85OTjscCEOo",
        "colab_type": "code",
        "outputId": "6435ba12-e41f-4e0c-901b-789741b0b7ab",
        "colab": {
          "base_uri": "https://localhost:8080/",
          "height": 34
        }
      },
      "source": [
        "# удаляем элемент из множества. \n",
        "cars.remove(\"Jeep\")\n",
        "cars"
      ],
      "execution_count": 0,
      "outputs": [
        {
          "output_type": "execute_result",
          "data": {
            "text/plain": [
              "{'BMW', 'Bentley', 'Citroën', 'Peugeot', 'Renault', 'Toyota', 'VolskWagen'}"
            ]
          },
          "metadata": {
            "tags": []
          },
          "execution_count": 18
        }
      ]
    },
    {
      "cell_type": "code",
      "metadata": {
        "id": "Q1-ymgelCR7C",
        "colab_type": "code",
        "outputId": "f7d1a7bf-360b-4097-b437-0bb0713d5ef0",
        "colab": {
          "base_uri": "https://localhost:8080/",
          "height": 164
        }
      },
      "source": [
        "# KeyError, если такого элемента не существует.\n",
        "cars.remove(\"Lamborgini\")"
      ],
      "execution_count": 0,
      "outputs": [
        {
          "output_type": "error",
          "ename": "KeyError",
          "evalue": "ignored",
          "traceback": [
            "\u001b[0;31m---------------------------------------------------------------------------\u001b[0m",
            "\u001b[0;31mKeyError\u001b[0m                                  Traceback (most recent call last)",
            "\u001b[0;32m<ipython-input-19-4e59839bee15>\u001b[0m in \u001b[0;36m<module>\u001b[0;34m()\u001b[0m\n\u001b[0;32m----> 1\u001b[0;31m \u001b[0mcars\u001b[0m\u001b[0;34m.\u001b[0m\u001b[0mremove\u001b[0m\u001b[0;34m(\u001b[0m\u001b[0;34m\"Lamborgini\"\u001b[0m\u001b[0;34m)\u001b[0m\u001b[0;34m\u001b[0m\u001b[0;34m\u001b[0m\u001b[0m\n\u001b[0m",
            "\u001b[0;31mKeyError\u001b[0m: 'Lamborgini'"
          ]
        }
      ]
    },
    {
      "cell_type": "code",
      "metadata": {
        "id": "3myR0EyVCYhc",
        "colab_type": "code",
        "colab": {}
      },
      "source": [
        "cars.discard(\"Lamborgini\") # удаляет элемент, если он находится в множестве.\n",
        "# Если элемента нет, не поднимает ошибку"
      ],
      "execution_count": 0,
      "outputs": []
    },
    {
      "cell_type": "code",
      "metadata": {
        "id": "MtMXFJd7C6PB",
        "colab_type": "code",
        "outputId": "0f78e4b7-21f1-4fe4-d01d-623fdb1b7268",
        "colab": {
          "base_uri": "https://localhost:8080/",
          "height": 51
        }
      },
      "source": [
        "# удаляет первый элемент\n",
        "print(cars)\n",
        "cars.pop()\n",
        "\n",
        "# запустите несколько раз, посмотрите на результат"
      ],
      "execution_count": 0,
      "outputs": [
        {
          "output_type": "stream",
          "text": [
            "{'Citroën', 'Toyota', 'Bentley', 'VolskWagen', 'Peugeot', 'Renault', 'BMW'}\n"
          ],
          "name": "stdout"
        },
        {
          "output_type": "execute_result",
          "data": {
            "text/plain": [
              "'Citroën'"
            ]
          },
          "metadata": {
            "tags": []
          },
          "execution_count": 22
        }
      ]
    },
    {
      "cell_type": "code",
      "metadata": {
        "id": "9D-k4CWQDJBi",
        "colab_type": "code",
        "outputId": "6f13e615-9261-4d13-c44d-eb0e93d7c975",
        "colab": {
          "base_uri": "https://localhost:8080/",
          "height": 34
        }
      },
      "source": [
        "# очищаем множество\n",
        "\n",
        "cars.clear()\n",
        "cars"
      ],
      "execution_count": 0,
      "outputs": [
        {
          "output_type": "execute_result",
          "data": {
            "text/plain": [
              "set()"
            ]
          },
          "metadata": {
            "tags": []
          },
          "execution_count": 24
        }
      ]
    },
    {
      "cell_type": "markdown",
      "metadata": {
        "id": "xqvSy9Hyqr0Q",
        "colab_type": "text"
      },
      "source": [
        "математические операции со множествами"
      ]
    },
    {
      "cell_type": "code",
      "metadata": {
        "id": "phO-apGeDa_7",
        "colab_type": "code",
        "outputId": "7c3f10e0-1943-4cf1-da6f-35ead1c897e6",
        "colab": {
          "base_uri": "https://localhost:8080/",
          "height": 34
        }
      },
      "source": [
        "fruits # возьмем наше множество фруктов"
      ],
      "execution_count": 0,
      "outputs": [
        {
          "output_type": "execute_result",
          "data": {
            "text/plain": [
              "{'apples', 'cherries', 'oranges', 'peaches', 'pears', 'persimmons'}"
            ]
          },
          "metadata": {
            "tags": []
          },
          "execution_count": 4
        }
      ]
    },
    {
      "cell_type": "code",
      "metadata": {
        "id": "lm7L0evHqbVQ",
        "colab_type": "code",
        "outputId": "6742133c-1727-4551-fd49-e5044b89208e",
        "colab": {
          "base_uri": "https://localhost:8080/",
          "height": 34
        }
      },
      "source": [
        "berries = {\"strawberry\", \"red currant\"}\n",
        "fruits.isdisjoint(berries) # True, если множества  не имеют общих элементов."
      ],
      "execution_count": 0,
      "outputs": [
        {
          "output_type": "execute_result",
          "data": {
            "text/plain": [
              "True"
            ]
          },
          "metadata": {
            "tags": []
          },
          "execution_count": 5
        }
      ]
    },
    {
      "cell_type": "code",
      "metadata": {
        "id": "Xvl3ribkEAZH",
        "colab_type": "code",
        "outputId": "e41da791-4fc6-4450-fbdf-4b16d5bec126",
        "colab": {
          "base_uri": "https://localhost:8080/",
          "height": 34
        }
      },
      "source": [
        "fruits == berries # True если все элементы set принадлежат other, все элементы other принадлежат set."
      ],
      "execution_count": 0,
      "outputs": [
        {
          "output_type": "execute_result",
          "data": {
            "text/plain": [
              "False"
            ]
          },
          "metadata": {
            "tags": []
          },
          "execution_count": 32
        }
      ]
    },
    {
      "cell_type": "code",
      "metadata": {
        "id": "ELuzu41lEORu",
        "colab_type": "code",
        "outputId": "b833afcd-2497-484e-b783-aada908b40d6",
        "colab": {
          "base_uri": "https://localhost:8080/",
          "height": 34
        }
      },
      "source": [
        "berries.issubset(fruits) # является ли подмножеством\n",
        "# fruits <= berries # True если все элементы berries принадлежат fruits.\n",
        "# cars <= french_cars "
      ],
      "execution_count": 0,
      "outputs": [
        {
          "output_type": "execute_result",
          "data": {
            "text/plain": [
              "True"
            ]
          },
          "metadata": {
            "tags": []
          },
          "execution_count": 35
        }
      ]
    },
    {
      "cell_type": "code",
      "metadata": {
        "id": "Nwd7FzFPEsD1",
        "colab_type": "code",
        "outputId": "e69621a7-5b9f-4506-dcbb-2004767385d2",
        "colab": {
          "base_uri": "https://localhost:8080/",
          "height": 34
        }
      },
      "source": [
        "fruits.issuperset(berries) # аналогично, но в обратную сторону\n",
        "# berries >= fruits\n",
        "# french_cars >= cars"
      ],
      "execution_count": 0,
      "outputs": [
        {
          "output_type": "execute_result",
          "data": {
            "text/plain": [
              "True"
            ]
          },
          "metadata": {
            "tags": []
          },
          "execution_count": 37
        }
      ]
    },
    {
      "cell_type": "code",
      "metadata": {
        "id": "K2rxv2lnFD3z",
        "colab_type": "code",
        "outputId": "a351865c-1832-41df-87b2-44d00afbff2b",
        "colab": {
          "base_uri": "https://localhost:8080/",
          "height": 153
        }
      },
      "source": [
        "fruits.union(berries) # объединение нескольких множеств \n",
        "# fruits | berries"
      ],
      "execution_count": 0,
      "outputs": [
        {
          "output_type": "execute_result",
          "data": {
            "text/plain": [
              "{'apples',\n",
              " 'cherries',\n",
              " 'oranges',\n",
              " 'peaches',\n",
              " 'pears',\n",
              " 'persimmons',\n",
              " 'red currant',\n",
              " 'strawberry'}"
            ]
          },
          "metadata": {
            "tags": []
          },
          "execution_count": 38
        }
      ]
    },
    {
      "cell_type": "code",
      "metadata": {
        "id": "fXN6VpSoFVQb",
        "colab_type": "code",
        "outputId": "69ada0a8-0087-4459-cafe-8333dfeabbdc",
        "colab": {
          "base_uri": "https://localhost:8080/",
          "height": 34
        }
      },
      "source": [
        "#  пересечение множеств \n",
        "\n",
        "fruits.intersection(berries) # пустое, у них нет общих элементов\n",
        "\n",
        "# давайте добавим арбуз \n",
        "\n",
        "# fruits.add(\"watermelon\")\n",
        "# berries.add(\"watermelon\")\n",
        "\n",
        "\n",
        "# fruits & berries\n"
      ],
      "execution_count": 0,
      "outputs": [
        {
          "output_type": "execute_result",
          "data": {
            "text/plain": [
              "set()"
            ]
          },
          "metadata": {
            "tags": []
          },
          "execution_count": 6
        }
      ]
    },
    {
      "cell_type": "markdown",
      "metadata": {
        "id": "zDDJ_qsdqvk-",
        "colab_type": "text"
      },
      "source": [
        "### еще один вид множества - frozenset\n",
        "\n",
        "    set изменяемый, frozenset - нет"
      ]
    },
    {
      "cell_type": "code",
      "metadata": {
        "id": "1RHX7pXrq-42",
        "colab_type": "code",
        "outputId": "a246bc64-467d-4ad9-f3c8-3db8a415f348",
        "colab": {
          "base_uri": "https://localhost:8080/",
          "height": 34
        }
      },
      "source": [
        "a = set(\"random\")\n",
        "b = frozenset('random')\n",
        "a == b # давайте сравним множества"
      ],
      "execution_count": 0,
      "outputs": [
        {
          "output_type": "execute_result",
          "data": {
            "text/plain": [
              "True"
            ]
          },
          "metadata": {
            "tags": []
          },
          "execution_count": 7
        }
      ]
    },
    {
      "cell_type": "code",
      "metadata": {
        "id": "yipvU3j8G44r",
        "colab_type": "code",
        "outputId": "6053089a-4cb9-45be-e3b7-a5d46e385d92",
        "colab": {
          "base_uri": "https://localhost:8080/",
          "height": 34
        }
      },
      "source": [
        "a.add(1) #добавим элемент в первое множество\n",
        "a"
      ],
      "execution_count": 0,
      "outputs": [
        {
          "output_type": "execute_result",
          "data": {
            "text/plain": [
              "{1, 'a', 'd', 'm', 'n', 'o', 'r'}"
            ]
          },
          "metadata": {
            "tags": []
          },
          "execution_count": 8
        }
      ]
    },
    {
      "cell_type": "code",
      "metadata": {
        "id": "fvu33GL8HR7z",
        "colab_type": "code",
        "outputId": "2675c97d-d931-47cf-8cda-91fcd1bd2b44",
        "colab": {
          "base_uri": "https://localhost:8080/",
          "height": 180
        }
      },
      "source": [
        "b.add(2)\n",
        "# мы не можем добавлять в frozenset"
      ],
      "execution_count": 0,
      "outputs": [
        {
          "output_type": "error",
          "ename": "AttributeError",
          "evalue": "ignored",
          "traceback": [
            "\u001b[0;31m---------------------------------------------------------------------------\u001b[0m",
            "\u001b[0;31mAttributeError\u001b[0m                            Traceback (most recent call last)",
            "\u001b[0;32m<ipython-input-9-4ce5d07a229d>\u001b[0m in \u001b[0;36m<module>\u001b[0;34m()\u001b[0m\n\u001b[0;32m----> 1\u001b[0;31m \u001b[0mb\u001b[0m\u001b[0;34m.\u001b[0m\u001b[0madd\u001b[0m\u001b[0;34m(\u001b[0m\u001b[0;36m2\u001b[0m\u001b[0;34m)\u001b[0m\u001b[0;34m\u001b[0m\u001b[0;34m\u001b[0m\u001b[0m\n\u001b[0m\u001b[1;32m      2\u001b[0m \u001b[0;31m# мы не можем добавлять в frozenset\u001b[0m\u001b[0;34m\u001b[0m\u001b[0;34m\u001b[0m\u001b[0;34m\u001b[0m\u001b[0m\n",
            "\u001b[0;31mAttributeError\u001b[0m: 'frozenset' object has no attribute 'add'"
          ]
        }
      ]
    },
    {
      "cell_type": "markdown",
      "metadata": {
        "id": "tlHuy58XrIXg",
        "colab_type": "text"
      },
      "source": [
        "##**Словарь (dict)**\n",
        "\n",
        "коллекции произвольных объектов, записанные в виде *ключ : значение*\n",
        "(ключи уникальные, значения могут повторяться)\n",
        "\n",
        "( словари =ассоциативные массивы = хеш-таблицы)\n",
        "\n",
        "\n",
        "Давайте создадим словарь:\n",
        "\n",
        "    1. С помощью литерала:\n",
        "\n"
      ]
    },
    {
      "cell_type": "code",
      "metadata": {
        "id": "v7zkTUDf2aas",
        "colab_type": "code",
        "outputId": "749abf9c-cd81-4c6a-82fe-094dd08ca626",
        "colab": {
          "base_uri": "https://localhost:8080/",
          "height": 34
        }
      },
      "source": [
        "d = {}\n",
        "d"
      ],
      "execution_count": 0,
      "outputs": [
        {
          "output_type": "execute_result",
          "data": {
            "text/plain": [
              "{}"
            ]
          },
          "metadata": {
            "tags": []
          },
          "execution_count": 53
        }
      ]
    },
    {
      "cell_type": "code",
      "metadata": {
        "id": "FWEpd9fTMCb_",
        "colab_type": "code",
        "outputId": "688f10de-468e-41e9-f427-ee08a72fc2e6",
        "colab": {
          "base_uri": "https://localhost:8080/",
          "height": 34
        }
      },
      "source": [
        "d = {'Jane': \"London\", 'Olga': \"Moscow\"} # Jane, Olga - это ключи, London, Moscow - значения\n",
        "d"
      ],
      "execution_count": 0,
      "outputs": [
        {
          "output_type": "execute_result",
          "data": {
            "text/plain": [
              "{'Jane': 'London', 'Olga': 'Moscow'}"
            ]
          },
          "metadata": {
            "tags": []
          },
          "execution_count": 55
        }
      ]
    },
    {
      "cell_type": "markdown",
      "metadata": {
        "id": "zD0WunDYNCgK",
        "colab_type": "text"
      },
      "source": [
        "    2.  с помощью функции dict()"
      ]
    },
    {
      "cell_type": "code",
      "metadata": {
        "id": "OegQIs_HM9PH",
        "colab_type": "code",
        "outputId": "35de0709-e581-4c06-e29f-eb2661619043",
        "colab": {
          "base_uri": "https://localhost:8080/",
          "height": 34
        }
      },
      "source": [
        "d = dict(short='dict', long='dictionary')\n",
        "d"
      ],
      "execution_count": 0,
      "outputs": [
        {
          "output_type": "execute_result",
          "data": {
            "text/plain": [
              "{'long': 'dictionary', 'short': 'dict'}"
            ]
          },
          "metadata": {
            "tags": []
          },
          "execution_count": 56
        }
      ]
    },
    {
      "cell_type": "markdown",
      "metadata": {
        "id": "EKOrrZLqN1J7",
        "colab_type": "text"
      },
      "source": [
        "    3. с помощью генераторов словарей (почти как генераторы списков)\n",
        "\n"
      ]
    },
    {
      "cell_type": "code",
      "metadata": {
        "id": "GBmRj0fxN9ls",
        "colab_type": "code",
        "outputId": "01714a8c-5cb9-483b-ec57-ddb1194d53b3",
        "colab": {
          "base_uri": "https://localhost:8080/",
          "height": 34
        }
      },
      "source": [
        "d = {a: a ** 2 for a in range(7)}\n",
        "d\n"
      ],
      "execution_count": 0,
      "outputs": [
        {
          "output_type": "execute_result",
          "data": {
            "text/plain": [
              "{0: 0, 1: 1, 2: 4, 3: 9, 4: 16, 5: 25, 6: 36}"
            ]
          },
          "metadata": {
            "tags": []
          },
          "execution_count": 58
        }
      ]
    },
    {
      "cell_type": "markdown",
      "metadata": {
        "id": "8dZ0JjiBNSJD",
        "colab_type": "text"
      },
      "source": [
        "##с помощью метода fromkeys:\n"
      ]
    },
    {
      "cell_type": "code",
      "metadata": {
        "id": "VFCqm0fQNNdF",
        "colab_type": "code",
        "outputId": "9130d54d-6e84-49c1-8eec-5508372af4b8",
        "colab": {
          "base_uri": "https://localhost:8080/",
          "height": 34
        }
      },
      "source": [
        "d = dict.fromkeys(['a', 'b'])\n",
        "d"
      ],
      "execution_count": 0,
      "outputs": [
        {
          "output_type": "execute_result",
          "data": {
            "text/plain": [
              "{'a': None, 'b': None}"
            ]
          },
          "metadata": {
            "tags": []
          },
          "execution_count": 59
        }
      ]
    },
    {
      "cell_type": "code",
      "metadata": {
        "id": "SJEYT0FnOQ17",
        "colab_type": "code",
        "outputId": "1aa60338-4fd6-41df-eef5-bae7248e42c4",
        "colab": {
          "base_uri": "https://localhost:8080/",
          "height": 34
        }
      },
      "source": [
        "d = dict.fromkeys(['a', 'b'], 100)\n",
        "d"
      ],
      "execution_count": 0,
      "outputs": [
        {
          "output_type": "execute_result",
          "data": {
            "text/plain": [
              "{'a': 100, 'b': 100}"
            ]
          },
          "metadata": {
            "tags": []
          },
          "execution_count": 60
        }
      ]
    },
    {
      "cell_type": "markdown",
      "metadata": {
        "id": "q3pHPiUEN-o4",
        "colab_type": "text"
      },
      "source": [
        "###Теперь попробуем добавить записей в словарь и извлечь значения ключей\n",
        "\n",
        "извлекается синтаксисом: название_переменной_словаря[ключ]"
      ]
    },
    {
      "cell_type": "code",
      "metadata": {
        "id": "T-ie4DV8Or3-",
        "colab_type": "code",
        "outputId": "12465159-b1df-4804-ff27-bc36f145c5ba",
        "colab": {
          "base_uri": "https://localhost:8080/",
          "height": 34
        }
      },
      "source": [
        "d = {1: 2, 2: 4, 3: 9}\n",
        "d[1] # достаем значение по ключу 1"
      ],
      "execution_count": 0,
      "outputs": [
        {
          "output_type": "execute_result",
          "data": {
            "text/plain": [
              "2"
            ]
          },
          "metadata": {
            "tags": []
          },
          "execution_count": 77
        }
      ]
    },
    {
      "cell_type": "code",
      "metadata": {
        "id": "OBQcdKctOw5y",
        "colab_type": "code",
        "outputId": "89d9165b-67d8-42fd-97f9-a5df7736362c",
        "colab": {
          "base_uri": "https://localhost:8080/",
          "height": 34
        }
      },
      "source": [
        "d[3] = 4 ** 2 # добавляем пару, где ключ =4, а значение = 4**2\n",
        "d # посмотрим на весь словарь"
      ],
      "execution_count": 0,
      "outputs": [
        {
          "output_type": "execute_result",
          "data": {
            "text/plain": [
              "{1: 2, 2: 4, 3: 16}"
            ]
          },
          "metadata": {
            "tags": []
          },
          "execution_count": 69
        }
      ]
    },
    {
      "cell_type": "code",
      "metadata": {
        "id": "ejjlgfgGPFkh",
        "colab_type": "code",
        "outputId": "bc8cfbe6-3310-4359-bf9a-5cd8917ae422",
        "colab": {
          "base_uri": "https://localhost:8080/",
          "height": 164
        }
      },
      "source": [
        "# попробуем достать ключ, которого нет\n",
        "d[5]"
      ],
      "execution_count": 0,
      "outputs": [
        {
          "output_type": "error",
          "ename": "KeyError",
          "evalue": "ignored",
          "traceback": [
            "\u001b[0;31m---------------------------------------------------------------------------\u001b[0m",
            "\u001b[0;31mKeyError\u001b[0m                                  Traceback (most recent call last)",
            "\u001b[0;32m<ipython-input-66-a47182b4f775>\u001b[0m in \u001b[0;36m<module>\u001b[0;34m()\u001b[0m\n\u001b[0;32m----> 1\u001b[0;31m \u001b[0md\u001b[0m\u001b[0;34m[\u001b[0m\u001b[0;36m5\u001b[0m\u001b[0;34m]\u001b[0m\u001b[0;34m\u001b[0m\u001b[0;34m\u001b[0m\u001b[0m\n\u001b[0m",
            "\u001b[0;31mKeyError\u001b[0m: 5"
          ]
        }
      ]
    },
    {
      "cell_type": "markdown",
      "metadata": {
        "id": "IIBoVsIkNA-4",
        "colab_type": "text"
      },
      "source": [
        "**Итог:** присвоение по новому ключу расширяет словарь, присвоение по существующему ключу перезаписывает его, а попытка извлечения несуществующего ключа порождает исключение."
      ]
    },
    {
      "cell_type": "markdown",
      "metadata": {
        "id": "ZTR6wZxTMWiI",
        "colab_type": "text"
      },
      "source": [
        "###методы словарей"
      ]
    },
    {
      "cell_type": "code",
      "metadata": {
        "id": "nMJsPhroSpzh",
        "colab_type": "code",
        "colab": {}
      },
      "source": [
        "d = {'Jane': \"London\", 'Olga': \"Moscow\",\"Paul\":\"Paris\",\"Ivan\":\"Minsk\",\"Anne\":\"Copenhagen\"}"
      ],
      "execution_count": 0,
      "outputs": []
    },
    {
      "cell_type": "code",
      "metadata": {
        "id": "GZhU7aHmQHxo",
        "colab_type": "code",
        "outputId": "5c6aa53d-b892-4e47-9f10-d633a62258d4",
        "colab": {
          "base_uri": "https://localhost:8080/",
          "height": 34
        }
      },
      "source": [
        "d.values() # возвращает значения в словаре"
      ],
      "execution_count": 0,
      "outputs": [
        {
          "output_type": "execute_result",
          "data": {
            "text/plain": [
              "dict_values(['London', 'Moscow', 'Paris', 'Minsk', 'Copenhagen'])"
            ]
          },
          "metadata": {
            "tags": []
          },
          "execution_count": 13
        }
      ]
    },
    {
      "cell_type": "code",
      "metadata": {
        "id": "J-qIp2K0QXAJ",
        "colab_type": "code",
        "outputId": "503bb2a4-19cb-4339-fdd7-500c3628e2a2",
        "colab": {
          "base_uri": "https://localhost:8080/",
          "height": 34
        }
      },
      "source": [
        "d.keys() # возвращает ключи в словаре"
      ],
      "execution_count": 0,
      "outputs": [
        {
          "output_type": "execute_result",
          "data": {
            "text/plain": [
              "dict_keys(['Jane', 'Olga', 'Paul', 'Ivan', 'Anne'])"
            ]
          },
          "metadata": {
            "tags": []
          },
          "execution_count": 14
        }
      ]
    },
    {
      "cell_type": "code",
      "metadata": {
        "id": "lOiQ2FSJQeo2",
        "colab_type": "code",
        "outputId": "0ef7152b-146d-4bd1-ab55-8a244b352508",
        "colab": {
          "base_uri": "https://localhost:8080/",
          "height": 34
        }
      },
      "source": [
        "d.items() # возвращает пары (ключ, значение)"
      ],
      "execution_count": 0,
      "outputs": [
        {
          "output_type": "execute_result",
          "data": {
            "text/plain": [
              "dict_items([('Jane', 'London'), ('Olga', 'Moscow'), ('Paul', 'Paris'), ('Ivan', 'Minsk'), ('Anne', 'Copenhagen')])"
            ]
          },
          "metadata": {
            "tags": []
          },
          "execution_count": 16
        }
      ]
    },
    {
      "cell_type": "code",
      "metadata": {
        "id": "WiY3C4j1Qmr6",
        "colab_type": "code",
        "outputId": "28378acf-dcbb-444b-d0e7-302c75490b13",
        "colab": {
          "base_uri": "https://localhost:8080/",
          "height": 136
        }
      },
      "source": [
        "new_dict = {\"Alexander\":\"Bonn\", \"Julia\":\"Madrid\"}\n",
        "d.update(new_dict) # обновляет словарь, добавляя пары (ключ, значение) из other. Существующие ключи перезаписываются. Возвращает None (не новый словарь!)\n",
        "d"
      ],
      "execution_count": 0,
      "outputs": [
        {
          "output_type": "execute_result",
          "data": {
            "text/plain": [
              "{'Alexander': 'Bonn',\n",
              " 'Anne': 'Copenhagen',\n",
              " 'Ivan': 'Minsk',\n",
              " 'Jane': 'London',\n",
              " 'Julia': 'Madrid',\n",
              " 'Olga': 'Moscow',\n",
              " 'Paul': 'Paris'}"
            ]
          },
          "metadata": {
            "tags": []
          },
          "execution_count": 21
        }
      ]
    },
    {
      "cell_type": "code",
      "metadata": {
        "id": "HyWNwlktQ2W7",
        "colab_type": "code",
        "outputId": "e1b24824-c50e-4eb6-9543-6a0cbc41d34d",
        "colab": {
          "base_uri": "https://localhost:8080/",
          "height": 119
        }
      },
      "source": [
        "d.pop(\"Julia\") # удаляет ключ и возвращает значение. Если ключа нет, возвращает default (по умолчанию бросает исключение).\n",
        "d"
      ],
      "execution_count": 0,
      "outputs": [
        {
          "output_type": "execute_result",
          "data": {
            "text/plain": [
              "{'Alexander': 'Bonn',\n",
              " 'Anne': 'Copenhagen',\n",
              " 'Ivan': 'Minsk',\n",
              " 'Jane': 'London',\n",
              " 'Olga': 'Moscow',\n",
              " 'Paul': 'Paris'}"
            ]
          },
          "metadata": {
            "tags": []
          },
          "execution_count": 22
        }
      ]
    },
    {
      "cell_type": "code",
      "metadata": {
        "id": "CAdxOh82R04X",
        "colab_type": "code",
        "outputId": "48bcbf8a-86d1-4653-fcf5-bd550aa5d3f1",
        "colab": {
          "base_uri": "https://localhost:8080/",
          "height": 163
        }
      },
      "source": [
        "d.popitem() # удаляет и возвращает пару (ключ, значение)"
      ],
      "execution_count": 0,
      "outputs": [
        {
          "output_type": "error",
          "ename": "TypeError",
          "evalue": "ignored",
          "traceback": [
            "\u001b[0;31m---------------------------------------------------------------------------\u001b[0m",
            "\u001b[0;31mTypeError\u001b[0m                                 Traceback (most recent call last)",
            "\u001b[0;32m<ipython-input-19-2a8893a4ad81>\u001b[0m in \u001b[0;36m<module>\u001b[0;34m()\u001b[0m\n\u001b[0;32m----> 1\u001b[0;31m \u001b[0md\u001b[0m\u001b[0;34m.\u001b[0m\u001b[0mpopitem\u001b[0m\u001b[0;34m(\u001b[0m\u001b[0;34m'Julia'\u001b[0m\u001b[0;34m,\u001b[0m \u001b[0;34m'Madrid'\u001b[0m\u001b[0;34m)\u001b[0m \u001b[0;31m# удаляет и возвращает пару (ключ, значение)\u001b[0m\u001b[0;34m\u001b[0m\u001b[0;34m\u001b[0m\u001b[0m\n\u001b[0m",
            "\u001b[0;31mTypeError\u001b[0m: popitem() takes no arguments (2 given)"
          ]
        }
      ]
    },
    {
      "cell_type": "code",
      "metadata": {
        "id": "QytfsewlSNWQ",
        "colab_type": "code",
        "outputId": "15c8e33e-a28b-493b-c876-b8eb3f828696",
        "colab": {
          "base_uri": "https://localhost:8080/",
          "height": 34
        }
      },
      "source": [
        "d.get(\"Jane\") #выдает значение по ключу, ключ в скобках"
      ],
      "execution_count": 0,
      "outputs": [
        {
          "output_type": "execute_result",
          "data": {
            "text/plain": [
              "'London'"
            ]
          },
          "metadata": {
            "tags": []
          },
          "execution_count": 107
        }
      ]
    },
    {
      "cell_type": "code",
      "metadata": {
        "id": "9m-epn1EMXDl",
        "colab_type": "code",
        "outputId": "6174f29a-ca14-4a1a-b549-f85eccef7f5c",
        "colab": {
          "base_uri": "https://localhost:8080/",
          "height": 34
        }
      },
      "source": [
        "d.clear() # очищает словарь\n",
        "d"
      ],
      "execution_count": 0,
      "outputs": [
        {
          "output_type": "execute_result",
          "data": {
            "text/plain": [
              "{}"
            ]
          },
          "metadata": {
            "tags": []
          },
          "execution_count": 108
        }
      ]
    },
    {
      "cell_type": "markdown",
      "metadata": {
        "id": "1euc6k4zMf7z",
        "colab_type": "text"
      },
      "source": [
        "C кортежами, списками, словарями и множествами можно использовать циклы for и while "
      ]
    },
    {
      "cell_type": "markdown",
      "metadata": {
        "id": "Sl2iWnGs23DL",
        "colab_type": "text"
      },
      "source": [
        "###classwork\n",
        "\n",
        "\n",
        "Определяем лучшего писателя отзывов. \n",
        "У вас есть четрые отзыва на фильм С.Кубрика \"Сияние\". Вам нужно определить, кто из авторов отзывов обладает наиболее развитым лексиконом ( таковым считаем самый длинный набор неповторяющихся слов в пределах одного отзыва). \n",
        "    для определения вам нужно: \n",
        "\n",
        "    1. Предобработать строку (см методы строк), сведя все к нижнему регистру, убрать пунктуацию.\n",
        "\n",
        "    2. Превратить строку в список \n",
        "    3. определить уникальные элементы в списке (надо что-то сделать со списком)\n",
        "    4. определить размер уникальных слов в пределах автора\n",
        "    5. определить наилучгего\n",
        "\n"
      ]
    },
    {
      "cell_type": "code",
      "metadata": {
        "id": "j5Nv1se228QQ",
        "colab_type": "code",
        "colab": {}
      },
      "source": [
        "paul = \"When this film first came out in 1980, I remember going to see it on opening night. \\\n",
        "This movie just scared the life out of me, which is what still happens every time I rent the video for a re-watch. \\\n",
        "I have seen The Shining at least six or seven times, and I still believe it to be simultaneously and paradoxically one of the most \\\n",
        "frightening and yet funniest films I've ever seen. Frightening because of the extraordinarily effective use of long shots\\\n",
        " to create feelings of isolation, convex lens shots to enhance surrealism, and meticulously scored music to bring tension levels to virtually\\\n",
        "  unbearable levels. And \\\"funny\\\" because of Jack Nicholson's outrageous and in many cases ad-libbed onscreen antics.\\\n",
        "   It never ceases to amaze me how The Shining is actually two films in one, both a comedy AND a horror flick. \\\n",
        "   Ghostly apparitions of a strikingly menacing nature haunt much of the first half of the film, which gradually \\\n",
        "   evolve into ever more serious physical threats as time progresses. Be that as it may, there is surprisingly little \\\n",
        "   violence given the apparent intensity, but that is little comfort for the feint of heart as much of the terror is more\\\n",
        "    implied than manifest. The Shining is a truly frightening movie that works symbolically on many levels, but is basically \\\n",
        "    about human shortcomings and the way they can be exploited by unconscious forces combined with weakness of will.\\\n",
        "     This film scares the most just by using suggestion to turn your own imagination against you. The Shining is a\\\n",
        "      brilliant cinematic masterpiece, the likes of which have never been seen before or since. Highly, highly recommended.\"\n",
        "\n",
        "jane = \"Chilling, majestic piece of cinematic fright, this film combines all the great elements of an intellectual thriller,\\\n",
        " with the grand vision of a director who has the instinctual capacity to pace a moody horror flick within the realm of his filmmaking\\\n",
        "  genius that includes an eye for the original shot, an ice-cold soundtrack and an overall sense of dehumanization. This movie cuts through\\\n",
        "  all the typical horror movies like a red-poker through a human eye, as it allows the viewer to not only feel the violence and psychosis of\\\n",
        "   its protagonist, but appreciate the seed from which the derangement stems. One of the scariest things for people to face is the unknown \\\n",
        "   and this film presents its plotting with just that thought in mind. The setting is perfect, in a desolate winter hideaway. The quietness\\\n",
        "    of the moment is a character in itself, as the fermenting aggressor in Jack Torrance's mind wallows in this idle time, and breeds the\\\n",
        "     devil's new playground. I always felt like the presence of evil was dormant in all of our minds, with only the circumstances \\\n",
        "     of the moment, and the reasons given therein, needed to wake its violent ass and pounce over its unsuspecting victims. \\\n",
        "     This film is a perfect example of this very thought.\"\n",
        "\n",
        "kate = \"What can I say about the scariest movie I have ever seen that has not already been said by others more articulate than yours truly? \\\n",
        "Do not view this film expecting to see a screen version of the Stephen King novel. Rather, this is a Stanley Kubrick film, \\\n",
        "and to fully appreciate it one should judge it within the context of Kubrick's entire body of work as a serious filmmaker. Thematically, \\\n",
        "THE SHINING relates most closely to 2001: A SPACE ODYSSEY, though flourishes of PATHS OF GLORY, A CLOCKWORK ORANGE and BARRY LYNDON \\\n",
        "do manage to figure prominently in the film's overall technique. In a nutshell (no pun intended), Jack Nicholson and Shelly Duvall\\\n",
        " co-star with Oregon's Timberline Lodge - enlisted to portray the exterior of the Overlook Hotel - in a story that appears on the surface\\\n",
        "  to be about ghosts and insanity, but deals with issues of child abuse, immortality and duality. What the film might lack initially in\\\n",
        "   terms of coherence is more than made up for in technique. Garrett Brown (the male voice in those old Molson Golden commercials), \\\n",
        "   inventor of the Steadicam, chases young Danny Lloyd through hotel corridors and an amazing snow maze, providing magic-carpet-ride\\\n",
        "    fluidity to scenes that ten years earlier would have been impossible to accomplish. If the film starts off too slow, remember who \\\n",
        "    the director is. This man likes to take his time, and the results are well worth it: incredible aerial shots of the Overlook Hotel;\\\n",
        "     horrific Diane Arbus-inspired twins staring directly at us; portentous room 237 and its treasure trove of terrible secrets; \\\n",
        "     elevators that gush rivers of blood in slow-motion; Jack Torrance's immortality found via the hotel (akin to David \\\n",
        "     Bowman'\\s journey through the Space Gate); and some of the best use of pre-existing music ever assembled for a motion picture.\"\n",
        "\n",
        "\n",
        "nick = \"I was never a big fan of horror movies. They usually try cheap tricks to scare their audiences like loud noises and creepy children.\\\n",
        " They usually lack originality and contain overacting galore. The only horror movie i like was Stir of Echoes with Kevin Bacon. \\\n",
        " It was well-acted, and had a great story. But it has been joined and maybe even surpassed by Stanley Kubrick's The Shining, \\\n",
        " quite possibly the scariest movie ever. The movie follows a writer (Jack Nicholson) and his family who agree to watch over a hotel\\\n",
        "  while it is closed for the winter. There were rumors of the place being haunted and the last resident went crazy and murdered his family.\\\n",
        "   But Jack is convinced it will be OK and he can use the quiet to overcome his writer's block. After months of solitude and silence however, \\\n",
        "   Jack becomes a grumpy and later violent. Is it cabin fever or is there something in the hotel that is driving him mad? \\\n",
        "   One of the creepiest parts about the movie is the feeling of isolation that Kubrick makes. The hotel is very silent, and the rooms are huge,\\\n",
        "yet always empty. It is also eerily calm when Jack's son is riding his bike through the barren hallways. Jack Nicholson's performance \\\n",
        "is also one of his very best, scaring the hell out of me and making me sure to get out once in awhile. My favorite scene is when he is \\\n",
        "talking to a ghost from inside a walk-in refrigerator. The Shining is tops for horror movies in my opinion, beating the snot out\\\n",
        " of crap like the Ring and The Blair Witch Project. It may be a oldie, but is definitely a goodie.\"\n",
        "\n",
        "\n"
      ],
      "execution_count": 0,
      "outputs": []
    },
    {
      "cell_type": "code",
      "metadata": {
        "id": "y2KY8ENzJJom",
        "colab_type": "code",
        "colab": {}
      },
      "source": [
        ""
      ],
      "execution_count": 0,
      "outputs": []
    },
    {
      "cell_type": "code",
      "metadata": {
        "id": "6CT2EGrM7-G6",
        "colab_type": "code",
        "outputId": "78b6dd15-b136-45af-bb38-7eda200fbb41",
        "colab": {
          "base_uri": "https://localhost:8080/",
          "height": 34
        }
      },
      "source": [
        "import string\n",
        "from string import digits\n",
        "\n",
        "authors = {paul:\"Paul\",jane:\"Jane\",kate:\"Kate\",nick:\"Nick\"}\n",
        "\n",
        "cnt = 0 #счётчик уникальных слов\n",
        "\n",
        "for key in authors:\n",
        "    key.translate(str.maketrans('', '', string.punctuation)) #удаление пунктуации\n",
        "    key.translate(digits) # удаление цифр\n",
        "    key1 = key.lower().split() # нормализация и разбивка в лист \n",
        "    keyset = set(key1)  # превращение во множество\n",
        "    if cnt < len(keyset): # подсчет количества слов, запоминание наибольшего\n",
        "        cnt = len(keyset)\n",
        "        author = authors[key] # запоминание автора с наибольшим набором слов\n",
        "print(author)\n",
        "\n",
        "\n",
        "\n"
      ],
      "execution_count": 18,
      "outputs": [
        {
          "output_type": "stream",
          "text": [
            "Kate\n"
          ],
          "name": "stdout"
        }
      ]
    },
    {
      "cell_type": "markdown",
      "metadata": {
        "id": "hAgT52fP26V2",
        "colab_type": "text"
      },
      "source": [
        "##homework\n",
        "\n",
        "как обычно, разделена на два трека, Вы можете выбрать один из понравившихся\n",
        "\n",
        "*(или сделать оба, если есть время и желание)*"
      ]
    },
    {
      "cell_type": "markdown",
      "metadata": {
        "id": "cUiYXrAi3MMe",
        "colab_type": "text"
      },
      "source": [
        "###**easy mode**"
      ]
    },
    {
      "cell_type": "code",
      "metadata": {
        "id": "tzaMNGUt2qob",
        "colab_type": "code",
        "colab": {}
      },
      "source": [
        ""
      ],
      "execution_count": 0,
      "outputs": []
    },
    {
      "cell_type": "markdown",
      "metadata": {
        "id": "UxDt9KIA3RdR",
        "colab_type": "text"
      },
      "source": [
        "###**hard mode**"
      ]
    },
    {
      "cell_type": "code",
      "metadata": {
        "id": "hkAcvQSy3SWP",
        "colab_type": "code",
        "colab": {}
      },
      "source": [
        ""
      ],
      "execution_count": 0,
      "outputs": []
    }
  ]
}