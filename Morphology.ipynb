{
  "nbformat": 4,
  "nbformat_minor": 0,
  "metadata": {
    "colab": {
      "name": "Copy of morphology.ipynb",
      "provenance": [],
      "collapsed_sections": [
        "BBDkyu6kdeQO",
        "FK0Zwx3FSfug",
        "xmGbPTt9SfvH"
      ],
      "include_colab_link": true
    },
    "kernelspec": {
      "name": "python3",
      "display_name": "Python 3"
    }
  },
  "cells": [
    {
      "cell_type": "markdown",
      "metadata": {
        "id": "view-in-github",
        "colab_type": "text"
      },
      "source": [
        "<a href=\"https://colab.research.google.com/github/smekur/HSE_python_course_KS/blob/master/Morphology.ipynb\" target=\"_parent\"><img src=\"https://colab.research.google.com/assets/colab-badge.svg\" alt=\"Open In Colab\"/></a>"
      ]
    },
    {
      "cell_type": "markdown",
      "metadata": {
        "id": "qUCeat3VZWY6",
        "colab_type": "text"
      },
      "source": [
        "установим пайморфи и майстем"
      ]
    },
    {
      "cell_type": "code",
      "metadata": {
        "id": "tP2ugs4qYMIO",
        "colab_type": "code",
        "outputId": "21186ec5-4a01-475e-efe6-13f17a9e8858",
        "colab": {
          "base_uri": "https://localhost:8080/",
          "height": 394
        }
      },
      "source": [
        "!pip install pymystem==0.1.10\n",
        "!pip install pymorphy2[fast]"
      ],
      "execution_count": 0,
      "outputs": [
        {
          "output_type": "stream",
          "text": [
            "\u001b[31mERROR: Could not find a version that satisfies the requirement pymystem==0.1.10 (from versions: none)\u001b[0m\n",
            "\u001b[31mERROR: No matching distribution found for pymystem==0.1.10\u001b[0m\n",
            "Collecting pymorphy2[fast]\n",
            "\u001b[?25l  Downloading https://files.pythonhosted.org/packages/a3/33/fff9675c68b5f6c63ec8c6e6ff57827dda28a1fa5b2c2d727dffff92dd47/pymorphy2-0.8-py2.py3-none-any.whl (46kB)\n",
            "\u001b[K     |████████████████████████████████| 51kB 4.1MB/s \n",
            "\u001b[?25hRequirement already satisfied: docopt>=0.6 in /usr/local/lib/python3.6/dist-packages (from pymorphy2[fast]) (0.6.2)\n",
            "Collecting dawg-python>=0.7\n",
            "  Downloading https://files.pythonhosted.org/packages/6a/84/ff1ce2071d4c650ec85745766c0047ccc3b5036f1d03559fd46bb38b5eeb/DAWG_Python-0.7.2-py2.py3-none-any.whl\n",
            "Collecting pymorphy2-dicts<3.0,>=2.4\n",
            "\u001b[?25l  Downloading https://files.pythonhosted.org/packages/02/51/2465fd4f72328ab50877b54777764d928da8cb15b74e2680fc1bd8cb3173/pymorphy2_dicts-2.4.393442.3710985-py2.py3-none-any.whl (7.1MB)\n",
            "\u001b[K     |████████████████████████████████| 7.1MB 18.1MB/s \n",
            "\u001b[?25hCollecting DAWG>=0.7.3; extra == \"fast\"\n",
            "\u001b[?25l  Downloading https://files.pythonhosted.org/packages/29/c0/d8d967bcaa0b572f9dc1d878bbf5a7bfd5afa2102a5ae426731f6ce3bc26/DAWG-0.7.8.tar.gz (255kB)\n",
            "\u001b[K     |████████████████████████████████| 256kB 57.2MB/s \n",
            "\u001b[?25hBuilding wheels for collected packages: DAWG\n",
            "  Building wheel for DAWG (setup.py) ... \u001b[?25l\u001b[?25hdone\n",
            "  Created wheel for DAWG: filename=DAWG-0.7.8-cp36-cp36m-linux_x86_64.whl size=774178 sha256=e4af0c06cd354169309894c5d84bcd397fd2be95d29accbb7567a9ab4673200d\n",
            "  Stored in directory: /root/.cache/pip/wheels/d4/88/d0/4e4abc83eb8f59a71e8dbd8ba99fd5615a3af1fac1ef7f8825\n",
            "Successfully built DAWG\n",
            "Installing collected packages: dawg-python, pymorphy2-dicts, DAWG, pymorphy2\n",
            "Successfully installed DAWG-0.7.8 dawg-python-0.7.2 pymorphy2-0.8 pymorphy2-dicts-2.4.393442.3710985\n"
          ],
          "name": "stdout"
        }
      ]
    },
    {
      "cell_type": "code",
      "metadata": {
        "id": "KbL3tn0IZa70",
        "colab_type": "code",
        "colab": {}
      },
      "source": [
        "# pymorphy2[fast] - быстрая версия пайморфи. Если у вас windows, он вряд ли установится :("
      ],
      "execution_count": 0,
      "outputs": []
    },
    {
      "cell_type": "code",
      "metadata": {
        "id": "K_EYd7mJanYb",
        "colab_type": "code",
        "outputId": "e2b54c97-8c03-400c-99f3-3913bd0cb032",
        "colab": {
          "base_uri": "https://localhost:8080/",
          "height": 34
        }
      },
      "source": [
        "# импорты\n",
        "from pymorphy2 import MorphAnalyzer\n",
        "from pymystem3 import Mystem\n",
        "\n",
        "# сохраняем класс в переменную\n",
        "mystem = Mystem() \n",
        "morph = MorphAnalyzer() "
      ],
      "execution_count": 0,
      "outputs": [
        {
          "output_type": "stream",
          "text": [
            "Installing mystem to /root/.local/bin/mystem from http://download.cdn.yandex.net/mystem/mystem-3.1-linux-64bit.tar.gz\n"
          ],
          "name": "stderr"
        }
      ]
    },
    {
      "cell_type": "code",
      "metadata": {
        "id": "sAm6HB5hfS-A",
        "colab_type": "code",
        "colab": {}
      },
      "source": [
        "# сэмпл-текст\n",
        "text = \"\"\"Сама система состоит из камеры и программного обеспечения, которое анализирует фотографию.\n",
        " Суть технологии — сопоставление лиц, попавших в объектив, с изображениями из базы данных.\"\"\""
      ],
      "execution_count": 0,
      "outputs": []
    },
    {
      "cell_type": "markdown",
      "metadata": {
        "id": "BBDkyu6kdeQO",
        "colab_type": "text"
      },
      "source": [
        "## нормализация"
      ]
    },
    {
      "cell_type": "markdown",
      "metadata": {
        "id": "YJ05gNGxkY4I",
        "colab_type": "text"
      },
      "source": [
        "давайте приведем текст к нижнему регистру"
      ]
    },
    {
      "cell_type": "code",
      "metadata": {
        "id": "y1dUzBYcdiNk",
        "colab_type": "code",
        "outputId": "642fce98-83e8-4d8a-d338-716fe7f9da7c",
        "colab": {
          "base_uri": "https://localhost:8080/",
          "height": 54
        }
      },
      "source": [
        "text = text.lower()\n",
        "text"
      ],
      "execution_count": 0,
      "outputs": [
        {
          "output_type": "execute_result",
          "data": {
            "text/plain": [
              "'сама система состоит из камеры и программного обеспечения, которое анализирует фотографию.\\n суть технологии — сопоставление лиц, попавших в объектив, с изображениями из базы данных.'"
            ]
          },
          "metadata": {
            "tags": []
          },
          "execution_count": 11
        }
      ]
    },
    {
      "cell_type": "markdown",
      "metadata": {
        "id": "hr9pnX59bD3Q",
        "colab_type": "text"
      },
      "source": [
        "## токенизация"
      ]
    },
    {
      "cell_type": "markdown",
      "metadata": {
        "id": "5evdBA7CkeRC",
        "colab_type": "text"
      },
      "source": [
        "иногда текст нужно предварительно разбить на токены, отдельные элементы. Токенизаторов много, каждый делает это, руководствуясь своими правилами"
      ]
    },
    {
      "cell_type": "code",
      "metadata": {
        "id": "B0E_YZ0KarCA",
        "colab_type": "code",
        "outputId": "fb76b19a-4720-4576-a030-cc3b1c0a3d23",
        "colab": {
          "base_uri": "https://localhost:8080/",
          "height": 187
        }
      },
      "source": [
        "# gensim\n",
        "from gensim.utils import tokenize\n",
        "\n",
        "list(tokenize(text, lowercase=True))[:10]"
      ],
      "execution_count": 0,
      "outputs": [
        {
          "output_type": "execute_result",
          "data": {
            "text/plain": [
              "['сама',\n",
              " 'система',\n",
              " 'состоит',\n",
              " 'из',\n",
              " 'камеры',\n",
              " 'и',\n",
              " 'программного',\n",
              " 'обеспечения',\n",
              " 'которое',\n",
              " 'анализирует']"
            ]
          },
          "metadata": {
            "tags": []
          },
          "execution_count": 12
        }
      ]
    },
    {
      "cell_type": "code",
      "metadata": {
        "id": "VTGeMdVzb1h9",
        "colab_type": "code",
        "colab": {}
      },
      "source": [
        "# nltk\n",
        "from nltk import sent_tokenize\n",
        "from nltk.tokenize import word_tokenize, wordpunct_tokenize"
      ],
      "execution_count": 0,
      "outputs": []
    },
    {
      "cell_type": "code",
      "metadata": {
        "id": "PdAFdQp3cIuu",
        "colab_type": "code",
        "outputId": "5c1346eb-7554-4bd2-ccdc-007060cbfa27",
        "colab": {
          "base_uri": "https://localhost:8080/",
          "height": 187
        }
      },
      "source": [
        "wordpunct_tokenize(text)[:10]"
      ],
      "execution_count": 0,
      "outputs": [
        {
          "output_type": "execute_result",
          "data": {
            "text/plain": [
              "['сама',\n",
              " 'система',\n",
              " 'состоит',\n",
              " 'из',\n",
              " 'камеры',\n",
              " 'и',\n",
              " 'программного',\n",
              " 'обеспечения',\n",
              " ',',\n",
              " 'которое']"
            ]
          },
          "metadata": {
            "tags": []
          },
          "execution_count": 14
        }
      ]
    },
    {
      "cell_type": "code",
      "metadata": {
        "id": "7n8P5o8RgFd9",
        "colab_type": "code",
        "outputId": "42474dd5-6f5e-45d1-e945-de17f2ba3460",
        "colab": {
          "base_uri": "https://localhost:8080/",
          "height": 187
        }
      },
      "source": [
        "word_tokenize(text)[:10]"
      ],
      "execution_count": 0,
      "outputs": [
        {
          "output_type": "execute_result",
          "data": {
            "text/plain": [
              "['сама',\n",
              " 'система',\n",
              " 'состоит',\n",
              " 'из',\n",
              " 'камеры',\n",
              " 'и',\n",
              " 'программного',\n",
              " 'обеспечения',\n",
              " ',',\n",
              " 'которое']"
            ]
          },
          "metadata": {
            "tags": []
          },
          "execution_count": 16
        }
      ]
    },
    {
      "cell_type": "markdown",
      "metadata": {
        "id": "myoMhGgKjk1d",
        "colab_type": "text"
      },
      "source": [
        "## лемматизация и морфоанализ"
      ]
    },
    {
      "cell_type": "markdown",
      "metadata": {
        "id": "FK0Zwx3FSfug",
        "colab_type": "text"
      },
      "source": [
        "### Mystem"
      ]
    },
    {
      "cell_type": "markdown",
      "metadata": {
        "id": "Uei-SLNwSfuh",
        "colab_type": "text"
      },
      "source": [
        "\n",
        "Майстем работает немного лучше и сам токенизирует,\n",
        "поэтому можно в него засовывать сырой текст."
      ]
    },
    {
      "cell_type": "code",
      "metadata": {
        "id": "uDQbEwUaSfui",
        "colab_type": "code",
        "colab": {}
      },
      "source": [
        "# mystem.lemmatize функция лемматизации в майстеме\n",
        "# сам объект mystem нужно заранее инициализировать\n",
        "# мы сделали это в начале тетрадки строчкой \"mystem = Mystem()\"\n",
        "mystem.lemmatize(text)[:10]"
      ],
      "execution_count": 0,
      "outputs": []
    },
    {
      "cell_type": "code",
      "metadata": {
        "id": "XPOfkx4KSful",
        "colab_type": "code",
        "colab": {}
      },
      "source": [
        "t = 'Сегодняшняя заметка будет о сервисе отслеживания активности пользователя — CrazyEgg. Я не знаю кому обязан сервис таким говорящим именем, но оно работает, и хорошо.'"
      ],
      "execution_count": 0,
      "outputs": []
    },
    {
      "cell_type": "code",
      "metadata": {
        "id": "4foA60oJSfur",
        "colab_type": "code",
        "colab": {}
      },
      "source": [
        "# Если нужна грамматическая информация или надо сохранить ненормализованный текст,\n",
        "# есть функция mystem.analyze\n",
        "words_analized = mystem.analyze(text)"
      ],
      "execution_count": 0,
      "outputs": []
    },
    {
      "cell_type": "code",
      "metadata": {
        "scrolled": true,
        "id": "R97rdEmASfuu",
        "colab_type": "code",
        "colab": {}
      },
      "source": [
        "# возвращает она список словарей\n",
        "# каждый словарь имеет либо одно поле 'text' (когда попался пробел) или text и analysis\n",
        "# в analysis снова список словарей с вариантами разбора (первый самый вероятный)\n",
        "# поля в analysis - 'gr' - грамматическая информация, 'lex' - лемма\n",
        "# analysis - может быть пустым списком\n",
        "words_analized[:10]"
      ],
      "execution_count": 0,
      "outputs": []
    },
    {
      "cell_type": "code",
      "metadata": {
        "id": "zbbCXnFbSfuw",
        "colab_type": "code",
        "colab": {}
      },
      "source": [
        "print('Слово - ', words_analized[1]['text'])\n",
        "print('Разбор слова - ', words_analized[1]['analysis'][0])\n",
        "print('Лемма слова - ', words_analized[1]['analysis'][0]['lex'])\n",
        "print('Грамматическая информация слова - ', words_analized[1]['analysis'][0]['gr'])"
      ],
      "execution_count": 0,
      "outputs": []
    },
    {
      "cell_type": "code",
      "metadata": {
        "id": "FHs_zUYySfuz",
        "colab_type": "code",
        "colab": {}
      },
      "source": [
        "#леммы можно достать в одну строчку\n",
        "[parse['analysis'][0]['lex'] for parse in words_analized if parse.get('analysis')][:10]"
      ],
      "execution_count": 0,
      "outputs": []
    },
    {
      "cell_type": "markdown",
      "metadata": {
        "id": "U8fThMyuSfu2",
        "colab_type": "text"
      },
      "source": [
        "Mystem умеет разбивать текст на предложения, но через питоновский интерфейс это сделать не получится. Нужно скачать mystem отсюда - https://yandex.ru/dev/mystem/"
      ]
    },
    {
      "cell_type": "markdown",
      "metadata": {
        "id": "XyzD0fgRSfu2",
        "colab_type": "text"
      },
      "source": [
        "После этого сохранить текст в файл."
      ]
    },
    {
      "cell_type": "code",
      "metadata": {
        "id": "ZynIzto_Sfu3",
        "colab_type": "code",
        "colab": {}
      },
      "source": [
        "f = open('text.txt', 'w')\n",
        "f.write(text)\n",
        "f.close()"
      ],
      "execution_count": 0,
      "outputs": []
    },
    {
      "cell_type": "markdown",
      "metadata": {
        "id": "pMePKXv7Sfu8",
        "colab_type": "text"
      },
      "source": [
        "Из командной строки или из питона запустить майстем на нашем файле"
      ]
    },
    {
      "cell_type": "code",
      "metadata": {
        "id": "1OBbylC0Sfu9",
        "colab_type": "code",
        "colab": {}
      },
      "source": [
        "# про параметры почитайте в ./mystem -h\n",
        "os.system(' ./mystem -iscd --format json text.txt text_parsed.txt')"
      ],
      "execution_count": 0,
      "outputs": []
    },
    {
      "cell_type": "markdown",
      "metadata": {
        "id": "KPlh0mcpSfu_",
        "colab_type": "text"
      },
      "source": [
        "В целевом файле теперь лежит разобранный текст в jsonlines (json на каждой строчке)"
      ]
    },
    {
      "cell_type": "code",
      "metadata": {
        "id": "WpGdPDKCSfvB",
        "colab_type": "code",
        "colab": {}
      },
      "source": [
        "t = [json.loads(line) for line in open('text_parsed.txt')]"
      ],
      "execution_count": 0,
      "outputs": []
    },
    {
      "cell_type": "markdown",
      "metadata": {
        "id": "22nBY2GuSfvE",
        "colab_type": "text"
      },
      "source": [
        "Каждый объект в этом списке - параграф. Каждый параграф на предложения можно разбив по тегу '//s'"
      ]
    },
    {
      "cell_type": "markdown",
      "metadata": {
        "id": "XD0i8m_RSfvE",
        "colab_type": "text"
      },
      "source": [
        "Ещё так вызывать майстем может понадобиться, если важна скорость."
      ]
    },
    {
      "cell_type": "markdown",
      "metadata": {
        "id": "iInXST2ASfvF",
        "colab_type": "text"
      },
      "source": [
        "Недостатки Mystem: это продукт Яндекса с некоторыми ограничениями на использование, больше он не развивается."
      ]
    },
    {
      "cell_type": "markdown",
      "metadata": {
        "id": "2PPKPkPvSfvG",
        "colab_type": "text"
      },
      "source": [
        "Важным достоинством Mystem является то, что он работает не с отдельными словами, а с целым предложением. При определении нужной леммы учитывается контекст, что позволяет во многих случаях разрешать омонимию."
      ]
    },
    {
      "cell_type": "markdown",
      "metadata": {
        "id": "xmGbPTt9SfvH",
        "colab_type": "text"
      },
      "source": [
        "### Pymorphy"
      ]
    },
    {
      "cell_type": "markdown",
      "metadata": {
        "id": "AmEOXgExSfvK",
        "colab_type": "text"
      },
      "source": [
        "Pymorphy - открытый и развивается (можно поучаствовать на гитхабе)\n",
        "\n",
        "Ссылка на репозиторий: https://github.com/kmike/pymorphy2\n",
        "\n",
        "Попробуйте сразу установить быструю версию (pip install pymorphy2[fast])"
      ]
    },
    {
      "cell_type": "markdown",
      "metadata": {
        "id": "kacinkpvSfvL",
        "colab_type": "text"
      },
      "source": [
        "У него нет втстроенной токенизации и он расценивает всё как слово. Когда есть несколько вариантов, он выдает их с вероятностостями, которые расчитатны на корпусе со снятой неоднозначностью. Это лучше стемминга, но хуже майстема."
      ]
    },
    {
      "cell_type": "code",
      "metadata": {
        "id": "vLAH4hFGSfvM",
        "colab_type": "code",
        "colab": {}
      },
      "source": [
        "# основная функция - pymorphy.parse\n",
        "words_analized = [morph.parse(token) for token in word_tokenize(text)]"
      ],
      "execution_count": 0,
      "outputs": []
    },
    {
      "cell_type": "code",
      "metadata": {
        "id": "7EmhCkUfSfvT",
        "colab_type": "code",
        "colab": {}
      },
      "source": [
        "morph.parse(\"печь\")"
      ],
      "execution_count": 0,
      "outputs": []
    },
    {
      "cell_type": "code",
      "metadata": {
        "id": "2MVvEeqmSfvX",
        "colab_type": "code",
        "colab": {}
      },
      "source": [
        "# Она похожа на analyze в майстеме только возрващает список объектов Parse\n",
        "# Первый в списке - самый вероятный разбор (у каждого есть score)\n",
        "# Информация достается через атрибут (Parse.word - например)\n",
        "# Грамматическая информация хранится в объекте OpencorporaTag и из него удобно доставать\n",
        "# части речи или другие категории\n",
        "print('Первое слово - ', words_analized[0][0].word)\n",
        "print('Разбор первого слова - ', words_analized[0][0])\n",
        "print('Лемма первого слова - ', words_analized[0][0].normal_form)\n",
        "print('Грамматическая информация первого слова - ', words_analized[0][0].tag)\n",
        "print('Часть речи первого слова - ', words_analized[0][0].tag.POS)\n",
        "print('Род первого слова - ', words_analized[0][0].tag.gender)\n",
        "print('Число первого слова - ', words_analized[0][0].tag.number)\n",
        "print('Падеж первого слова - ', words_analized[0][0].tag.case)"
      ],
      "execution_count": 0,
      "outputs": []
    }
  ]
}